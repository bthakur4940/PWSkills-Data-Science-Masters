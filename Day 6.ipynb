{
 "cells": [
  {
   "cell_type": "markdown",
   "id": "37ee8bae-f9a7-425b-a290-319d682966a4",
   "metadata": {},
   "source": [
    "# Functions"
   ]
  },
  {
   "cell_type": "code",
   "execution_count": 1,
   "id": "45a129d5-a382-4cda-acec-f12212b213ba",
   "metadata": {},
   "outputs": [
    {
     "ename": "SyntaxError",
     "evalue": "incomplete input (2690612609.py, line 2)",
     "output_type": "error",
     "traceback": [
      "\u001b[0;36m  Cell \u001b[0;32mIn[1], line 2\u001b[0;36m\u001b[0m\n\u001b[0;31m    \u001b[0m\n\u001b[0m    ^\u001b[0m\n\u001b[0;31mSyntaxError\u001b[0m\u001b[0;31m:\u001b[0m incomplete input\n"
     ]
    }
   ],
   "source": [
    "def test():\n",
    "    "
   ]
  },
  {
   "cell_type": "code",
   "execution_count": 2,
   "id": "ed5b9a6c-a63a-42eb-9be6-f42fd5030722",
   "metadata": {},
   "outputs": [],
   "source": [
    "def test():\n",
    "    pass"
   ]
  },
  {
   "cell_type": "code",
   "execution_count": 3,
   "id": "504f5843-81c6-40fe-9160-8733fc378d7a",
   "metadata": {},
   "outputs": [],
   "source": [
    "def test1() :\n",
    "    print(\"First Function\")"
   ]
  },
  {
   "cell_type": "code",
   "execution_count": 5,
   "id": "e7e50bc6-a2a1-4d23-bb12-9b9d307c4786",
   "metadata": {},
   "outputs": [
    {
     "name": "stdout",
     "output_type": "stream",
     "text": [
      "First Function\n"
     ]
    }
   ],
   "source": [
    "test1()"
   ]
  },
  {
   "cell_type": "code",
   "execution_count": 6,
   "id": "b8da369c-669b-493a-baba-8bc46ec0cbfb",
   "metadata": {},
   "outputs": [
    {
     "name": "stdout",
     "output_type": "stream",
     "text": [
      "First Function\n"
     ]
    },
    {
     "ename": "TypeError",
     "evalue": "unsupported operand type(s) for +: 'NoneType' and 'str'",
     "output_type": "error",
     "traceback": [
      "\u001b[0;31m---------------------------------------------------------------------------\u001b[0m",
      "\u001b[0;31mTypeError\u001b[0m                                 Traceback (most recent call last)",
      "Cell \u001b[0;32mIn[6], line 1\u001b[0m\n\u001b[0;32m----> 1\u001b[0m \u001b[43mtest1\u001b[49m\u001b[43m(\u001b[49m\u001b[43m)\u001b[49m\u001b[43m \u001b[49m\u001b[38;5;241;43m+\u001b[39;49m\u001b[43m \u001b[49m\u001b[38;5;124;43m\"\u001b[39;49m\u001b[38;5;124;43mBhaskar\u001b[39;49m\u001b[38;5;124;43m\"\u001b[39;49m\n",
      "\u001b[0;31mTypeError\u001b[0m: unsupported operand type(s) for +: 'NoneType' and 'str'"
     ]
    }
   ],
   "source": [
    "test1() + \"Bhaskar\""
   ]
  },
  {
   "cell_type": "code",
   "execution_count": 7,
   "id": "c876db12-2b69-4a8e-bfe7-1ad88ce29eba",
   "metadata": {},
   "outputs": [
    {
     "name": "stdout",
     "output_type": "stream",
     "text": [
      "First Function\n"
     ]
    },
    {
     "data": {
      "text/plain": [
       "NoneType"
      ]
     },
     "execution_count": 7,
     "metadata": {},
     "output_type": "execute_result"
    }
   ],
   "source": [
    "type(test1())"
   ]
  },
  {
   "cell_type": "code",
   "execution_count": 8,
   "id": "b5add914-7a82-4c05-b607-ec98ad4b9712",
   "metadata": {},
   "outputs": [],
   "source": [
    "def test2():\n",
    "    return\" Thnis is mu second function\""
   ]
  },
  {
   "cell_type": "code",
   "execution_count": 9,
   "id": "5dddf423-f0e9-420e-bb3b-f772ce42a1b9",
   "metadata": {},
   "outputs": [
    {
     "data": {
      "text/plain": [
       "' Thnis is mu second function'"
      ]
     },
     "execution_count": 9,
     "metadata": {},
     "output_type": "execute_result"
    }
   ],
   "source": [
    "test2()"
   ]
  },
  {
   "cell_type": "code",
   "execution_count": 10,
   "id": "a3f7641d-178d-4af3-b269-0eaac205292a",
   "metadata": {},
   "outputs": [
    {
     "data": {
      "text/plain": [
       "str"
      ]
     },
     "execution_count": 10,
     "metadata": {},
     "output_type": "execute_result"
    }
   ],
   "source": [
    "type(test2())"
   ]
  },
  {
   "cell_type": "code",
   "execution_count": 12,
   "id": "54923117-337a-4511-b021-95ecb7bfa07b",
   "metadata": {},
   "outputs": [
    {
     "data": {
      "text/plain": [
       "' Thnis is mu second function Bhaskar'"
      ]
     },
     "execution_count": 12,
     "metadata": {},
     "output_type": "execute_result"
    }
   ],
   "source": [
    "test2() + \" Bhaskar\""
   ]
  },
  {
   "cell_type": "code",
   "execution_count": 13,
   "id": "58df4673-820d-4703-8823-167d6fe25b2b",
   "metadata": {},
   "outputs": [],
   "source": [
    "def test3():\n",
    "    return 1,4,5,6,\"Bhaskar\",\"PWSkills\""
   ]
  },
  {
   "cell_type": "code",
   "execution_count": 14,
   "id": "75234062-ec95-4d25-b82f-92cb1fbc520e",
   "metadata": {},
   "outputs": [
    {
     "data": {
      "text/plain": [
       "(1, 4, 5, 6, 'Bhaskar', 'PWSkills')"
      ]
     },
     "execution_count": 14,
     "metadata": {},
     "output_type": "execute_result"
    }
   ],
   "source": [
    "test3()"
   ]
  },
  {
   "cell_type": "code",
   "execution_count": 15,
   "id": "620ed2f5-c12a-4f2a-882e-7aee9da12f22",
   "metadata": {},
   "outputs": [
    {
     "data": {
      "text/plain": [
       "(1, 2, 3, 4, 5)"
      ]
     },
     "execution_count": 15,
     "metadata": {},
     "output_type": "execute_result"
    }
   ],
   "source": [
    "a=1,2,3,4,5\n",
    "a"
   ]
  },
  {
   "cell_type": "code",
   "execution_count": 22,
   "id": "fec606a7-db79-4158-ad1f-1ae7780634ee",
   "metadata": {},
   "outputs": [],
   "source": [
    "a,b,c,d=1,2,44.52,58.63"
   ]
  },
  {
   "cell_type": "code",
   "execution_count": 23,
   "id": "f380132f-02f5-408a-b043-c680ed6e92e8",
   "metadata": {},
   "outputs": [
    {
     "data": {
      "text/plain": [
       "1"
      ]
     },
     "execution_count": 23,
     "metadata": {},
     "output_type": "execute_result"
    }
   ],
   "source": [
    "a\n"
   ]
  },
  {
   "cell_type": "code",
   "execution_count": 24,
   "id": "1389952e-c4b7-4573-8a4f-05b9c6235252",
   "metadata": {},
   "outputs": [
    {
     "data": {
      "text/plain": [
       "2"
      ]
     },
     "execution_count": 24,
     "metadata": {},
     "output_type": "execute_result"
    }
   ],
   "source": [
    "b"
   ]
  },
  {
   "cell_type": "code",
   "execution_count": 25,
   "id": "73d490b2-5c83-4c62-8d9d-c8666c7eda90",
   "metadata": {},
   "outputs": [
    {
     "data": {
      "text/plain": [
       "44.52"
      ]
     },
     "execution_count": 25,
     "metadata": {},
     "output_type": "execute_result"
    }
   ],
   "source": [
    "c"
   ]
  },
  {
   "cell_type": "code",
   "execution_count": 26,
   "id": "ed6a1e29-abd8-4658-b46c-539ede34eb09",
   "metadata": {},
   "outputs": [
    {
     "data": {
      "text/plain": [
       "58.63"
      ]
     },
     "execution_count": 26,
     "metadata": {},
     "output_type": "execute_result"
    }
   ],
   "source": [
    "d"
   ]
  },
  {
   "cell_type": "code",
   "execution_count": 27,
   "id": "c57955f7-bb31-45a5-b19e-4a3757c0daac",
   "metadata": {},
   "outputs": [
    {
     "data": {
      "text/plain": [
       "1"
      ]
     },
     "execution_count": 27,
     "metadata": {},
     "output_type": "execute_result"
    }
   ],
   "source": [
    "test3()[0]"
   ]
  },
  {
   "cell_type": "code",
   "execution_count": 28,
   "id": "90e5e204-f454-46e6-97f7-bc48a31bdd09",
   "metadata": {},
   "outputs": [
    {
     "data": {
      "text/plain": [
       "('PWSkills', 'Bhaskar', 6, 5, 4, 1)"
      ]
     },
     "execution_count": 28,
     "metadata": {},
     "output_type": "execute_result"
    }
   ],
   "source": [
    "test3()[::-1]"
   ]
  },
  {
   "cell_type": "code",
   "execution_count": 30,
   "id": "dca070e6-c894-4e49-ad73-21e47c552187",
   "metadata": {},
   "outputs": [],
   "source": [
    "e,f,g,h,i,j=test3()"
   ]
  },
  {
   "cell_type": "code",
   "execution_count": 31,
   "id": "f053b249-8217-4e6a-a399-6621ba5e4321",
   "metadata": {},
   "outputs": [
    {
     "data": {
      "text/plain": [
       "1"
      ]
     },
     "execution_count": 31,
     "metadata": {},
     "output_type": "execute_result"
    }
   ],
   "source": [
    "e"
   ]
  },
  {
   "cell_type": "code",
   "execution_count": 32,
   "id": "708c1aab-b5be-41ba-95e4-9944f47185a8",
   "metadata": {},
   "outputs": [
    {
     "data": {
      "text/plain": [
       "4"
      ]
     },
     "execution_count": 32,
     "metadata": {},
     "output_type": "execute_result"
    }
   ],
   "source": [
    "f"
   ]
  },
  {
   "cell_type": "code",
   "execution_count": 33,
   "id": "7750fe29-62dc-4b0a-9ca7-9e8fddaa1787",
   "metadata": {},
   "outputs": [
    {
     "data": {
      "text/plain": [
       "5"
      ]
     },
     "execution_count": 33,
     "metadata": {},
     "output_type": "execute_result"
    }
   ],
   "source": [
    "g"
   ]
  },
  {
   "cell_type": "code",
   "execution_count": 34,
   "id": "15962b52-d9b6-4fcf-9827-e46cb79f100d",
   "metadata": {},
   "outputs": [
    {
     "data": {
      "text/plain": [
       "6"
      ]
     },
     "execution_count": 34,
     "metadata": {},
     "output_type": "execute_result"
    }
   ],
   "source": [
    "h"
   ]
  },
  {
   "cell_type": "code",
   "execution_count": 35,
   "id": "979e4fe3-d28a-4a1c-8f97-3e9a8b87642c",
   "metadata": {},
   "outputs": [
    {
     "data": {
      "text/plain": [
       "'Bhaskar'"
      ]
     },
     "execution_count": 35,
     "metadata": {},
     "output_type": "execute_result"
    }
   ],
   "source": [
    "i"
   ]
  },
  {
   "cell_type": "code",
   "execution_count": 36,
   "id": "2a17fc4c-09a2-43a1-bfa6-c3eae1110183",
   "metadata": {},
   "outputs": [
    {
     "data": {
      "text/plain": [
       "'PWSkills'"
      ]
     },
     "execution_count": 36,
     "metadata": {},
     "output_type": "execute_result"
    }
   ],
   "source": [
    "j"
   ]
  },
  {
   "cell_type": "code",
   "execution_count": 37,
   "id": "a219853b-d854-462c-a0c8-fd0119e15c2c",
   "metadata": {},
   "outputs": [],
   "source": [
    "def test4():\n",
    "    a= 3*4+5\n",
    "    return a"
   ]
  },
  {
   "cell_type": "code",
   "execution_count": 38,
   "id": "a79d9fe2-d84b-4d3b-9e61-9c870344d184",
   "metadata": {},
   "outputs": [
    {
     "data": {
      "text/plain": [
       "17"
      ]
     },
     "execution_count": 38,
     "metadata": {},
     "output_type": "execute_result"
    }
   ],
   "source": [
    "test4()"
   ]
  },
  {
   "cell_type": "code",
   "execution_count": 39,
   "id": "e12e3ea8-d5d7-48b1-a3e2-103d9eee3904",
   "metadata": {},
   "outputs": [
    {
     "data": {
      "text/plain": [
       "int"
      ]
     },
     "execution_count": 39,
     "metadata": {},
     "output_type": "execute_result"
    }
   ],
   "source": [
    "type(test4())"
   ]
  },
  {
   "cell_type": "code",
   "execution_count": 45,
   "id": "8a8b18cb-b239-4cd5-9316-fbeb3dd3e3e9",
   "metadata": {},
   "outputs": [],
   "source": [
    "def test5(x,y):\n",
    "    z = x*y\n",
    "    return z"
   ]
  },
  {
   "cell_type": "code",
   "execution_count": 46,
   "id": "64b4e5e6-daa8-4a23-9a61-fae2f6946778",
   "metadata": {},
   "outputs": [
    {
     "data": {
      "text/plain": [
       "165"
      ]
     },
     "execution_count": 46,
     "metadata": {},
     "output_type": "execute_result"
    }
   ],
   "source": [
    "test5(11,15)"
   ]
  },
  {
   "cell_type": "code",
   "execution_count": 47,
   "id": "8865af76-e60b-4d13-adc9-9b709fc58e8d",
   "metadata": {},
   "outputs": [],
   "source": [
    "def test6(x,y):\n",
    "    z = x+y\n",
    "    return z"
   ]
  },
  {
   "cell_type": "code",
   "execution_count": 48,
   "id": "82f3fa6a-516d-4ca2-9a8c-4aebafc7a317",
   "metadata": {},
   "outputs": [
    {
     "data": {
      "text/plain": [
       "'BhaskarThakur'"
      ]
     },
     "execution_count": 48,
     "metadata": {},
     "output_type": "execute_result"
    }
   ],
   "source": [
    "test6(\"Bhaskar\",\"Thakur\")"
   ]
  },
  {
   "cell_type": "code",
   "execution_count": 49,
   "id": "f699f8db-4fd7-465a-a24e-6388852f59f7",
   "metadata": {},
   "outputs": [
    {
     "data": {
      "text/plain": [
       "[1, 2, 35, 2, 6, 7]"
      ]
     },
     "execution_count": 49,
     "metadata": {},
     "output_type": "execute_result"
    }
   ],
   "source": [
    "test6([1,2,35],[2,6,7])"
   ]
  },
  {
   "cell_type": "code",
   "execution_count": 51,
   "id": "2f2dea15-926a-4da6-9596-aab2aad80bec",
   "metadata": {},
   "outputs": [
    {
     "data": {
      "text/plain": [
       "'BhaskarThakur'"
      ]
     },
     "execution_count": 51,
     "metadata": {},
     "output_type": "execute_result"
    }
   ],
   "source": [
    "test6(x=\"Bhaskar\",y=\"Thakur\")"
   ]
  },
  {
   "cell_type": "code",
   "execution_count": 52,
   "id": "e6cfde11-def2-4267-a9c2-a1fbc2a1b769",
   "metadata": {},
   "outputs": [
    {
     "data": {
      "text/plain": [
       "'ThakurBhaskar'"
      ]
     },
     "execution_count": 52,
     "metadata": {},
     "output_type": "execute_result"
    }
   ],
   "source": [
    "test6(y=\"Bhaskar\",x=\"Thakur\")"
   ]
  },
  {
   "cell_type": "code",
   "execution_count": 53,
   "id": "502e21be-f815-43a8-8a62-229824fbdb97",
   "metadata": {},
   "outputs": [],
   "source": [
    "l= [1,5,4,7,8,\"Bhaskar\",\"PWSKILLS\",[1,2,3,4,5]]\n",
    "\n",
    "def test7(a):\n",
    "    n=[]\n",
    "    for i in a :\n",
    "        if type(i)== int or type(i) == float:\n",
    "            n.append(i)\n",
    "    return n"
   ]
  },
  {
   "cell_type": "code",
   "execution_count": 54,
   "id": "8dd906cc-b1d5-4ff8-89eb-87832af5f8d7",
   "metadata": {},
   "outputs": [
    {
     "data": {
      "text/plain": [
       "[1, 5, 4, 7, 8]"
      ]
     },
     "execution_count": 54,
     "metadata": {},
     "output_type": "execute_result"
    }
   ],
   "source": [
    "test7(l)"
   ]
  },
  {
   "cell_type": "code",
   "execution_count": 57,
   "id": "627e943e-f7db-4227-a003-c3458347c13f",
   "metadata": {},
   "outputs": [],
   "source": [
    "def test8(a):\n",
    "    n=[]\n",
    "    for i in a :\n",
    "        if type(i)== int or type(i) == float:\n",
    "            n.append(i)\n",
    "        else:\n",
    "            if type(i)== list:\n",
    "                for j in i:\n",
    "                    if type(j)== int or type(j)==float:\n",
    "                        n.append(j)\n",
    "    return n"
   ]
  },
  {
   "cell_type": "code",
   "execution_count": 58,
   "id": "235ecbe0-9051-4bb0-a87e-934d17930852",
   "metadata": {},
   "outputs": [
    {
     "data": {
      "text/plain": [
       "[1, 5, 4, 7, 8, 1, 2, 3, 4, 5]"
      ]
     },
     "execution_count": 58,
     "metadata": {},
     "output_type": "execute_result"
    }
   ],
   "source": [
    "test8(l)"
   ]
  },
  {
   "cell_type": "code",
   "execution_count": 59,
   "id": "38ca8606-df89-4910-9804-029bff0cdd9f",
   "metadata": {},
   "outputs": [],
   "source": [
    "def test9(a,b,c,d,e):\n",
    "    pass"
   ]
  },
  {
   "cell_type": "code",
   "execution_count": 60,
   "id": "a4a75921-0a80-4329-b46c-f0b299a000de",
   "metadata": {},
   "outputs": [],
   "source": [
    "test9(1,2,3,4,5)"
   ]
  },
  {
   "cell_type": "code",
   "execution_count": 61,
   "id": "c416fe7b-97fa-4a73-a811-8be4838e418d",
   "metadata": {},
   "outputs": [
    {
     "ename": "TypeError",
     "evalue": "test9() takes 5 positional arguments but 7 were given",
     "output_type": "error",
     "traceback": [
      "\u001b[0;31m---------------------------------------------------------------------------\u001b[0m",
      "\u001b[0;31mTypeError\u001b[0m                                 Traceback (most recent call last)",
      "Cell \u001b[0;32mIn[61], line 1\u001b[0m\n\u001b[0;32m----> 1\u001b[0m \u001b[43mtest9\u001b[49m\u001b[43m(\u001b[49m\u001b[38;5;241;43m1\u001b[39;49m\u001b[43m,\u001b[49m\u001b[38;5;241;43m2\u001b[39;49m\u001b[43m,\u001b[49m\u001b[38;5;241;43m3\u001b[39;49m\u001b[43m,\u001b[49m\u001b[38;5;241;43m4\u001b[39;49m\u001b[43m,\u001b[49m\u001b[38;5;241;43m5\u001b[39;49m\u001b[43m,\u001b[49m\u001b[38;5;241;43m6\u001b[39;49m\u001b[43m,\u001b[49m\u001b[38;5;241;43m7\u001b[39;49m\u001b[43m)\u001b[49m\n",
      "\u001b[0;31mTypeError\u001b[0m: test9() takes 5 positional arguments but 7 were given"
     ]
    }
   ],
   "source": [
    "test9(1,2,3,4,5,6,7)"
   ]
  },
  {
   "cell_type": "code",
   "execution_count": 62,
   "id": "14919106-9b61-48e3-b6ca-917c7ce6152d",
   "metadata": {},
   "outputs": [],
   "source": [
    "def test10(*args):\n",
    "    return args"
   ]
  },
  {
   "cell_type": "code",
   "execution_count": 63,
   "id": "efe50164-5c22-447f-928f-8f652dc7d701",
   "metadata": {},
   "outputs": [
    {
     "data": {
      "text/plain": [
       "(1,)"
      ]
     },
     "execution_count": 63,
     "metadata": {},
     "output_type": "execute_result"
    }
   ],
   "source": [
    "test10(1)"
   ]
  },
  {
   "cell_type": "code",
   "execution_count": 65,
   "id": "ac1a35e3-d371-4da9-af8e-86803d276e90",
   "metadata": {},
   "outputs": [
    {
     "data": {
      "text/plain": [
       "(1, 2, 4, 5, 6, 7, 89)"
      ]
     },
     "execution_count": 65,
     "metadata": {},
     "output_type": "execute_result"
    }
   ],
   "source": [
    "test10(1,2,4,5,6,7,89)"
   ]
  },
  {
   "cell_type": "code",
   "execution_count": 66,
   "id": "ad050a9f-27bc-4cf2-86ff-6ef13bc9a06c",
   "metadata": {},
   "outputs": [
    {
     "data": {
      "text/plain": [
       "('Bhaskar', 1, 2, 3, 54, (5, 8, 9))"
      ]
     },
     "execution_count": 66,
     "metadata": {},
     "output_type": "execute_result"
    }
   ],
   "source": [
    "test10(\"Bhaskar\",1,2,3,54,(5,8,9))"
   ]
  },
  {
   "cell_type": "code",
   "execution_count": 67,
   "id": "d8694de2-90de-4b4e-970c-3460c52b8b6d",
   "metadata": {},
   "outputs": [],
   "source": [
    "def test11(*bhaskar):\n",
    "    return bhaskar"
   ]
  },
  {
   "cell_type": "code",
   "execution_count": 70,
   "id": "42d18ebd-c7ed-4389-8b30-e3c75fc540a8",
   "metadata": {},
   "outputs": [],
   "source": [
    "def test12(*args):\n",
    "    l=[]\n",
    "    for i in args:\n",
    "        if type(i) == list:\n",
    "            l.append(i)\n",
    "    return l\n",
    "    "
   ]
  },
  {
   "cell_type": "code",
   "execution_count": 71,
   "id": "083a0385-f991-45bb-a31c-2ca71ed130f6",
   "metadata": {},
   "outputs": [
    {
     "data": {
      "text/plain": [
       "('Bhaskar', 1, 2, 3, 54, (5, 8, 9))"
      ]
     },
     "execution_count": 71,
     "metadata": {},
     "output_type": "execute_result"
    }
   ],
   "source": [
    "test11(\"Bhaskar\",1,2,3,54,(5,8,9))"
   ]
  },
  {
   "cell_type": "code",
   "execution_count": 72,
   "id": "963cb72b-c8b2-467b-8385-94732f11f0ba",
   "metadata": {},
   "outputs": [
    {
     "data": {
      "text/plain": [
       "[[5, 8, 9]]"
      ]
     },
     "execution_count": 72,
     "metadata": {},
     "output_type": "execute_result"
    }
   ],
   "source": [
    "test12(\"Bhaskar\",1,2,3,54,[5,8,9])"
   ]
  },
  {
   "cell_type": "code",
   "execution_count": 74,
   "id": "05466da7-53b9-4b9b-a726-555eef5a9585",
   "metadata": {},
   "outputs": [],
   "source": [
    "def test13(**args): # gives dictionary\n",
    "    return args"
   ]
  },
  {
   "cell_type": "code",
   "execution_count": 75,
   "id": "2844f9e3-fdb2-4aa1-8757-c3e7e82f8890",
   "metadata": {},
   "outputs": [
    {
     "data": {
      "text/plain": [
       "{'a': 34, 'b': 35, 'c': [1, 2, 3], 'd': 'Bhaskar'}"
      ]
     },
     "execution_count": 75,
     "metadata": {},
     "output_type": "execute_result"
    }
   ],
   "source": [
    "test13(a=34,b=35,c=[1,2,3],d=\"Bhaskar\")"
   ]
  },
  {
   "cell_type": "code",
   "execution_count": 80,
   "id": "3acc9bac-a4d6-4baf-8c31-66c45b756015",
   "metadata": {},
   "outputs": [],
   "source": [
    "def test14(**kwargs):\n",
    "    for i in kwargs.keys():\n",
    "        if type(kwargs[i]) == list:\n",
    "            return i,kwargs[i]\n",
    "            "
   ]
  },
  {
   "cell_type": "code",
   "execution_count": 81,
   "id": "4e6daa22-4eef-49a2-b8fa-d66a50fa47c8",
   "metadata": {},
   "outputs": [
    {
     "data": {
      "text/plain": [
       "('c', [1, 2, 3])"
      ]
     },
     "execution_count": 81,
     "metadata": {},
     "output_type": "execute_result"
    }
   ],
   "source": [
    "test14(a=34,b=35,c=[1,2,3],d=\"Bhaskar\")"
   ]
  },
  {
   "cell_type": "code",
   "execution_count": 82,
   "id": "ea38a606-0897-4ea4-8ca0-0296b8561342",
   "metadata": {},
   "outputs": [],
   "source": [
    "def test15(*args,**kwargs):\n",
    "    return args,kwargs"
   ]
  },
  {
   "cell_type": "code",
   "execution_count": 83,
   "id": "0ef6d4b0-14ff-4383-bc2c-402bbba8de3f",
   "metadata": {},
   "outputs": [
    {
     "data": {
      "text/plain": [
       "((1, 2, 3, 4, 5), {'a': 15, 'b': 16})"
      ]
     },
     "execution_count": 83,
     "metadata": {},
     "output_type": "execute_result"
    }
   ],
   "source": [
    "test15(1,2,3,4,5,a=15,b=16)"
   ]
  },
  {
   "cell_type": "markdown",
   "id": "d0906e7f-57d8-4ff3-bae9-91c47a01d1f5",
   "metadata": {},
   "source": [
    "# Generator Function"
   ]
  },
  {
   "cell_type": "code",
   "execution_count": 84,
   "id": "ae357969-4b39-4829-89b4-d6ad77649d8c",
   "metadata": {},
   "outputs": [
    {
     "data": {
      "text/plain": [
       "range(1, 10)"
      ]
     },
     "execution_count": 84,
     "metadata": {},
     "output_type": "execute_result"
    }
   ],
   "source": [
    "range(1,10)"
   ]
  },
  {
   "cell_type": "code",
   "execution_count": 85,
   "id": "86a8f639-43c6-4e0f-8da2-1f8e143990c1",
   "metadata": {},
   "outputs": [
    {
     "name": "stdout",
     "output_type": "stream",
     "text": [
      "1\n",
      "2\n",
      "3\n",
      "4\n",
      "5\n",
      "6\n",
      "7\n",
      "8\n",
      "9\n"
     ]
    }
   ],
   "source": [
    "for i in range(1,10):\n",
    "    print(i)"
   ]
  },
  {
   "cell_type": "code",
   "execution_count": 86,
   "id": "4f38e5ea-b66a-426b-8a01-c9b82090b740",
   "metadata": {},
   "outputs": [],
   "source": [
    "def test17(a):\n",
    "    n=[]\n",
    "    for i in a:\n",
    "        if type(i)== int :\n",
    "            n.append(i)\n",
    "    return n"
   ]
  },
  {
   "cell_type": "code",
   "execution_count": 87,
   "id": "72e62591-8cdf-41c1-890a-87f897dc9eaf",
   "metadata": {},
   "outputs": [
    {
     "data": {
      "text/plain": [
       "[1, 2, 5, 3, 7, 8, 9, 3, 7, 4, 9, 2]"
      ]
     },
     "execution_count": 87,
     "metadata": {},
     "output_type": "execute_result"
    }
   ],
   "source": [
    "l=[1,2,5,3,7,8,9,3,7,4,9,2]\n",
    "test17(l)"
   ]
  },
  {
   "cell_type": "code",
   "execution_count": 88,
   "id": "39ba267b-b6c2-4fe0-af99-70eaf77c4e95",
   "metadata": {},
   "outputs": [],
   "source": [
    "# Fibonacci series"
   ]
  },
  {
   "cell_type": "code",
   "execution_count": 89,
   "id": "4bc9c988-ed00-493d-a624-e2f72e5d93a6",
   "metadata": {},
   "outputs": [],
   "source": [
    "# each subsequent number is the sum of prevous two numbers"
   ]
  },
  {
   "cell_type": "code",
   "execution_count": 91,
   "id": "84afc652-f7ba-4618-833b-0eec21ac3817",
   "metadata": {},
   "outputs": [],
   "source": [
    "def test_fibonacci(n):\n",
    "    a,b=0,1\n",
    "    for i in range(n):\n",
    "        yield a\n",
    "        a,b= b ,a+b"
   ]
  },
  {
   "cell_type": "code",
   "execution_count": 92,
   "id": "af89043d-29b5-4e40-98aa-84c41d2b9a18",
   "metadata": {},
   "outputs": [
    {
     "data": {
      "text/plain": [
       "<generator object test_fibonacci at 0x7f4837ac3530>"
      ]
     },
     "execution_count": 92,
     "metadata": {},
     "output_type": "execute_result"
    }
   ],
   "source": [
    "test_fibonacci(20)"
   ]
  },
  {
   "cell_type": "code",
   "execution_count": 93,
   "id": "baa59fa1-9cc8-4c11-80d2-2ce2bcd8765d",
   "metadata": {},
   "outputs": [
    {
     "name": "stdout",
     "output_type": "stream",
     "text": [
      "0\n",
      "1\n",
      "1\n",
      "2\n",
      "3\n",
      "5\n",
      "8\n",
      "13\n",
      "21\n",
      "34\n",
      "55\n",
      "89\n",
      "144\n",
      "233\n",
      "377\n",
      "610\n",
      "987\n",
      "1597\n",
      "2584\n",
      "4181\n"
     ]
    }
   ],
   "source": [
    "for i in test_fibonacci(20):\n",
    "    print(i)"
   ]
  },
  {
   "cell_type": "code",
   "execution_count": null,
   "id": "a48718fd-33c8-4ac3-af55-d754760952f9",
   "metadata": {},
   "outputs": [],
   "source": []
  }
 ],
 "metadata": {
  "kernelspec": {
   "display_name": "Python 3 (ipykernel)",
   "language": "python",
   "name": "python3"
  },
  "language_info": {
   "codemirror_mode": {
    "name": "ipython",
    "version": 3
   },
   "file_extension": ".py",
   "mimetype": "text/x-python",
   "name": "python",
   "nbconvert_exporter": "python",
   "pygments_lexer": "ipython3",
   "version": "3.10.8"
  }
 },
 "nbformat": 4,
 "nbformat_minor": 5
}
