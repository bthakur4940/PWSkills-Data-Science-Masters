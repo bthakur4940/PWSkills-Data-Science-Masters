{
 "cells": [
  {
   "cell_type": "markdown",
   "id": "4b9e4e66-d62b-4ff3-aaaa-7050ebb9d359",
   "metadata": {},
   "source": [
    "# Q1. What are the characteristics of the tuples? Is tuple immutable?\n",
    "\n",
    "## . Tuples are ordered, immutable, accepts duplicate values and are indexed"
   ]
  },
  {
   "cell_type": "markdown",
   "id": "260b9716-0871-4fd9-aee0-46e735322c3f",
   "metadata": {
    "tags": []
   },
   "source": [
    "# Q2. What are the two tuple methods in python? Give an example of each method. Give a reason why tuples have only two in-built methods as compared to Lists.\n",
    "\n",
    "## Two methods are count() and index().tuples have only two in-built methods as compared to Lists due to its immutability and its hashable\n",
    "\n"
   ]
  },
  {
   "cell_type": "code",
   "execution_count": 4,
   "id": "5bbaf161-ad6b-40f8-9201-0cb80247feb2",
   "metadata": {},
   "outputs": [],
   "source": [
    "t=(1,2,3,4,4,5,6,7)"
   ]
  },
  {
   "cell_type": "code",
   "execution_count": 5,
   "id": "7effdc7c-ac14-440c-a980-ef22e09c09a0",
   "metadata": {},
   "outputs": [
    {
     "data": {
      "text/plain": [
       "2"
      ]
     },
     "execution_count": 5,
     "metadata": {},
     "output_type": "execute_result"
    }
   ],
   "source": [
    "t.count(4)"
   ]
  },
  {
   "cell_type": "code",
   "execution_count": 6,
   "id": "4b327e96-18ef-4956-a338-5bdd84dc460c",
   "metadata": {},
   "outputs": [
    {
     "data": {
      "text/plain": [
       "5"
      ]
     },
     "execution_count": 6,
     "metadata": {},
     "output_type": "execute_result"
    }
   ],
   "source": [
    "t.index(5)"
   ]
  },
  {
   "cell_type": "markdown",
   "id": "bbb9a3a5-c5bb-4554-9c0c-e742e438ea5c",
   "metadata": {},
   "source": [
    "# Q3. Which collection datatypes in python do not allow duplicate items? Write a code using a set to remove duplicates from the given list."
   ]
  },
  {
   "cell_type": "code",
   "execution_count": 7,
   "id": "e4a8d3db-6923-4d28-a2cd-544ae09f14ca",
   "metadata": {},
   "outputs": [],
   "source": [
    "List = [1, 1, 1, 2, 1, 3, 1, 4, 2, 1, 2, 2, 2, 3, 2, 4, 3, 1, 3, 2, 3, 3, 3, 4, 4, 1, 4, 2, 4, 3, 4, 4]"
   ]
  },
  {
   "cell_type": "code",
   "execution_count": 14,
   "id": "55a21acc-a91a-4810-9e62-aed97c20d79a",
   "metadata": {},
   "outputs": [],
   "source": [
    "s1=set(List)"
   ]
  },
  {
   "cell_type": "code",
   "execution_count": 15,
   "id": "d7dea9e8-acf1-4c74-8bae-ffa157ca46a7",
   "metadata": {},
   "outputs": [
    {
     "data": {
      "text/plain": [
       "{1, 2, 3, 4}"
      ]
     },
     "execution_count": 15,
     "metadata": {},
     "output_type": "execute_result"
    }
   ],
   "source": [
    "s1"
   ]
  },
  {
   "cell_type": "markdown",
   "id": "9191a8b4-ed43-49d1-942f-7f998bfe43a4",
   "metadata": {},
   "source": [
    "# Q4. Explain the difference between the union() and update() methods for a set. Give an example of each method."
   ]
  },
  {
   "cell_type": "code",
   "execution_count": 24,
   "id": "f0e1a1bf-8684-460c-a1f8-b0ed0bcf1efe",
   "metadata": {},
   "outputs": [],
   "source": [
    "s2 ={3,4,5,6,7}\n",
    "s3 ={8,7,9,4,5}\n",
    "s4 ={11,15,17,8}"
   ]
  },
  {
   "cell_type": "code",
   "execution_count": 25,
   "id": "93dcf83f-8e37-4756-8cc1-e330acefd3ca",
   "metadata": {},
   "outputs": [
    {
     "data": {
      "text/plain": [
       "{3, 4, 5, 6, 7, 8, 9, 11, 15, 17}"
      ]
     },
     "execution_count": 25,
     "metadata": {},
     "output_type": "execute_result"
    }
   ],
   "source": [
    "s2.union(s3,s4) #Gives a new set of comn=bination of unique values of diffrent sets. However keeps the original sets intact."
   ]
  },
  {
   "cell_type": "code",
   "execution_count": 29,
   "id": "3aacf485-a429-4a02-be4c-d32c0b1c5ea9",
   "metadata": {},
   "outputs": [],
   "source": [
    "s2.update(s3) # modifies theoriginal set with unique values from anither set"
   ]
  },
  {
   "cell_type": "code",
   "execution_count": 32,
   "id": "022ec945-b4a9-40be-b095-20bb46583cc6",
   "metadata": {},
   "outputs": [
    {
     "data": {
      "text/plain": [
       "{3, 4, 5, 6, 7, 8, 9}"
      ]
     },
     "execution_count": 32,
     "metadata": {},
     "output_type": "execute_result"
    }
   ],
   "source": [
    "s2"
   ]
  },
  {
   "cell_type": "markdown",
   "id": "c2b9adfd-5323-4499-ab61-a528e0b6e1cc",
   "metadata": {},
   "source": [
    "# Q5. What is a dictionary? Give an example. Also, state whether a dictionary is ordered or unordered."
   ]
  },
  {
   "cell_type": "markdown",
   "id": "8a70731e-712d-490e-8ec0-b5d76a838d73",
   "metadata": {},
   "source": [
    "## Dictonary is a set of Keys and Values. It is an ordered collection and doesn't allow duplicates"
   ]
  },
  {
   "cell_type": "code",
   "execution_count": 35,
   "id": "339d6374-f5d2-4166-bc48-b974b30633a9",
   "metadata": {},
   "outputs": [],
   "source": [
    "Dict = {\"Names\" : (\"John\",\"Bob\",\"Michael\"), \"Age\" : (24,25,29), \"Location\" : (\"Delhi\",\"Mumbai\",\"Chennai\")}"
   ]
  },
  {
   "cell_type": "code",
   "execution_count": 36,
   "id": "e525b227-1064-48cb-8154-a2cd542dee0f",
   "metadata": {},
   "outputs": [
    {
     "data": {
      "text/plain": [
       "{'Names': ('John', 'Bob', 'Michael'),\n",
       " 'Age': (24, 25, 29),\n",
       " 'Location': ('Delhi', 'Mumbai', 'Chennai')}"
      ]
     },
     "execution_count": 36,
     "metadata": {},
     "output_type": "execute_result"
    }
   ],
   "source": [
    "Dict"
   ]
  },
  {
   "cell_type": "markdown",
   "id": "57022f2b-b619-4125-b645-dc148ef8ccb7",
   "metadata": {},
   "source": [
    "# Q6. Can we create a nested dictionary? If so, please give an example by creating a simple one-levelnested dictionary."
   ]
  },
  {
   "cell_type": "code",
   "execution_count": 38,
   "id": "e297c0dc-681e-484b-bb67-86f79e73ef2d",
   "metadata": {},
   "outputs": [
    {
     "data": {
      "text/plain": [
       "{'Course_name': {'Data science': 10000,\n",
       "  'Digital Marketing': 20000,\n",
       "  'MBA': 50000}}"
      ]
     },
     "execution_count": 38,
     "metadata": {},
     "output_type": "execute_result"
    }
   ],
   "source": [
    "D2 = {\"Course_name\" : {\"Data science\" : 10000, \"Digital Marketing\" : 20000,\"MBA\" : 50000}}\n",
    "D2\n",
    "      "
   ]
  },
  {
   "cell_type": "markdown",
   "id": "1f684016-64e0-4579-a222-45edb90c2715",
   "metadata": {},
   "source": [
    "# Q7. Using setdefault() method, create key named topics in the given dictionary and also add the value of\n",
    "### the key as this list ['Python', 'Machine Learning’, 'Deep Learning']\n",
    "### dict1 = {'language' : 'Python', 'course': 'Data Science Masters'}#"
   ]
  },
  {
   "cell_type": "code",
   "execution_count": 40,
   "id": "1d2ad65f-5927-4757-810a-c69d76b03a22",
   "metadata": {},
   "outputs": [],
   "source": [
    "dict1 = {'language' : 'Python', 'course': 'Data Science Masters'}"
   ]
  },
  {
   "cell_type": "code",
   "execution_count": 43,
   "id": "b8d1d80f-6733-450a-8f6f-138f17a48d91",
   "metadata": {},
   "outputs": [
    {
     "data": {
      "text/plain": [
       "\"['Python', 'Machine Learning’, 'Deep_Learning']\""
      ]
     },
     "execution_count": 43,
     "metadata": {},
     "output_type": "execute_result"
    }
   ],
   "source": [
    "dict1.setdefault(\"topics\",\"['Python', 'Machine Learning’, 'Deep_Learning']\")"
   ]
  },
  {
   "cell_type": "code",
   "execution_count": 44,
   "id": "dd389bbd-8b88-4d51-ad1d-4a2bf3eb48cd",
   "metadata": {},
   "outputs": [
    {
     "data": {
      "text/plain": [
       "{'language': 'Python',\n",
       " 'course': 'Data Science Masters',\n",
       " 'topics': \"['Python', 'Machine Learning’, 'Deep_Learning']\"}"
      ]
     },
     "execution_count": 44,
     "metadata": {},
     "output_type": "execute_result"
    }
   ],
   "source": [
    "dict1"
   ]
  },
  {
   "cell_type": "markdown",
   "id": "8463c9dc-c759-46d5-8bea-f246e18d804a",
   "metadata": {},
   "source": [
    "# Q8. What are the three view objects in dictionaries? Use the three in-built methods in python to display these three view objects for the given dictionary."
   ]
  },
  {
   "cell_type": "code",
   "execution_count": 45,
   "id": "e1a66e15-a0e1-4755-9241-6398b4667171",
   "metadata": {},
   "outputs": [],
   "source": [
    "dict2 = {'Sport': 'Cricket' , 'Teams': ['India', 'Australia', 'England', 'South Africa', 'Sri Lanka', 'New Zealand']}"
   ]
  },
  {
   "cell_type": "code",
   "execution_count": 46,
   "id": "c3ac8636-347d-47aa-a073-ab7b392141fd",
   "metadata": {},
   "outputs": [
    {
     "data": {
      "text/plain": [
       "dict_items([('Sport', 'Cricket'), ('Teams', ['India', 'Australia', 'England', 'South Africa', 'Sri Lanka', 'New Zealand'])])"
      ]
     },
     "execution_count": 46,
     "metadata": {},
     "output_type": "execute_result"
    }
   ],
   "source": [
    "dict2.items()"
   ]
  },
  {
   "cell_type": "code",
   "execution_count": 47,
   "id": "8e28b3ba-8f61-4790-9545-c3ce2be95d9e",
   "metadata": {},
   "outputs": [
    {
     "data": {
      "text/plain": [
       "dict_keys(['Sport', 'Teams'])"
      ]
     },
     "execution_count": 47,
     "metadata": {},
     "output_type": "execute_result"
    }
   ],
   "source": [
    "dict2.keys()"
   ]
  },
  {
   "cell_type": "code",
   "execution_count": 48,
   "id": "852013fa-4b13-423c-ba8b-3cef5d55a07b",
   "metadata": {},
   "outputs": [
    {
     "data": {
      "text/plain": [
       "dict_values(['Cricket', ['India', 'Australia', 'England', 'South Africa', 'Sri Lanka', 'New Zealand']])"
      ]
     },
     "execution_count": 48,
     "metadata": {},
     "output_type": "execute_result"
    }
   ],
   "source": [
    "dict2.values()"
   ]
  },
  {
   "cell_type": "code",
   "execution_count": null,
   "id": "e631901a-53e5-4991-aea8-f2dd46ebf6c1",
   "metadata": {},
   "outputs": [],
   "source": []
  }
 ],
 "metadata": {
  "kernelspec": {
   "display_name": "Python 3 (ipykernel)",
   "language": "python",
   "name": "python3"
  },
  "language_info": {
   "codemirror_mode": {
    "name": "ipython",
    "version": 3
   },
   "file_extension": ".py",
   "mimetype": "text/x-python",
   "name": "python",
   "nbconvert_exporter": "python",
   "pygments_lexer": "ipython3",
   "version": "3.10.8"
  }
 },
 "nbformat": 4,
 "nbformat_minor": 5
}
