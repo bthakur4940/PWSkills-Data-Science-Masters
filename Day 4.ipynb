{
 "cells": [
  {
   "cell_type": "code",
   "execution_count": 7,
   "id": "9d83c398-b479-4aa9-9b12-6755ed54e87e",
   "metadata": {},
   "outputs": [],
   "source": [
    "str1= \"My Name Is Bhaskar\"\n"
   ]
  },
  {
   "cell_type": "code",
   "execution_count": 8,
   "id": "83a3d1e2-4994-4cd8-8264-700d598af69f",
   "metadata": {},
   "outputs": [
    {
     "data": {
      "text/plain": [
       "'My name is bhaskar'"
      ]
     },
     "execution_count": 8,
     "metadata": {},
     "output_type": "execute_result"
    }
   ],
   "source": [
    "str1.capitalize()"
   ]
  },
  {
   "cell_type": "markdown",
   "id": "26603991-9bd6-4b1f-b6e6-106f9f7899d7",
   "metadata": {},
   "source": [
    "##Reversing a String"
   ]
  },
  {
   "cell_type": "code",
   "execution_count": 10,
   "id": "f0ef91ca-e16b-4944-82ce-50417f11ccc6",
   "metadata": {},
   "outputs": [
    {
     "data": {
      "text/plain": [
       "'raksahB sI emaN yM'"
      ]
     },
     "execution_count": 10,
     "metadata": {},
     "output_type": "execute_result"
    }
   ],
   "source": [
    "str1[::-1]"
   ]
  },
  {
   "cell_type": "code",
   "execution_count": 11,
   "id": "2c2d6b52-ab17-442a-9c41-c0e06b0da4a9",
   "metadata": {},
   "outputs": [
    {
     "data": {
      "text/plain": [
       "<reversed at 0x7f23a8112fb0>"
      ]
     },
     "execution_count": 11,
     "metadata": {},
     "output_type": "execute_result"
    }
   ],
   "source": [
    "reversed(str1)"
   ]
  },
  {
   "cell_type": "code",
   "execution_count": 12,
   "id": "83012841-af1d-48b8-925a-cd870313f388",
   "metadata": {},
   "outputs": [
    {
     "data": {
      "text/plain": [
       "'My Name Is Bhaskar'"
      ]
     },
     "execution_count": 12,
     "metadata": {},
     "output_type": "execute_result"
    }
   ],
   "source": [
    "str1"
   ]
  },
  {
   "cell_type": "code",
   "execution_count": 13,
   "id": "e64afba9-c679-41a1-98f9-569a514b8edf",
   "metadata": {},
   "outputs": [
    {
     "data": {
      "text/plain": [
       "'r a k s a h B   s I   e m a N   y M'"
      ]
     },
     "execution_count": 13,
     "metadata": {},
     "output_type": "execute_result"
    }
   ],
   "source": [
    "\" \".join(reversed(str1))"
   ]
  },
  {
   "cell_type": "code",
   "execution_count": 14,
   "id": "6cbda370-64df-4aef-80b5-1225e875808f",
   "metadata": {},
   "outputs": [
    {
     "data": {
      "text/plain": [
       "'M y   N a m e   I s   B h a s k a r'"
      ]
     },
     "execution_count": 14,
     "metadata": {},
     "output_type": "execute_result"
    }
   ],
   "source": [
    "\" \".join(str1)"
   ]
  },
  {
   "cell_type": "code",
   "execution_count": 16,
   "id": "6d1a19f3-85b3-48fd-bfac-9ef51b72f579",
   "metadata": {},
   "outputs": [
    {
     "data": {
      "text/plain": [
       "'r a k s a h B   s I   e m a N   y M'"
      ]
     },
     "execution_count": 16,
     "metadata": {},
     "output_type": "execute_result"
    }
   ],
   "source": [
    "\" \".join(str1[::-1])"
   ]
  },
  {
   "cell_type": "code",
   "execution_count": 17,
   "id": "67792d45-6eb3-4ee9-8079-47a2fadbf54d",
   "metadata": {},
   "outputs": [
    {
     "data": {
      "text/plain": [
       "'r/a/k/s/a/h/B/ /s/I/ /e/m/a/N/ /y/M'"
      ]
     },
     "execution_count": 17,
     "metadata": {},
     "output_type": "execute_result"
    }
   ],
   "source": [
    "\"/\".join(reversed(str1))"
   ]
  },
  {
   "cell_type": "code",
   "execution_count": 18,
   "id": "a2fbab65-7399-4dd1-b897-ec8a38bbf16a",
   "metadata": {},
   "outputs": [
    {
     "data": {
      "text/plain": [
       "'r*a*k*s*a*h*B* *s*I* *e*m*a*N* *y*M'"
      ]
     },
     "execution_count": 18,
     "metadata": {},
     "output_type": "execute_result"
    }
   ],
   "source": [
    "\"*\".join(reversed(str1))"
   ]
  },
  {
   "cell_type": "code",
   "execution_count": 20,
   "id": "10442b50-6f21-4392-8b87-de83acd5d498",
   "metadata": {},
   "outputs": [
    {
     "data": {
      "text/plain": [
       "['r',\n",
       " ' ',\n",
       " 'a',\n",
       " ' ',\n",
       " 'k',\n",
       " ' ',\n",
       " 's',\n",
       " ' ',\n",
       " 'a',\n",
       " ' ',\n",
       " 'h',\n",
       " ' ',\n",
       " 'B',\n",
       " ' ',\n",
       " ' ',\n",
       " ' ',\n",
       " 's',\n",
       " ' ',\n",
       " 'I',\n",
       " ' ',\n",
       " ' ',\n",
       " ' ',\n",
       " 'e',\n",
       " ' ',\n",
       " 'm',\n",
       " ' ',\n",
       " 'a',\n",
       " ' ',\n",
       " 'N',\n",
       " ' ',\n",
       " ' ',\n",
       " ' ',\n",
       " 'y',\n",
       " ' ',\n",
       " 'M']"
      ]
     },
     "execution_count": 20,
     "metadata": {},
     "output_type": "execute_result"
    }
   ],
   "source": [
    "list(\" \".join(reversed(str1)))"
   ]
  },
  {
   "cell_type": "code",
   "execution_count": 22,
   "id": "095ffafd-0792-4eb2-a415-4778df30b81a",
   "metadata": {},
   "outputs": [
    {
     "data": {
      "text/plain": [
       "['r',\n",
       " 'a',\n",
       " 'k',\n",
       " 's',\n",
       " 'a',\n",
       " 'h',\n",
       " 'B',\n",
       " ' ',\n",
       " 's',\n",
       " 'I',\n",
       " ' ',\n",
       " 'e',\n",
       " 'm',\n",
       " 'a',\n",
       " 'N',\n",
       " ' ',\n",
       " 'y',\n",
       " 'M']"
      ]
     },
     "execution_count": 22,
     "metadata": {},
     "output_type": "execute_result"
    }
   ],
   "source": [
    "list(reversed(str1))"
   ]
  },
  {
   "cell_type": "code",
   "execution_count": 31,
   "id": "b388d098-7806-4a05-b030-0fb7d06ea119",
   "metadata": {},
   "outputs": [],
   "source": [
    "str2=\" PW is a good company \""
   ]
  },
  {
   "cell_type": "code",
   "execution_count": 29,
   "id": "3e3c0b51-b88e-46d4-b706-ef869de23c25",
   "metadata": {},
   "outputs": [
    {
     "name": "stdout",
     "output_type": "stream",
     "text": [
      "raksahB sI emaN yM"
     ]
    }
   ],
   "source": [
    "for i in list(reversed(str1)):\n",
    "    print(i,end=\"\")"
   ]
  },
  {
   "cell_type": "code",
   "execution_count": 32,
   "id": "752b05ae-69f2-4159-8070-0481e99d2cf6",
   "metadata": {},
   "outputs": [
    {
     "data": {
      "text/plain": [
       "'PW is a good company'"
      ]
     },
     "execution_count": 32,
     "metadata": {},
     "output_type": "execute_result"
    }
   ],
   "source": [
    "str2.strip(\" \")"
   ]
  },
  {
   "cell_type": "code",
   "execution_count": 33,
   "id": "2148bd52-db99-4815-8fa4-1e716dcf2c2c",
   "metadata": {},
   "outputs": [
    {
     "data": {
      "text/plain": [
       "'PW is a good company '"
      ]
     },
     "execution_count": 33,
     "metadata": {},
     "output_type": "execute_result"
    }
   ],
   "source": [
    "str2.lstrip(\" \")"
   ]
  },
  {
   "cell_type": "code",
   "execution_count": 34,
   "id": "7988cb31-1bd8-40a7-95f6-b1ee52043757",
   "metadata": {},
   "outputs": [
    {
     "data": {
      "text/plain": [
       "' PW is a good company'"
      ]
     },
     "execution_count": 34,
     "metadata": {},
     "output_type": "execute_result"
    }
   ],
   "source": [
    "str2.rstrip(\" \")"
   ]
  },
  {
   "cell_type": "code",
   "execution_count": 35,
   "id": "e864614f-65b1-40df-9c9c-a8b74d35b6de",
   "metadata": {},
   "outputs": [],
   "source": [
    "str3=\"Greetings to PWSkills\""
   ]
  },
  {
   "cell_type": "code",
   "execution_count": 36,
   "id": "5792327c-fefe-4a13-9ea1-06ad89806e57",
   "metadata": {},
   "outputs": [],
   "source": [
    "name=\"Bhaskar\""
   ]
  },
  {
   "cell_type": "code",
   "execution_count": 38,
   "id": "c67efc48-74bc-4eeb-ac2d-9ee9b5d20c5e",
   "metadata": {},
   "outputs": [],
   "source": [
    "name=\"Thakur\""
   ]
  },
  {
   "cell_type": "code",
   "execution_count": 39,
   "id": "e1bf9c82-06c8-4559-b5ad-1f4ba67085fa",
   "metadata": {},
   "outputs": [
    {
     "data": {
      "text/plain": [
       "'Thakur'"
      ]
     },
     "execution_count": 39,
     "metadata": {},
     "output_type": "execute_result"
    }
   ],
   "source": [
    "name"
   ]
  },
  {
   "cell_type": "code",
   "execution_count": 40,
   "id": "95621282-9ca5-4844-94ca-a7e0eab2b12d",
   "metadata": {},
   "outputs": [
    {
     "data": {
      "text/plain": [
       "'Greetings from PWSkills'"
      ]
     },
     "execution_count": 40,
     "metadata": {},
     "output_type": "execute_result"
    }
   ],
   "source": [
    "str3.replace(\"to\",\"from\")"
   ]
  },
  {
   "cell_type": "code",
   "execution_count": 42,
   "id": "86947e5e-6b7c-4579-8b08-7ed1e4d0c9f1",
   "metadata": {},
   "outputs": [
    {
     "data": {
      "text/plain": [
       "'Greetings to PWSkills'"
      ]
     },
     "execution_count": 42,
     "metadata": {},
     "output_type": "execute_result"
    }
   ],
   "source": [
    "str3"
   ]
  },
  {
   "cell_type": "code",
   "execution_count": 43,
   "id": "a89203d9-1698-43f9-9e18-0ece857e96f8",
   "metadata": {},
   "outputs": [
    {
     "data": {
      "text/plain": [
       "'Treetings to PWSkills'"
      ]
     },
     "execution_count": 43,
     "metadata": {},
     "output_type": "execute_result"
    }
   ],
   "source": [
    "str3.replace(\"G\",\"T\")"
   ]
  },
  {
   "cell_type": "code",
   "execution_count": 45,
   "id": "f07e41a8-abf8-42a6-99dc-3f8f9efa89b9",
   "metadata": {},
   "outputs": [
    {
     "data": {
      "text/plain": [
       "'Hello   World'"
      ]
     },
     "execution_count": 45,
     "metadata": {},
     "output_type": "execute_result"
    }
   ],
   "source": [
    "\"Hello\\tWorld\".expandtabs()"
   ]
  },
  {
   "cell_type": "code",
   "execution_count": 46,
   "id": "dd236ca5-016e-49d1-af36-a0cde62fce81",
   "metadata": {},
   "outputs": [],
   "source": [
    "str4=\"Welcome to pwskills .Welcome to Dat cience Masters\""
   ]
  },
  {
   "cell_type": "code",
   "execution_count": 48,
   "id": "88d656b9-c0ba-4ea3-9708-612be062a2a6",
   "metadata": {},
   "outputs": [
    {
     "data": {
      "text/plain": [
       "'Welcome to pwskills .Welcome to Data Science Masters'"
      ]
     },
     "execution_count": 48,
     "metadata": {},
     "output_type": "execute_result"
    }
   ],
   "source": [
    "str4.replace(\"Dat\",\"Data\").replace(\"cience\",\"Science\")"
   ]
  },
  {
   "cell_type": "code",
   "execution_count": 49,
   "id": "fd1c57c9-3b37-4194-b218-6139da04ff4b",
   "metadata": {},
   "outputs": [
    {
     "data": {
      "text/plain": [
       "False"
      ]
     },
     "execution_count": 49,
     "metadata": {},
     "output_type": "execute_result"
    }
   ],
   "source": [
    "str4.isupper()"
   ]
  },
  {
   "cell_type": "code",
   "execution_count": 51,
   "id": "e24dd9e3-6eec-4d5f-9f45-6742d3fab563",
   "metadata": {},
   "outputs": [
    {
     "data": {
      "text/plain": [
       "False"
      ]
     },
     "execution_count": 51,
     "metadata": {},
     "output_type": "execute_result"
    }
   ],
   "source": [
    "str4.islower()"
   ]
  },
  {
   "cell_type": "code",
   "execution_count": 52,
   "id": "64c2da21-d494-4b2a-97eb-14deb49714ee",
   "metadata": {},
   "outputs": [],
   "source": [
    "str5=\"KRISH\""
   ]
  },
  {
   "cell_type": "code",
   "execution_count": 53,
   "id": "0a2230b3-0f07-4250-b581-4c45fd5f70f7",
   "metadata": {},
   "outputs": [
    {
     "data": {
      "text/plain": [
       "True"
      ]
     },
     "execution_count": 53,
     "metadata": {},
     "output_type": "execute_result"
    }
   ],
   "source": [
    "str5.isupper()"
   ]
  },
  {
   "cell_type": "code",
   "execution_count": 54,
   "id": "88e23924-2cc5-4eb1-b1a6-34aab5dc3716",
   "metadata": {},
   "outputs": [
    {
     "data": {
      "text/plain": [
       "False"
      ]
     },
     "execution_count": 54,
     "metadata": {},
     "output_type": "execute_result"
    }
   ],
   "source": [
    "str5.islower()"
   ]
  },
  {
   "cell_type": "code",
   "execution_count": 55,
   "id": "3068521d-a07d-453b-b60c-d7645ba017c4",
   "metadata": {},
   "outputs": [
    {
     "data": {
      "text/plain": [
       "False"
      ]
     },
     "execution_count": 55,
     "metadata": {},
     "output_type": "execute_result"
    }
   ],
   "source": [
    "str4.isspace()"
   ]
  },
  {
   "cell_type": "code",
   "execution_count": 56,
   "id": "2c804aea-c685-4c01-8af0-c81f14182809",
   "metadata": {},
   "outputs": [
    {
     "data": {
      "text/plain": [
       "True"
      ]
     },
     "execution_count": 56,
     "metadata": {},
     "output_type": "execute_result"
    }
   ],
   "source": [
    "\" \".isspace()"
   ]
  },
  {
   "cell_type": "code",
   "execution_count": 57,
   "id": "bcd69a5a-3b44-40ae-a4b1-bea0dea5d600",
   "metadata": {},
   "outputs": [
    {
     "name": "stdout",
     "output_type": "stream",
     "text": [
      "No Space\n"
     ]
    }
   ],
   "source": [
    "if str4.isspace():\n",
    "    print(\"Hello\")\n",
    "else:\n",
    "    print(\"No Space\")"
   ]
  },
  {
   "cell_type": "code",
   "execution_count": 58,
   "id": "812a29f6-b7ae-475f-acea-eb20ea755fbb",
   "metadata": {},
   "outputs": [],
   "source": [
    "str6=\"pwskills69\""
   ]
  },
  {
   "cell_type": "code",
   "execution_count": 59,
   "id": "6fc5cf52-3eca-4bef-865f-e446110d6600",
   "metadata": {},
   "outputs": [
    {
     "data": {
      "text/plain": [
       "True"
      ]
     },
     "execution_count": 59,
     "metadata": {},
     "output_type": "execute_result"
    }
   ],
   "source": [
    "str6.endswith(\"s\")"
   ]
  },
  {
   "cell_type": "code",
   "execution_count": 60,
   "id": "0e69f1f7-ee45-40d2-9ac0-b47417c1966d",
   "metadata": {},
   "outputs": [
    {
     "data": {
      "text/plain": [
       "True"
      ]
     },
     "execution_count": 60,
     "metadata": {},
     "output_type": "execute_result"
    }
   ],
   "source": [
    "str6.startswith(\"p\")"
   ]
  },
  {
   "cell_type": "code",
   "execution_count": 61,
   "id": "a308318a-bd7b-42a8-959a-fef9320cda10",
   "metadata": {},
   "outputs": [
    {
     "data": {
      "text/plain": [
       "False"
      ]
     },
     "execution_count": 61,
     "metadata": {},
     "output_type": "execute_result"
    }
   ],
   "source": [
    "str6.startswith(\"P\")"
   ]
  },
  {
   "cell_type": "code",
   "execution_count": 62,
   "id": "3ce79502-e9fc-4395-a7bf-60912cd7e9b2",
   "metadata": {},
   "outputs": [
    {
     "data": {
      "text/plain": [
       "True"
      ]
     },
     "execution_count": 62,
     "metadata": {},
     "output_type": "execute_result"
    }
   ],
   "source": [
    "str6.isalnum()"
   ]
  },
  {
   "cell_type": "code",
   "execution_count": 64,
   "id": "a98aefd7-e0fe-4d5f-9351-9f412611ca27",
   "metadata": {},
   "outputs": [
    {
     "data": {
      "text/plain": [
       "False"
      ]
     },
     "execution_count": 64,
     "metadata": {},
     "output_type": "execute_result"
    }
   ],
   "source": [
    "str6.isnumeric()"
   ]
  },
  {
   "cell_type": "code",
   "execution_count": 65,
   "id": "13e37564-e890-4e90-8772-6f0d099bbfc2",
   "metadata": {},
   "outputs": [],
   "source": [
    "## to count number of characters in the string"
   ]
  },
  {
   "cell_type": "code",
   "execution_count": 66,
   "id": "7cc11217-69b3-4401-acb1-ead3d7b1bb90",
   "metadata": {},
   "outputs": [
    {
     "name": "stdout",
     "output_type": "stream",
     "text": [
      "50\n"
     ]
    }
   ],
   "source": [
    "count=0\n",
    "for i in str4:\n",
    "    count=count+1\n",
    "print(count)"
   ]
  },
  {
   "cell_type": "code",
   "execution_count": 67,
   "id": "c783b608-164e-4868-8ca5-f0631f67b1f9",
   "metadata": {},
   "outputs": [
    {
     "data": {
      "text/plain": [
       "50"
      ]
     },
     "execution_count": 67,
     "metadata": {},
     "output_type": "execute_result"
    }
   ],
   "source": [
    "len(str4)"
   ]
  },
  {
   "cell_type": "code",
   "execution_count": 68,
   "id": "db721308-ab85-4123-bfc6-f7cb657f2af1",
   "metadata": {},
   "outputs": [
    {
     "name": "stdout",
     "output_type": "stream",
     "text": [
      "W\n",
      "e\n",
      "l\n",
      "c\n",
      "o\n",
      "m\n",
      "e\n",
      " \n",
      "t\n",
      "o\n",
      " \n",
      "p\n",
      "w\n",
      "s\n",
      "k\n",
      "i\n",
      "l\n",
      "l\n",
      "s\n",
      " \n",
      ".\n",
      "W\n",
      "e\n",
      "l\n",
      "c\n",
      "o\n",
      "m\n",
      "e\n",
      " \n",
      "t\n",
      "o\n",
      " \n",
      "D\n",
      "a\n",
      "t\n",
      " \n",
      "c\n",
      "i\n",
      "e\n",
      "n\n",
      "c\n",
      "e\n",
      " \n",
      "M\n",
      "a\n",
      "s\n",
      "t\n",
      "e\n",
      "r\n",
      "s\n"
     ]
    }
   ],
   "source": [
    "for i in range(len(str4)):\n",
    "    print(str4[i])"
   ]
  },
  {
   "cell_type": "code",
   "execution_count": 70,
   "id": "b82b7731-a31f-4768-8606-e8795b87c5d6",
   "metadata": {},
   "outputs": [
    {
     "name": "stdout",
     "output_type": "stream",
     "text": [
      "0 = W\n",
      "1 = e\n",
      "2 = l\n",
      "3 = c\n",
      "4 = o\n",
      "5 = m\n",
      "6 = e\n",
      "7 =  \n",
      "8 = t\n",
      "9 = o\n",
      "10 =  \n",
      "11 = p\n",
      "12 = w\n",
      "13 = s\n",
      "14 = k\n",
      "15 = i\n",
      "16 = l\n",
      "17 = l\n",
      "18 = s\n",
      "19 =  \n",
      "20 = .\n",
      "21 = W\n",
      "22 = e\n",
      "23 = l\n",
      "24 = c\n",
      "25 = o\n",
      "26 = m\n",
      "27 = e\n",
      "28 =  \n",
      "29 = t\n",
      "30 = o\n",
      "31 =  \n",
      "32 = D\n",
      "33 = a\n",
      "34 = t\n",
      "35 =  \n",
      "36 = c\n",
      "37 = i\n",
      "38 = e\n",
      "39 = n\n",
      "40 = c\n",
      "41 = e\n",
      "42 =  \n",
      "43 = M\n",
      "44 = a\n",
      "45 = s\n",
      "46 = t\n",
      "47 = e\n",
      "48 = r\n",
      "49 = s\n"
     ]
    }
   ],
   "source": [
    "for i in range(len(str4)):\n",
    "    print(i,\"=\",str4[i])"
   ]
  },
  {
   "cell_type": "code",
   "execution_count": 71,
   "id": "fd0cddb2-e8a0-44c0-a80c-4d7ed812d720",
   "metadata": {},
   "outputs": [],
   "source": [
    "# we can use index to iterate string reverse direction"
   ]
  },
  {
   "cell_type": "code",
   "execution_count": 75,
   "id": "7566ca95-e210-4806-8390-64cb5764c0ef",
   "metadata": {},
   "outputs": [
    {
     "name": "stdout",
     "output_type": "stream",
     "text": [
      "49 = s\n",
      "48 = r\n",
      "47 = e\n",
      "46 = t\n",
      "45 = s\n",
      "44 = a\n",
      "43 = M\n",
      "42 =  \n",
      "41 = e\n",
      "40 = c\n",
      "39 = n\n",
      "38 = e\n",
      "37 = i\n",
      "36 = c\n",
      "35 =  \n",
      "34 = t\n",
      "33 = a\n",
      "32 = D\n",
      "31 =  \n",
      "30 = o\n",
      "29 = t\n",
      "28 =  \n",
      "27 = e\n",
      "26 = m\n",
      "25 = o\n",
      "24 = c\n",
      "23 = l\n",
      "22 = e\n",
      "21 = W\n",
      "20 = .\n",
      "19 =  \n",
      "18 = s\n",
      "17 = l\n",
      "16 = l\n",
      "15 = i\n",
      "14 = k\n",
      "13 = s\n",
      "12 = w\n",
      "11 = p\n",
      "10 =  \n",
      "9 = o\n",
      "8 = t\n",
      "7 =  \n",
      "6 = e\n",
      "5 = m\n",
      "4 = o\n",
      "3 = c\n",
      "2 = l\n",
      "1 = e\n",
      "0 = W\n"
     ]
    }
   ],
   "source": [
    "for i in range(len(str4)-1,-1,-1):\n",
    "    print(i,\"=\",str4[i])"
   ]
  },
  {
   "cell_type": "code",
   "execution_count": 83,
   "id": "a83169e5-e2de-4501-89f1-5b1cc389d5c9",
   "metadata": {},
   "outputs": [
    {
     "name": "stdout",
     "output_type": "stream",
     "text": [
      "s\n",
      "l\n",
      "l\n",
      "i\n",
      "k\n",
      "s\n",
      "w\n",
      "p\n"
     ]
    }
   ],
   "source": [
    "st=\"pwskills\"\n",
    "ch=len(st)-1\n",
    "while ch >= 0:\n",
    "    print(st[ch])\n",
    "    ch=ch-1"
   ]
  },
  {
   "cell_type": "code",
   "execution_count": 84,
   "id": "5e45fd1e-87a7-4dac-a8bd-16a50362a73d",
   "metadata": {},
   "outputs": [
    {
     "data": {
      "text/plain": [
       "(49, -1, -1)"
      ]
     },
     "execution_count": 84,
     "metadata": {},
     "output_type": "execute_result"
    }
   ],
   "source": [
    "len(str4)-1,-1,-1"
   ]
  },
  {
   "cell_type": "code",
   "execution_count": 92,
   "id": "946075d3-ba47-4d80-9f1a-04c0831a1876",
   "metadata": {},
   "outputs": [
    {
     "ename": "SyntaxError",
     "evalue": "unmatched ']' (2834188080.py, line 1)",
     "output_type": "error",
     "traceback": [
      "\u001b[0;36m  Cell \u001b[0;32mIn[92], line 1\u001b[0;36m\u001b[0m\n\u001b[0;31m    str4-2: -1: -1]\u001b[0m\n\u001b[0m                  ^\u001b[0m\n\u001b[0;31mSyntaxError\u001b[0m\u001b[0;31m:\u001b[0m unmatched ']'\n"
     ]
    }
   ],
   "source": [
    "str4-2: -1: -1]"
   ]
  },
  {
   "cell_type": "code",
   "execution_count": 97,
   "id": "f2a9a984-c724-45a0-8a03-65a7f4d4f2a0",
   "metadata": {},
   "outputs": [
    {
     "data": {
      "text/plain": [
       "8"
      ]
     },
     "execution_count": 97,
     "metadata": {},
     "output_type": "execute_result"
    }
   ],
   "source": [
    "len(st)"
   ]
  },
  {
   "cell_type": "code",
   "execution_count": 95,
   "id": "f940ff07-7577-4e0b-a963-d4428b1fc926",
   "metadata": {},
   "outputs": [
    {
     "name": "stdout",
     "output_type": "stream",
     "text": [
      "p is not a vowel\n",
      "w is not a vowel\n",
      "s is not a vowel\n",
      "k is not a vowel\n",
      "i is a vowel\n",
      "l is not a vowel\n",
      "l is not a vowel\n",
      "s is not a vowel\n"
     ]
    }
   ],
   "source": [
    "Name = \"pwskills\"\n",
    "Vowels = \"AaEeIiOoUu\"\n",
    "for ch in Name:\n",
    "    if ch in Vowels:\n",
    "        print(\"{} is a vowel\".format(ch))\n",
    "    else:\n",
    "        print(\"{} is not a vowel\".format(ch))"
   ]
  },
  {
   "cell_type": "markdown",
   "id": "2dfd3ac5-fd1a-4ec3-b713-b66f42c20f30",
   "metadata": {},
   "source": [
    "#LIST"
   ]
  },
  {
   "cell_type": "code",
   "execution_count": 100,
   "id": "bd679cab-40ae-4cea-8ded-b64c26168657",
   "metadata": {},
   "outputs": [
    {
     "data": {
      "text/plain": [
       "['W',\n",
       " 'e',\n",
       " 'l',\n",
       " 'c',\n",
       " 'o',\n",
       " 'm',\n",
       " 'e',\n",
       " ' ',\n",
       " 't',\n",
       " 'o',\n",
       " ' ',\n",
       " 'p',\n",
       " 'w',\n",
       " 's',\n",
       " 'k',\n",
       " 'i',\n",
       " 'l',\n",
       " 'l',\n",
       " 's',\n",
       " ' ',\n",
       " '.',\n",
       " 'W',\n",
       " 'e',\n",
       " 'l',\n",
       " 'c',\n",
       " 'o',\n",
       " 'm',\n",
       " 'e',\n",
       " ' ',\n",
       " 't',\n",
       " 'o',\n",
       " ' ',\n",
       " 'D',\n",
       " 'a',\n",
       " 't',\n",
       " ' ',\n",
       " 'c',\n",
       " 'i',\n",
       " 'e',\n",
       " 'n',\n",
       " 'c',\n",
       " 'e',\n",
       " ' ',\n",
       " 'M',\n",
       " 'a',\n",
       " 's',\n",
       " 't',\n",
       " 'e',\n",
       " 'r',\n",
       " 's']"
      ]
     },
     "execution_count": 100,
     "metadata": {},
     "output_type": "execute_result"
    }
   ],
   "source": [
    "list(str4)"
   ]
  },
  {
   "cell_type": "code",
   "execution_count": 99,
   "id": "ab130de0-6e6a-4d1a-a476-bb07d9338179",
   "metadata": {},
   "outputs": [
    {
     "data": {
      "text/plain": [
       "['Welcome', 'to', 'pwskills', '.Welcome', 'to', 'Dat', 'cience', 'Masters']"
      ]
     },
     "execution_count": 99,
     "metadata": {},
     "output_type": "execute_result"
    }
   ],
   "source": [
    "list(str4.split(\" \"))"
   ]
  },
  {
   "cell_type": "code",
   "execution_count": 103,
   "id": "28f769f8-d5e0-4114-916d-f7d78788c518",
   "metadata": {},
   "outputs": [],
   "source": [
    "lst1=str4.split(\" \")"
   ]
  },
  {
   "cell_type": "code",
   "execution_count": 102,
   "id": "367b77cc-d50c-4066-bc9f-3e2331af3372",
   "metadata": {},
   "outputs": [],
   "source": [
    "# Both gives a list\n"
   ]
  },
  {
   "cell_type": "code",
   "execution_count": 104,
   "id": "67a4eb84-78f9-40c3-9cdf-2f8805111501",
   "metadata": {},
   "outputs": [
    {
     "data": {
      "text/plain": [
       "['Welcome', 'to', 'pwskills', '.Welcome', 'to', 'Dat', 'cience', 'Masters']"
      ]
     },
     "execution_count": 104,
     "metadata": {},
     "output_type": "execute_result"
    }
   ],
   "source": [
    "lst1"
   ]
  },
  {
   "cell_type": "code",
   "execution_count": 106,
   "id": "3d577c2e-3059-40d7-b42e-a33cb831860b",
   "metadata": {},
   "outputs": [
    {
     "data": {
      "text/plain": [
       "['to', 'pwskills', '.Welcome', 'to', 'Dat', 'cience', 'Masters']"
      ]
     },
     "execution_count": 106,
     "metadata": {},
     "output_type": "execute_result"
    }
   ],
   "source": [
    "lst1[1:]"
   ]
  },
  {
   "cell_type": "code",
   "execution_count": 107,
   "id": "d97d0e7e-3f77-4af1-98b8-b64c2df88716",
   "metadata": {},
   "outputs": [
    {
     "data": {
      "text/plain": [
       "'pwskills'"
      ]
     },
     "execution_count": 107,
     "metadata": {},
     "output_type": "execute_result"
    }
   ],
   "source": [
    "lst1[2]"
   ]
  },
  {
   "cell_type": "code",
   "execution_count": 108,
   "id": "11930d7d-9bd1-441a-ab55-60e1a67b730b",
   "metadata": {},
   "outputs": [],
   "source": [
    "lst1[2]=\"Datas\""
   ]
  },
  {
   "cell_type": "code",
   "execution_count": 109,
   "id": "7a084b17-88d9-44f7-8ff1-674b4b82d86e",
   "metadata": {},
   "outputs": [
    {
     "data": {
      "text/plain": [
       "['Welcome', 'to', 'Datas', '.Welcome', 'to', 'Dat', 'cience', 'Masters']"
      ]
     },
     "execution_count": 109,
     "metadata": {},
     "output_type": "execute_result"
    }
   ],
   "source": [
    "lst1"
   ]
  },
  {
   "cell_type": "code",
   "execution_count": 110,
   "id": "18672a02-8893-418c-907b-d4c5a17bfd7d",
   "metadata": {},
   "outputs": [
    {
     "data": {
      "text/plain": [
       "['to', 'cience']"
      ]
     },
     "execution_count": 110,
     "metadata": {},
     "output_type": "execute_result"
    }
   ],
   "source": [
    "lst1[-4::2]"
   ]
  },
  {
   "cell_type": "code",
   "execution_count": 113,
   "id": "a793ae17-45a7-4647-b596-3f39c839fed8",
   "metadata": {},
   "outputs": [
    {
     "data": {
      "text/plain": [
       "['to']"
      ]
     },
     "execution_count": 113,
     "metadata": {},
     "output_type": "execute_result"
    }
   ],
   "source": [
    "lst1[-4:-2:2]"
   ]
  },
  {
   "cell_type": "code",
   "execution_count": 114,
   "id": "e40177b3-9745-45dc-be6c-90db3d45a991",
   "metadata": {},
   "outputs": [
    {
     "data": {
      "text/plain": [
       "['Welcome', 'to', 'Datas', '.Welcome', 'to', 'Dat', 'cience', 'Masters']"
      ]
     },
     "execution_count": 114,
     "metadata": {},
     "output_type": "execute_result"
    }
   ],
   "source": [
    "lst1"
   ]
  },
  {
   "cell_type": "code",
   "execution_count": 115,
   "id": "158c3d56-65bc-40eb-9821-b24af0e3c3b2",
   "metadata": {},
   "outputs": [],
   "source": [
    "lst1[2]=\"PWSKills\""
   ]
  },
  {
   "cell_type": "code",
   "execution_count": 116,
   "id": "5b4b3b7f-d6b1-4096-afab-2bce7f7fea7b",
   "metadata": {},
   "outputs": [
    {
     "data": {
      "text/plain": [
       "['Welcome', 'to', 'PWSKills', '.Welcome', 'to', 'Dat', 'cience', 'Masters']"
      ]
     },
     "execution_count": 116,
     "metadata": {},
     "output_type": "execute_result"
    }
   ],
   "source": [
    "lst1"
   ]
  },
  {
   "cell_type": "code",
   "execution_count": 117,
   "id": "5659ad46-5b2a-422d-9e46-5e3c381c04e8",
   "metadata": {},
   "outputs": [
    {
     "ename": "TypeError",
     "evalue": "can only concatenate list (not \"int\") to list",
     "output_type": "error",
     "traceback": [
      "\u001b[0;31m---------------------------------------------------------------------------\u001b[0m",
      "\u001b[0;31mTypeError\u001b[0m                                 Traceback (most recent call last)",
      "Cell \u001b[0;32mIn[117], line 1\u001b[0m\n\u001b[0;32m----> 1\u001b[0m \u001b[43mlst1\u001b[49m\u001b[38;5;241;43m+\u001b[39;49m\u001b[38;5;241;43m1\u001b[39;49m\n",
      "\u001b[0;31mTypeError\u001b[0m: can only concatenate list (not \"int\") to list"
     ]
    }
   ],
   "source": [
    "lst1+1"
   ]
  },
  {
   "cell_type": "code",
   "execution_count": 118,
   "id": "d80c4c1c-4558-4a8e-85e5-fee7b0042ba1",
   "metadata": {},
   "outputs": [
    {
     "data": {
      "text/plain": [
       "['Welcome',\n",
       " 'to',\n",
       " 'PWSKills',\n",
       " '.Welcome',\n",
       " 'to',\n",
       " 'Dat',\n",
       " 'cience',\n",
       " 'Masters',\n",
       " 'new element',\n",
       " 3]"
      ]
     },
     "execution_count": 118,
     "metadata": {},
     "output_type": "execute_result"
    }
   ],
   "source": [
    "lst1+[\"new element\",3]"
   ]
  },
  {
   "cell_type": "code",
   "execution_count": 121,
   "id": "dcdbbae6-be61-4030-9351-c4eb6d3885d7",
   "metadata": {},
   "outputs": [],
   "source": [
    "lst2=lst1+[[\"new element\",3]]"
   ]
  },
  {
   "cell_type": "code",
   "execution_count": 122,
   "id": "082546cf-8f4a-4133-b6a6-13172206aec2",
   "metadata": {},
   "outputs": [
    {
     "data": {
      "text/plain": [
       "['new element', 3]"
      ]
     },
     "execution_count": 122,
     "metadata": {},
     "output_type": "execute_result"
    }
   ],
   "source": [
    "lst2[-1]"
   ]
  },
  {
   "cell_type": "code",
   "execution_count": 123,
   "id": "6b484261-3da1-407c-a54a-ef6376ee4dde",
   "metadata": {},
   "outputs": [
    {
     "data": {
      "text/plain": [
       "'new element'"
      ]
     },
     "execution_count": 123,
     "metadata": {},
     "output_type": "execute_result"
    }
   ],
   "source": [
    "lst2[-1][0]"
   ]
  },
  {
   "cell_type": "code",
   "execution_count": 124,
   "id": "840dc792-f1c7-422a-92d6-2d8e199d9d0b",
   "metadata": {},
   "outputs": [
    {
     "data": {
      "text/plain": [
       "3"
      ]
     },
     "execution_count": 124,
     "metadata": {},
     "output_type": "execute_result"
    }
   ],
   "source": [
    "lst2[-1][1]"
   ]
  },
  {
   "cell_type": "code",
   "execution_count": 125,
   "id": "c1460aa8-83f1-45b4-b6e0-4bfe5374134a",
   "metadata": {},
   "outputs": [
    {
     "data": {
      "text/plain": [
       "['Welcome',\n",
       " 'to',\n",
       " 'PWSKills',\n",
       " '.Welcome',\n",
       " 'to',\n",
       " 'Dat',\n",
       " 'cience',\n",
       " 'Masters',\n",
       " 'Welcome',\n",
       " 'to',\n",
       " 'PWSKills',\n",
       " '.Welcome',\n",
       " 'to',\n",
       " 'Dat',\n",
       " 'cience',\n",
       " 'Masters']"
      ]
     },
     "execution_count": 125,
     "metadata": {},
     "output_type": "execute_result"
    }
   ],
   "source": [
    "lst1 *2\n"
   ]
  },
  {
   "cell_type": "code",
   "execution_count": 128,
   "id": "63683e77-db65-4d0d-9e71-c5c59ece3475",
   "metadata": {},
   "outputs": [
    {
     "name": "stdout",
     "output_type": "stream",
     "text": [
      "Welcome\n",
      "to\n",
      "PWSKills\n",
      ".Welcome\n",
      "to\n",
      "Dat\n",
      "cience\n",
      "cience\n"
     ]
    }
   ],
   "source": [
    "for i in lst1:\n",
    "    print(i)\n",
    "    if i == \"cience\":\n",
    "        print(i)\n",
    "        break"
   ]
  },
  {
   "cell_type": "code",
   "execution_count": 129,
   "id": "278ae9cc-167c-4a87-adc7-7c0c8ec77906",
   "metadata": {},
   "outputs": [
    {
     "name": "stdout",
     "output_type": "stream",
     "text": [
      "present\n"
     ]
    }
   ],
   "source": [
    "if \"cience\" in lst1:\n",
    "    print(\"present\")"
   ]
  },
  {
   "cell_type": "code",
   "execution_count": 130,
   "id": "4a6e5b78-d60c-460b-9e9d-6955de0fb0a5",
   "metadata": {},
   "outputs": [
    {
     "name": "stdout",
     "output_type": "stream",
     "text": [
      "Masters\n"
     ]
    }
   ],
   "source": [
    "for element in lst1:\n",
    "    if element == \"Masters\":\n",
    "        print(element)\n",
    "        break"
   ]
  },
  {
   "cell_type": "code",
   "execution_count": 131,
   "id": "50d7b71f-4a00-438f-bdb5-be267db8c6e0",
   "metadata": {},
   "outputs": [
    {
     "data": {
      "text/plain": [
       "False"
      ]
     },
     "execution_count": 131,
     "metadata": {},
     "output_type": "execute_result"
    }
   ],
   "source": [
    "\"science\" in lst1"
   ]
  },
  {
   "cell_type": "code",
   "execution_count": 132,
   "id": "0e14b229-30d7-46ab-a05b-1adca1164607",
   "metadata": {},
   "outputs": [
    {
     "data": {
      "text/plain": [
       "True"
      ]
     },
     "execution_count": 132,
     "metadata": {},
     "output_type": "execute_result"
    }
   ],
   "source": [
    "\"cience\" in lst1"
   ]
  },
  {
   "cell_type": "code",
   "execution_count": 133,
   "id": "d2a4b35b-697d-43a8-8e7e-8bd3e723886e",
   "metadata": {},
   "outputs": [],
   "source": [
    "lst3=[\"Zebra\",\"Monkey\",\"Donkey\",\"Lion\"]\n",
    "lst4=[10,11,12,13,14,15,16,17]\n",
    "      "
   ]
  },
  {
   "cell_type": "code",
   "execution_count": 135,
   "id": "2f9b2c93-0628-4a14-acb3-a3551a08651e",
   "metadata": {},
   "outputs": [
    {
     "name": "stdout",
     "output_type": "stream",
     "text": [
      "Zebra\n"
     ]
    }
   ],
   "source": [
    "print(max(lst3))"
   ]
  },
  {
   "cell_type": "code",
   "execution_count": 136,
   "id": "db42f4ee-57fb-455f-97b2-c82c5812395a",
   "metadata": {},
   "outputs": [
    {
     "name": "stdout",
     "output_type": "stream",
     "text": [
      "17\n"
     ]
    }
   ],
   "source": [
    "print(max(lst4))"
   ]
  },
  {
   "cell_type": "code",
   "execution_count": 137,
   "id": "5ea9a5a1-3ce5-4e5f-9f37-f5be5e2222af",
   "metadata": {},
   "outputs": [
    {
     "name": "stdout",
     "output_type": "stream",
     "text": [
      "Donkey\n"
     ]
    }
   ],
   "source": [
    "print(min(lst3))"
   ]
  },
  {
   "cell_type": "code",
   "execution_count": 139,
   "id": "9badda57-ec5b-4e92-83c0-6fee112d74b5",
   "metadata": {},
   "outputs": [
    {
     "name": "stdout",
     "output_type": "stream",
     "text": [
      "10\n"
     ]
    }
   ],
   "source": [
    "print(min(lst4))"
   ]
  },
  {
   "cell_type": "code",
   "execution_count": 140,
   "id": "4e8b407e-9a0f-4ab1-8c94-e9ff417b4496",
   "metadata": {},
   "outputs": [
    {
     "data": {
      "text/plain": [
       "int"
      ]
     },
     "execution_count": 140,
     "metadata": {},
     "output_type": "execute_result"
    }
   ],
   "source": [
    "type(lst4[0])"
   ]
  },
  {
   "cell_type": "code",
   "execution_count": 141,
   "id": "7c8a7f05-0e6b-4afa-be9e-69618cf56c2c",
   "metadata": {},
   "outputs": [
    {
     "data": {
      "text/plain": [
       "int"
      ]
     },
     "execution_count": 141,
     "metadata": {},
     "output_type": "execute_result"
    }
   ],
   "source": [
    "type(10)"
   ]
  },
  {
   "cell_type": "code",
   "execution_count": 144,
   "id": "39d25e8e-ae23-4a80-92bb-afaf30acc2e6",
   "metadata": {},
   "outputs": [
    {
     "data": {
      "text/plain": [
       "True"
      ]
     },
     "execution_count": 144,
     "metadata": {},
     "output_type": "execute_result"
    }
   ],
   "source": [
    "9.999999999999999999999999999999 in lst4"
   ]
  },
  {
   "cell_type": "code",
   "execution_count": 145,
   "id": "68da2040-8711-4f70-8cf5-9f17a1ebf9e8",
   "metadata": {},
   "outputs": [
    {
     "data": {
      "text/plain": [
       "True"
      ]
     },
     "execution_count": 145,
     "metadata": {},
     "output_type": "execute_result"
    }
   ],
   "source": [
    "10.0 in lst4"
   ]
  },
  {
   "cell_type": "code",
   "execution_count": 147,
   "id": "a8025ec1-0206-4d8e-a4bc-e2ae75f21dda",
   "metadata": {},
   "outputs": [],
   "source": [
    "lst4.append(63)"
   ]
  },
  {
   "cell_type": "code",
   "execution_count": 148,
   "id": "d276db62-f0e8-4ed8-8153-f81f11c291ab",
   "metadata": {},
   "outputs": [
    {
     "data": {
      "text/plain": [
       "[10, 11, 12, 13, 14, 15, 16, 17, 63]"
      ]
     },
     "execution_count": 148,
     "metadata": {},
     "output_type": "execute_result"
    }
   ],
   "source": [
    "lst4"
   ]
  },
  {
   "cell_type": "code",
   "execution_count": 151,
   "id": "fdf0d647-b862-41e2-9f0f-a5d0536567d3",
   "metadata": {},
   "outputs": [],
   "source": [
    "lst4.append(lst3)"
   ]
  },
  {
   "cell_type": "code",
   "execution_count": 152,
   "id": "3318a696-9441-45cb-8702-af78fef429a3",
   "metadata": {},
   "outputs": [
    {
     "data": {
      "text/plain": [
       "[10,\n",
       " 11,\n",
       " 12,\n",
       " 13,\n",
       " 14,\n",
       " 15,\n",
       " 16,\n",
       " 17,\n",
       " 63,\n",
       " [['Zebra', 'Monkey', 'Donkey', 'Lion']],\n",
       " ['Zebra', 'Monkey', 'Donkey', 'Lion']]"
      ]
     },
     "execution_count": 152,
     "metadata": {},
     "output_type": "execute_result"
    }
   ],
   "source": [
    "lst4"
   ]
  },
  {
   "cell_type": "code",
   "execution_count": 154,
   "id": "6c3e2fed-6177-428f-916a-b4679f86c814",
   "metadata": {},
   "outputs": [
    {
     "data": {
      "text/plain": [
       "[['Zebra', 'Monkey', 'Donkey', 'Lion']]"
      ]
     },
     "execution_count": 154,
     "metadata": {},
     "output_type": "execute_result"
    }
   ],
   "source": [
    "lst4.pop(-2)"
   ]
  },
  {
   "cell_type": "code",
   "execution_count": 155,
   "id": "db38178a-678c-4148-b6a4-e47b052b1c19",
   "metadata": {},
   "outputs": [
    {
     "data": {
      "text/plain": [
       "[10, 11, 12, 13, 14, 15, 16, 17, 63, ['Zebra', 'Monkey', 'Donkey', 'Lion']]"
      ]
     },
     "execution_count": 155,
     "metadata": {},
     "output_type": "execute_result"
    }
   ],
   "source": [
    "lst4"
   ]
  },
  {
   "cell_type": "code",
   "execution_count": 156,
   "id": "3dfcc631-814d-4e8d-a67b-5b5b8a0d4813",
   "metadata": {},
   "outputs": [],
   "source": [
    "lst5=lst4.pop(-1)"
   ]
  },
  {
   "cell_type": "code",
   "execution_count": 157,
   "id": "f64c5388-0889-402e-93b0-dd7873074349",
   "metadata": {},
   "outputs": [
    {
     "data": {
      "text/plain": [
       "['Zebra', 'Monkey', 'Donkey', 'Lion']"
      ]
     },
     "execution_count": 157,
     "metadata": {},
     "output_type": "execute_result"
    }
   ],
   "source": [
    "lst5"
   ]
  },
  {
   "cell_type": "code",
   "execution_count": 158,
   "id": "9b774e72-19b8-4527-898c-d7e249f0f2a2",
   "metadata": {},
   "outputs": [],
   "source": [
    "lst6=['q','w','e','r','t','y','u','i','o','p']"
   ]
  },
  {
   "cell_type": "code",
   "execution_count": 159,
   "id": "6ad18f37-03cd-43a6-9f06-183d3aeeb845",
   "metadata": {},
   "outputs": [
    {
     "data": {
      "text/plain": [
       "['p', 'o', 'i', 'u', 'y', 't', 'r', 'e', 'w', 'q']"
      ]
     },
     "execution_count": 159,
     "metadata": {},
     "output_type": "execute_result"
    }
   ],
   "source": [
    "lst6[::-1] # Not inplace function doesnot change the original list"
   ]
  },
  {
   "cell_type": "code",
   "execution_count": 160,
   "id": "216f2444-0b93-4ccc-b8a1-c498c5ea9d21",
   "metadata": {},
   "outputs": [],
   "source": [
    "lst6.reverse() #  inplace function does change the original list"
   ]
  },
  {
   "cell_type": "code",
   "execution_count": 161,
   "id": "e0b6a3dc-60c7-457a-8b75-615dac746644",
   "metadata": {},
   "outputs": [
    {
     "data": {
      "text/plain": [
       "['p', 'o', 'i', 'u', 'y', 't', 'r', 'e', 'w', 'q']"
      ]
     },
     "execution_count": 161,
     "metadata": {},
     "output_type": "execute_result"
    }
   ],
   "source": [
    "lst6"
   ]
  },
  {
   "cell_type": "code",
   "execution_count": 162,
   "id": "f1662371-7132-4647-9aba-424a5126704c",
   "metadata": {},
   "outputs": [
    {
     "data": {
      "text/plain": [
       "['Welcome', 'to', 'PWSKills', '.Welcome', 'to', 'Dat', 'cience', 'Masters']"
      ]
     },
     "execution_count": 162,
     "metadata": {},
     "output_type": "execute_result"
    }
   ],
   "source": [
    "lst1"
   ]
  },
  {
   "cell_type": "code",
   "execution_count": 163,
   "id": "a3566aa1-62d4-4038-a12e-f5cf56bbfd7d",
   "metadata": {},
   "outputs": [],
   "source": [
    "lst1.append([\"pw\",\"skills\"])"
   ]
  },
  {
   "cell_type": "code",
   "execution_count": 164,
   "id": "fc25d403-de1a-4ca8-a743-70d159ca2fef",
   "metadata": {},
   "outputs": [
    {
     "data": {
      "text/plain": [
       "['Welcome',\n",
       " 'to',\n",
       " 'PWSKills',\n",
       " '.Welcome',\n",
       " 'to',\n",
       " 'Dat',\n",
       " 'cience',\n",
       " 'Masters',\n",
       " ['pw', 'skills']]"
      ]
     },
     "execution_count": 164,
     "metadata": {},
     "output_type": "execute_result"
    }
   ],
   "source": [
    "lst1"
   ]
  },
  {
   "cell_type": "code",
   "execution_count": 165,
   "id": "5720e5c8-e192-43fa-a9df-b56276bc07a6",
   "metadata": {},
   "outputs": [
    {
     "data": {
      "text/plain": [
       "['pw', 'skills']"
      ]
     },
     "execution_count": 165,
     "metadata": {},
     "output_type": "execute_result"
    }
   ],
   "source": [
    "lst1.pop()"
   ]
  },
  {
   "cell_type": "code",
   "execution_count": 167,
   "id": "5d13a52e-fcfd-44e6-8b67-9534f2526461",
   "metadata": {},
   "outputs": [],
   "source": [
    "lst1.extend([\"pw\",\"skills\"])"
   ]
  },
  {
   "cell_type": "code",
   "execution_count": 168,
   "id": "6c679e1a-7b9e-4fe9-b88f-cd9461ca4d03",
   "metadata": {},
   "outputs": [
    {
     "data": {
      "text/plain": [
       "['Welcome',\n",
       " 'to',\n",
       " 'PWSKills',\n",
       " '.Welcome',\n",
       " 'to',\n",
       " 'Dat',\n",
       " 'cience',\n",
       " 'Masters',\n",
       " 'pw',\n",
       " 'skills']"
      ]
     },
     "execution_count": 168,
     "metadata": {},
     "output_type": "execute_result"
    }
   ],
   "source": [
    "lst1"
   ]
  },
  {
   "cell_type": "markdown",
   "id": "65ff6c21-4c77-43ad-a22f-16d8edac97ad",
   "metadata": {},
   "source": [
    "# Nested List"
   ]
  },
  {
   "cell_type": "code",
   "execution_count": 169,
   "id": "22de9c69-67b0-4a98-bd36-70e2fa19cc95",
   "metadata": {},
   "outputs": [],
   "source": [
    "lst7=[1,2,3]\n",
    "lst8=[4,5,6]\n",
    "lst9=[7,8,9]"
   ]
  },
  {
   "cell_type": "code",
   "execution_count": 174,
   "id": "db9056b7-8309-4444-a830-ae5f400b2277",
   "metadata": {},
   "outputs": [],
   "source": [
    "matrix=[lst7,lst8,lst9]"
   ]
  },
  {
   "cell_type": "code",
   "execution_count": 175,
   "id": "05d74278-9d2f-4e7f-97d1-b0035cd69524",
   "metadata": {},
   "outputs": [
    {
     "data": {
      "text/plain": [
       "[[1, 2, 3], [4, 5, 6], [7, 8, 9]]"
      ]
     },
     "execution_count": 175,
     "metadata": {},
     "output_type": "execute_result"
    }
   ],
   "source": [
    "matrix"
   ]
  },
  {
   "cell_type": "code",
   "execution_count": 176,
   "id": "6b0f5511-7432-4cd6-a92a-ba9f63015d95",
   "metadata": {},
   "outputs": [
    {
     "data": {
      "text/plain": [
       "[7, 8, 9]"
      ]
     },
     "execution_count": 176,
     "metadata": {},
     "output_type": "execute_result"
    }
   ],
   "source": [
    "matrix[2]"
   ]
  },
  {
   "cell_type": "code",
   "execution_count": 177,
   "id": "3f2a910f-8853-437f-a55b-8b7a6b07f8ed",
   "metadata": {},
   "outputs": [
    {
     "data": {
      "text/plain": [
       "9"
      ]
     },
     "execution_count": 177,
     "metadata": {},
     "output_type": "execute_result"
    }
   ],
   "source": [
    "matrix[2][2]"
   ]
  },
  {
   "cell_type": "code",
   "execution_count": 178,
   "id": "a3ad9ce5-fc36-4eaa-9bf9-1d7b6a741740",
   "metadata": {},
   "outputs": [
    {
     "data": {
      "text/plain": [
       "[8, 9]"
      ]
     },
     "execution_count": 178,
     "metadata": {},
     "output_type": "execute_result"
    }
   ],
   "source": [
    "matrix[2][1:]"
   ]
  },
  {
   "cell_type": "code",
   "execution_count": 185,
   "id": "e37bfbda-4491-4d7c-a190-d9757d4e845c",
   "metadata": {},
   "outputs": [
    {
     "data": {
      "text/plain": [
       "[]"
      ]
     },
     "execution_count": 185,
     "metadata": {},
     "output_type": "execute_result"
    }
   ],
   "source": [
    "matrix[1:][2:]"
   ]
  },
  {
   "cell_type": "code",
   "execution_count": 186,
   "id": "64d01a87-a55b-4744-b2b7-e05df8e35bf6",
   "metadata": {},
   "outputs": [
    {
     "data": {
      "text/plain": [
       "[0, 1, 2, 3, 4, 5, 6, 7, 8, 9, 10, 11, 12, 13, 14, 15, 16, 17, 18, 19]"
      ]
     },
     "execution_count": 186,
     "metadata": {},
     "output_type": "execute_result"
    }
   ],
   "source": [
    "[i for i in range(20)]"
   ]
  },
  {
   "cell_type": "code",
   "execution_count": 192,
   "id": "00b7973e-7dd2-4882-adf7-3eb195c04bda",
   "metadata": {},
   "outputs": [
    {
     "data": {
      "text/plain": [
       "[0,\n",
       " 'ODD',\n",
       " 2,\n",
       " 'ODD',\n",
       " 4,\n",
       " 'ODD',\n",
       " 6,\n",
       " 'ODD',\n",
       " 8,\n",
       " 'ODD',\n",
       " 10,\n",
       " 'ODD',\n",
       " 12,\n",
       " 'ODD',\n",
       " 14,\n",
       " 'ODD',\n",
       " 16,\n",
       " 'ODD',\n",
       " 18,\n",
       " 'ODD']"
      ]
     },
     "execution_count": 192,
     "metadata": {},
     "output_type": "execute_result"
    }
   ],
   "source": [
    "[i if i%2 == 0 else \"ODD\" for i in range(20)]"
   ]
  },
  {
   "cell_type": "code",
   "execution_count": 193,
   "id": "2ceeeca5-edf0-45f0-9224-3c4535617df0",
   "metadata": {},
   "outputs": [],
   "source": [
    "## Sum of even numbers and odd humbers"
   ]
  },
  {
   "cell_type": "code",
   "execution_count": 195,
   "id": "95bd7b87-ff9b-4397-8d43-b34f4cf5565e",
   "metadata": {},
   "outputs": [],
   "source": [
    "lst10=[21,22,23,24,25,26,27,28,29,30]"
   ]
  },
  {
   "cell_type": "code",
   "execution_count": 196,
   "id": "19bdb6ec-ace0-42af-85c0-c9238abf3d3d",
   "metadata": {},
   "outputs": [
    {
     "data": {
      "text/plain": [
       "[22, 24, 26, 28, 30]"
      ]
     },
     "execution_count": 196,
     "metadata": {},
     "output_type": "execute_result"
    }
   ],
   "source": [
    "[num for num in lst10 if num%2==0]"
   ]
  },
  {
   "cell_type": "code",
   "execution_count": 197,
   "id": "6e55174e-0140-437c-9857-aeca0fbe23e0",
   "metadata": {},
   "outputs": [
    {
     "data": {
      "text/plain": [
       "130"
      ]
     },
     "execution_count": 197,
     "metadata": {},
     "output_type": "execute_result"
    }
   ],
   "source": [
    "sum([num for num in lst10 if num%2==0])"
   ]
  },
  {
   "cell_type": "code",
   "execution_count": 198,
   "id": "a8d8ea92-b6af-490b-a73d-599d8ed2d53a",
   "metadata": {},
   "outputs": [],
   "source": [
    "even_sum=sum([num for num in lst10 if num%2==0])"
   ]
  },
  {
   "cell_type": "code",
   "execution_count": 200,
   "id": "a3137fbb-e11f-404b-a592-a5a8cff7e7d8",
   "metadata": {},
   "outputs": [],
   "source": [
    "odd_sum=sum([num for num in lst10 if num%2!=0])"
   ]
  },
  {
   "cell_type": "code",
   "execution_count": 201,
   "id": "c2dff48e-05a2-4dcd-b5f3-5b8cde2645c3",
   "metadata": {},
   "outputs": [
    {
     "name": "stdout",
     "output_type": "stream",
     "text": [
      "130\n",
      "125\n"
     ]
    }
   ],
   "source": [
    "print(even_sum)\n",
    "print(odd_sum)"
   ]
  },
  {
   "cell_type": "code",
   "execution_count": 202,
   "id": "2fe6d178-353c-480d-ad64-b6573783bac2",
   "metadata": {},
   "outputs": [
    {
     "data": {
      "text/plain": [
       "[441, 484, 529, 576, 625, 676, 729, 784, 841, 900]"
      ]
     },
     "execution_count": 202,
     "metadata": {},
     "output_type": "execute_result"
    }
   ],
   "source": [
    "[num**2 for num in lst10]"
   ]
  },
  {
   "cell_type": "code",
   "execution_count": 203,
   "id": "d8c19549-49a3-49f9-b517-6c5b5cbce68f",
   "metadata": {},
   "outputs": [
    {
     "data": {
      "text/plain": [
       "[22, 24, 26, 28, 30]"
      ]
     },
     "execution_count": 203,
     "metadata": {},
     "output_type": "execute_result"
    }
   ],
   "source": [
    "list([num for num in lst10 if num%2==0])"
   ]
  },
  {
   "cell_type": "code",
   "execution_count": 207,
   "id": "819c5118-4044-40c9-8ddf-ed35ad551212",
   "metadata": {},
   "outputs": [
    {
     "data": {
      "text/plain": [
       "['Welcome',\n",
       " 'to',\n",
       " 'PWSKills',\n",
       " '.Welcome',\n",
       " 'to',\n",
       " 'Dat',\n",
       " 'cience',\n",
       " 'Masters',\n",
       " 'pw',\n",
       " 'skills']"
      ]
     },
     "execution_count": 207,
     "metadata": {},
     "output_type": "execute_result"
    }
   ],
   "source": [
    "lst1"
   ]
  },
  {
   "cell_type": "code",
   "execution_count": 208,
   "id": "31bfb04a-0417-4543-ab47-08293a44ddea",
   "metadata": {},
   "outputs": [
    {
     "data": {
      "text/plain": [
       "['W', 't', 'P', '.', 't', 'D', 'c', 'M', 'p', 's']"
      ]
     },
     "execution_count": 208,
     "metadata": {},
     "output_type": "execute_result"
    }
   ],
   "source": [
    "[word[0] for word in lst1]"
   ]
  },
  {
   "cell_type": "code",
   "execution_count": 209,
   "id": "b2adb8df-5141-45c4-9205-cd7f86dd7f0c",
   "metadata": {},
   "outputs": [
    {
     "ename": "NameError",
     "evalue": "name 'tem' is not defined",
     "output_type": "error",
     "traceback": [
      "\u001b[0;31m---------------------------------------------------------------------------\u001b[0m",
      "\u001b[0;31mNameError\u001b[0m                                 Traceback (most recent call last)",
      "Cell \u001b[0;32mIn[209], line 1\u001b[0m\n\u001b[0;32m----> 1\u001b[0m (\u001b[38;5;241m9\u001b[39m\u001b[38;5;241m/\u001b[39m\u001b[38;5;241m5\u001b[39m)\u001b[38;5;241m*\u001b[39m\u001b[43mtem\u001b[49m\u001b[38;5;241m+\u001b[39m\u001b[38;5;241m32\u001b[39m\n",
      "\u001b[0;31mNameError\u001b[0m: name 'tem' is not defined"
     ]
    }
   ],
   "source": [
    "(9/5)*tem+32"
   ]
  },
  {
   "cell_type": "code",
   "execution_count": 213,
   "id": "21041012-9bfd-4e40-a5c8-dd5d6e62c65e",
   "metadata": {},
   "outputs": [
    {
     "name": "stdout",
     "output_type": "stream",
     "text": [
      "69.80000000000001\n",
      "71.6\n",
      "73.4\n",
      "75.2\n",
      "77.0\n",
      "78.80000000000001\n",
      "80.6\n",
      "82.4\n",
      "84.2\n",
      "86.0\n"
     ]
    }
   ],
   "source": [
    "for i in lst10:\n",
    "    cel=(9/5)*i+32\n",
    "    print(cel)"
   ]
  },
  {
   "cell_type": "code",
   "execution_count": 214,
   "id": "0ffbfd3b-e3cd-4ee6-bc5a-e756cd489df2",
   "metadata": {},
   "outputs": [],
   "source": [
    "lists= [[1,2,3],[4,5,6],[7,8,9]]"
   ]
  },
  {
   "cell_type": "code",
   "execution_count": 216,
   "id": "f0569f4c-cec1-48b9-a5c2-93856837a7ea",
   "metadata": {},
   "outputs": [
    {
     "data": {
      "text/plain": [
       "[1, 2, 3, 4, 5, 6, 7, 8, 9]"
      ]
     },
     "execution_count": 216,
     "metadata": {},
     "output_type": "execute_result"
    }
   ],
   "source": [
    "[num for sublist in lists for num in sublist]"
   ]
  },
  {
   "cell_type": "code",
   "execution_count": 217,
   "id": "38fee62b-ad85-4a00-b96a-554484652cf4",
   "metadata": {},
   "outputs": [],
   "source": [
    "## Asssignment\n",
    "## Using both code and list comprehension\n",
    "# P1 : create a list of only the prime numbers from a given list\n",
    "numbers = [1,2,3,4,5,6,7,8,9,10]"
   ]
  },
  {
   "cell_type": "code",
   "execution_count": 218,
   "id": "e621f3a8-3884-4644-8db0-94c6e27bac0b",
   "metadata": {},
   "outputs": [],
   "source": [
    "#p2 : create a list of only the possitive combinations of 2 elements  from a list\n",
    "num2=[2,5,7,9,8]\n"
   ]
  },
  {
   "cell_type": "code",
   "execution_count": 220,
   "id": "ceab28fc-111c-4a4d-afac-b523c59ff97f",
   "metadata": {},
   "outputs": [],
   "source": [
    "#p2\n",
    "for i in num2 :\n",
    "    j= i+(i+1)\n",
    "    if j%2==0:\n",
    "        print(even)\n"
   ]
  },
  {
   "cell_type": "code",
   "execution_count": null,
   "id": "e52d2d52-5aba-4c59-8529-68995a48acb1",
   "metadata": {},
   "outputs": [],
   "source": []
  }
 ],
 "metadata": {
  "kernelspec": {
   "display_name": "Python 3 (ipykernel)",
   "language": "python",
   "name": "python3"
  },
  "language_info": {
   "codemirror_mode": {
    "name": "ipython",
    "version": 3
   },
   "file_extension": ".py",
   "mimetype": "text/x-python",
   "name": "python",
   "nbconvert_exporter": "python",
   "pygments_lexer": "ipython3",
   "version": "3.10.8"
  }
 },
 "nbformat": 4,
 "nbformat_minor": 5
}
