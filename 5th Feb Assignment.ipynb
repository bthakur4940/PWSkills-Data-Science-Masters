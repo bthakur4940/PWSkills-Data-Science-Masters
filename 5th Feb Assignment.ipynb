{
 "cells": [
  {
   "cell_type": "markdown",
   "id": "4a542adb-4168-4d7e-8b40-505671fec724",
   "metadata": {},
   "source": [
    "# Q1. Explain Class and Object with respect to Object-Oriented Programming. Give a suitable example."
   ]
  },
  {
   "cell_type": "markdown",
   "id": "8880f7e1-a1de-45a6-ac44-b5e5f55da93f",
   "metadata": {},
   "source": [
    "## A class is a blueprint from which objects are created. An object on the otherhand is an instance of the class with actual values."
   ]
  },
  {
   "cell_type": "code",
   "execution_count": 2,
   "id": "e6f9b43f-f38b-4665-9da9-4e0e5bd19150",
   "metadata": {},
   "outputs": [],
   "source": [
    "class dog:\n",
    "    \n",
    "    def __init__(self,dog_breed):\n",
    "        self.dog_breed=dog_breed\n",
    "        \n",
    "    def dog_details(self):\n",
    "        return self.dog_breed"
   ]
  },
  {
   "cell_type": "code",
   "execution_count": 3,
   "id": "1c325b18-2d43-4ded-a0b0-7916233d34da",
   "metadata": {},
   "outputs": [],
   "source": [
    "d1 = dog(\"German Shephard\")"
   ]
  },
  {
   "cell_type": "code",
   "execution_count": 5,
   "id": "f924cfe8-c30a-490f-90eb-abab429e5021",
   "metadata": {},
   "outputs": [
    {
     "data": {
      "text/plain": [
       "'German Shephard'"
      ]
     },
     "execution_count": 5,
     "metadata": {},
     "output_type": "execute_result"
    }
   ],
   "source": [
    "d1.dog_details()"
   ]
  },
  {
   "cell_type": "markdown",
   "id": "5b5375be-ec38-44d5-bcdb-af4107e92aab",
   "metadata": {},
   "source": [
    "# Q2. Name the four pillars of OOPs."
   ]
  },
  {
   "cell_type": "markdown",
   "id": "e833b32b-9659-45c7-83bf-2c8c82d74bac",
   "metadata": {},
   "source": [
    "## 1. Inheritance 2.polymorphism 3. Encaptulation 4.Abstraction"
   ]
  },
  {
   "cell_type": "markdown",
   "id": "fac08aa0-ad72-4841-a41b-f85c1b092055",
   "metadata": {},
   "source": [
    "# Q3. Explain why the __init__() function is used. Give a suitable example."
   ]
  },
  {
   "cell_type": "markdown",
   "id": "5ec2d2fc-45b3-46da-b044-6381b6d790b8",
   "metadata": {},
   "source": [
    "## __init__ function isalso called a constructor it is used to initialize the object attributes. it is a builtin function of class and is always called when a class is being created."
   ]
  },
  {
   "cell_type": "code",
   "execution_count": 14,
   "id": "4fa7a459-bad1-4512-b143-f7fc5575b2c3",
   "metadata": {},
   "outputs": [],
   "source": [
    "class car:\n",
    "    \n",
    "    def __init__(self,model,make,year):\n",
    "        self.model= model\n",
    "        self.make= make\n",
    "        self.year= year\n",
    "        \n",
    "    def car_details(self):\n",
    "        return self.model,self.make,self.year"
   ]
  },
  {
   "cell_type": "code",
   "execution_count": 11,
   "id": "20c1f820-b72a-481f-8140-df3b4d4a740b",
   "metadata": {},
   "outputs": [],
   "source": [
    "new=car(\"camry\",\"toyota\",2023)"
   ]
  },
  {
   "cell_type": "code",
   "execution_count": 12,
   "id": "958804b3-4a54-44f0-a5bf-f2fd6c5a3138",
   "metadata": {},
   "outputs": [
    {
     "data": {
      "text/plain": [
       "('camry', 'toyota', 2023)"
      ]
     },
     "execution_count": 12,
     "metadata": {},
     "output_type": "execute_result"
    }
   ],
   "source": [
    "new.car_details()"
   ]
  },
  {
   "cell_type": "markdown",
   "id": "0d9cc16e-a505-4994-ae53-702ca16a3493",
   "metadata": {},
   "source": [
    "# Q4. Why self is used in OOPs?"
   ]
  },
  {
   "cell_type": "markdown",
   "id": "1efdf1e1-4d29-4938-b6f2-e37b0fa9991f",
   "metadata": {},
   "source": [
    "# self is used to access the attributes and method of the class. It helps in binding the attributes with the given argument.We can use any other word instead of self it just have to be the first parameter of the function being used "
   ]
  },
  {
   "cell_type": "markdown",
   "id": "9a2e916d-d1f4-4c8a-92bd-7a358e8c1542",
   "metadata": {},
   "source": [
    "# Q5. What is inheritance? Give an example for each type of inheritance."
   ]
  },
  {
   "cell_type": "markdown",
   "id": "6ed31ca6-dc11-41f9-bec2-09e4e85fe526",
   "metadata": {},
   "source": [
    "# inheritance is a feature in OOPS where one class can inherit the property of another. The new class formed by inheriting the property of another can then add or modify its own property while retaining the properties of the original class "
   ]
  },
  {
   "cell_type": "code",
   "execution_count": 18,
   "id": "554a2387-fd22-42ac-b02e-b188e2dc7266",
   "metadata": {},
   "outputs": [],
   "source": [
    "class mobile: # Original Class\n",
    "    def test_mobile(self):\n",
    "        print(\"This is my samsung mobile\")"
   ]
  },
  {
   "cell_type": "code",
   "execution_count": 19,
   "id": "e38d8326-dab9-4924-bd29-e8e232a6d02d",
   "metadata": {},
   "outputs": [],
   "source": [
    "class ram(mobile): # inherits property of mobile\n",
    "    def test_ram(self):\n",
    "        print(\"It has 8gb Ram\")"
   ]
  },
  {
   "cell_type": "code",
   "execution_count": 20,
   "id": "dab24f3b-1a7f-4045-ac55-d05819d27235",
   "metadata": {},
   "outputs": [],
   "source": [
    "class camera(ram): # inherits property of both mobile and ram\n",
    "    def test_camera(self):\n",
    "        print(\"It has 64MP camera\")"
   ]
  },
  {
   "cell_type": "code",
   "execution_count": 21,
   "id": "c0f27913-a7b5-4933-accd-e74981e5dc15",
   "metadata": {},
   "outputs": [],
   "source": [
    "obj=camera()"
   ]
  },
  {
   "cell_type": "code",
   "execution_count": 23,
   "id": "1d410dd8-72b4-42fb-aaee-c0a8914b8bd0",
   "metadata": {},
   "outputs": [
    {
     "name": "stdout",
     "output_type": "stream",
     "text": [
      "This is my samsung mobile\n"
     ]
    }
   ],
   "source": [
    "obj.test_mobile()"
   ]
  },
  {
   "cell_type": "code",
   "execution_count": 24,
   "id": "15c9cc24-b258-4052-95eb-b7fd40640e38",
   "metadata": {},
   "outputs": [
    {
     "name": "stdout",
     "output_type": "stream",
     "text": [
      "It has 8gb Ram\n"
     ]
    }
   ],
   "source": [
    "obj.test_ram()"
   ]
  },
  {
   "cell_type": "code",
   "execution_count": 25,
   "id": "c59866a3-776c-4717-8a88-75a8149d3521",
   "metadata": {},
   "outputs": [
    {
     "name": "stdout",
     "output_type": "stream",
     "text": [
      "It has 64MP camera\n"
     ]
    }
   ],
   "source": [
    "obj.test_camera()"
   ]
  },
  {
   "cell_type": "code",
   "execution_count": 26,
   "id": "d054bd4a-d384-4e2c-b322-6d29c2853d0b",
   "metadata": {},
   "outputs": [],
   "source": [
    "class mobile:\n",
    "    def test_mobile(self):\n",
    "        print(\"This is my samsung mobile\")"
   ]
  },
  {
   "cell_type": "code",
   "execution_count": 27,
   "id": "25d74bb5-1055-46d7-aaf5-6e8e8370475e",
   "metadata": {},
   "outputs": [],
   "source": [
    "class ram: \n",
    "    def test_ram(self):\n",
    "        print(\"It has 8gb Ram\")"
   ]
  },
  {
   "cell_type": "code",
   "execution_count": 28,
   "id": "370d90a6-d73e-4a0a-a810-8d1de1a35393",
   "metadata": {},
   "outputs": [],
   "source": [
    "class description(mobile,ram): # inherits both the obove class properties\n",
    "    pass"
   ]
  },
  {
   "cell_type": "code",
   "execution_count": 29,
   "id": "a4bffe0a-4125-4137-af8b-bbb277c806a2",
   "metadata": {},
   "outputs": [],
   "source": [
    "obj1=description()"
   ]
  },
  {
   "cell_type": "code",
   "execution_count": 31,
   "id": "6f09eefb-f3d5-4c93-bb6c-753fd300296e",
   "metadata": {},
   "outputs": [
    {
     "name": "stdout",
     "output_type": "stream",
     "text": [
      "This is my samsung mobile\n"
     ]
    }
   ],
   "source": [
    "obj1.test_mobile()"
   ]
  },
  {
   "cell_type": "code",
   "execution_count": 32,
   "id": "bad86b46-52e8-4ae0-ac72-b9c5a8518d31",
   "metadata": {},
   "outputs": [
    {
     "name": "stdout",
     "output_type": "stream",
     "text": [
      "It has 8gb Ram\n"
     ]
    }
   ],
   "source": [
    "obj1.test_ram()"
   ]
  },
  {
   "cell_type": "code",
   "execution_count": null,
   "id": "ce2d6910-2e37-47b7-8a11-c64ee90ad65c",
   "metadata": {},
   "outputs": [],
   "source": []
  }
 ],
 "metadata": {
  "kernelspec": {
   "display_name": "Python 3 (ipykernel)",
   "language": "python",
   "name": "python3"
  },
  "language_info": {
   "codemirror_mode": {
    "name": "ipython",
    "version": 3
   },
   "file_extension": ".py",
   "mimetype": "text/x-python",
   "name": "python",
   "nbconvert_exporter": "python",
   "pygments_lexer": "ipython3",
   "version": "3.10.8"
  }
 },
 "nbformat": 4,
 "nbformat_minor": 5
}
