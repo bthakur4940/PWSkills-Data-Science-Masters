{
 "cells": [
  {
   "cell_type": "markdown",
   "id": "f351e424-acac-431c-a6a4-febcc93e917a",
   "metadata": {},
   "source": [
    "# Q1. Which keyword is used to create a function? Create a function to return a list of odd numbers in the range of 1 to 25."
   ]
  },
  {
   "cell_type": "code",
   "execution_count": 5,
   "id": "886b5554-34e9-431a-9841-b1f7159138e7",
   "metadata": {},
   "outputs": [],
   "source": [
    "# def keyword is used to create a function\n",
    "def odd_num(a,b):\n",
    "        for i in range(a,b):\n",
    "            if i%2 != 0:\n",
    "                print(i)"
   ]
  },
  {
   "cell_type": "code",
   "execution_count": 6,
   "id": "0ab63c12-7eb6-4e28-af8e-eb3d3c4cf465",
   "metadata": {},
   "outputs": [
    {
     "name": "stdout",
     "output_type": "stream",
     "text": [
      "1\n",
      "3\n",
      "5\n",
      "7\n",
      "9\n",
      "11\n",
      "13\n",
      "15\n",
      "17\n",
      "19\n",
      "21\n",
      "23\n",
      "25\n"
     ]
    }
   ],
   "source": [
    "odd_num(1,26)"
   ]
  },
  {
   "cell_type": "markdown",
   "id": "d4e1e914-e77f-4fdc-83a9-8797a12f2b09",
   "metadata": {},
   "source": [
    "# Q2. Why *args and **kwargs is used in some functions? Create a function each for *args and **kwargs to demonstrate their use."
   ]
  },
  {
   "cell_type": "markdown",
   "id": "c72e47b1-330b-4bfc-8a17-4cd02adb3126",
   "metadata": {
    "tags": []
   },
   "source": [
    "### Both are used to pass multiple number of data through a function. The Difference between the two is that the output of *args gives us a tuple but **kwargs an be used to give  dictionary outputs with key and value pairs ###"
   ]
  },
  {
   "cell_type": "code",
   "execution_count": 16,
   "id": "32bdfa0e-6f61-4a3d-a028-db3ba7921b1e",
   "metadata": {},
   "outputs": [],
   "source": [
    "def test1(*args):\n",
    "    return args"
   ]
  },
  {
   "cell_type": "code",
   "execution_count": 17,
   "id": "76f6d481-5ba2-4c39-8a79-91742b67f069",
   "metadata": {},
   "outputs": [
    {
     "data": {
      "text/plain": [
       "(1, 2, 3, 4, 5, 'test1', [1, 2, 3, 4, 5])"
      ]
     },
     "execution_count": 17,
     "metadata": {},
     "output_type": "execute_result"
    }
   ],
   "source": [
    "test1(1,2,3,4,5,\"test1\",[1,2,3,4,5])"
   ]
  },
  {
   "cell_type": "code",
   "execution_count": 18,
   "id": "4f150bc7-f379-4ea5-b231-c0d10de788b4",
   "metadata": {},
   "outputs": [
    {
     "data": {
      "text/plain": [
       "tuple"
      ]
     },
     "execution_count": 18,
     "metadata": {},
     "output_type": "execute_result"
    }
   ],
   "source": [
    "type(test1())"
   ]
  },
  {
   "cell_type": "code",
   "execution_count": 27,
   "id": "e1883eac-778d-4474-b8ec-36e7cd57dd4d",
   "metadata": {},
   "outputs": [],
   "source": [
    "def test2(**kwargs):\n",
    "    return kwargs"
   ]
  },
  {
   "cell_type": "code",
   "execution_count": 28,
   "id": "6ebdd76b-c1ef-4627-987a-8deddb077467",
   "metadata": {},
   "outputs": [
    {
     "ename": "TypeError",
     "evalue": "test2() takes 0 positional arguments but 5 were given",
     "output_type": "error",
     "traceback": [
      "\u001b[0;31m---------------------------------------------------------------------------\u001b[0m",
      "\u001b[0;31mTypeError\u001b[0m                                 Traceback (most recent call last)",
      "Cell \u001b[0;32mIn[28], line 1\u001b[0m\n\u001b[0;32m----> 1\u001b[0m \u001b[43mtest2\u001b[49m\u001b[43m(\u001b[49m\u001b[38;5;241;43m1\u001b[39;49m\u001b[43m,\u001b[49m\u001b[38;5;241;43m2\u001b[39;49m\u001b[43m,\u001b[49m\u001b[38;5;241;43m3\u001b[39;49m\u001b[43m,\u001b[49m\u001b[38;5;241;43m4\u001b[39;49m\u001b[43m,\u001b[49m\u001b[38;5;241;43m5\u001b[39;49m\u001b[43m)\u001b[49m\n",
      "\u001b[0;31mTypeError\u001b[0m: test2() takes 0 positional arguments but 5 were given"
     ]
    }
   ],
   "source": [
    "test2(1,2,3,4,5)"
   ]
  },
  {
   "cell_type": "code",
   "execution_count": 29,
   "id": "c7428d75-5a2b-4e91-882b-3142a12e7269",
   "metadata": {},
   "outputs": [
    {
     "data": {
      "text/plain": [
       "{'a': 1, 'b': 2, 'c': 3, 'd': 4}"
      ]
     },
     "execution_count": 29,
     "metadata": {},
     "output_type": "execute_result"
    }
   ],
   "source": [
    "test2(a=1,b=2,c=3,d=4)"
   ]
  },
  {
   "cell_type": "markdown",
   "id": "d3ad8f54-f652-4888-97d8-1727dd5d3da0",
   "metadata": {},
   "source": [
    "# Q3. What is an iterator in python? Name the method used to initialise the iterator object and the method used for iteration. Use these methods to print the first five elements of the given list [2, 4, 6, 8, 10, 12, 14, 16,18, 20]."
   ]
  },
  {
   "cell_type": "markdown",
   "id": "b49e2d6b-85b6-4693-a57e-1c49a571624a",
   "metadata": {
    "tags": []
   },
   "source": [
    "## An Iterator in python is an object that iterated through another object one by one. Method used to initialise the iterator is iter() and method used for iteration is next(). A for loop can also be used to iterate through an object"
   ]
  },
  {
   "cell_type": "code",
   "execution_count": 32,
   "id": "e073048a-bcad-48c2-ac54-8f21c928914d",
   "metadata": {},
   "outputs": [],
   "source": [
    "L=[2, 4, 6, 8, 10, 12, 14, 16,18, 20]"
   ]
  },
  {
   "cell_type": "code",
   "execution_count": 33,
   "id": "913a1474-c9f0-4bd7-84dc-81525579e81a",
   "metadata": {},
   "outputs": [
    {
     "name": "stdout",
     "output_type": "stream",
     "text": [
      "2\n",
      "4\n",
      "6\n",
      "8\n",
      "10\n"
     ]
    }
   ],
   "source": [
    "IT=iter(L)\n",
    "\n",
    "print(next(IT))\n",
    "print(next(IT))\n",
    "print(next(IT))\n",
    "print(next(IT))\n",
    "print(next(IT))"
   ]
  },
  {
   "cell_type": "code",
   "execution_count": 34,
   "id": "b4724ba8-ba81-453a-9a2a-6f44dc50efb8",
   "metadata": {},
   "outputs": [
    {
     "name": "stdout",
     "output_type": "stream",
     "text": [
      "12\n",
      "14\n",
      "16\n",
      "18\n",
      "20\n"
     ]
    }
   ],
   "source": [
    "for i in range(1,6):\n",
    "    IT2=iter(L)\n",
    "    print(next(IT))"
   ]
  },
  {
   "cell_type": "markdown",
   "id": "1616a20b-96c4-4612-9c28-a632ca61d62a",
   "metadata": {},
   "source": [
    "# Q4. What is a generator function in python? Why yield keyword is used? Give an example of a generator function."
   ]
  },
  {
   "cell_type": "markdown",
   "id": "bc42a637-82f3-4fbd-9d14-b312edc4b46c",
   "metadata": {},
   "source": [
    "## A generator function is used to generate an iterable object. Which when iterated over  generates a sequence of values. Yield keyword is used to return a generator object and it doesn't destroy the local variable states."
   ]
  },
  {
   "cell_type": "code",
   "execution_count": 3,
   "id": "bb5871cb-20c2-40c9-8bbd-0ce4c4bacb5e",
   "metadata": {},
   "outputs": [],
   "source": [
    "def gen(n):\n",
    "    a,b =1,2\n",
    "    for i in range(n):\n",
    "        yield a\n",
    "        a,b=b,a*b"
   ]
  },
  {
   "cell_type": "code",
   "execution_count": 4,
   "id": "f0c0bb15-9e2d-49f2-b2d3-5760f0211e7f",
   "metadata": {},
   "outputs": [
    {
     "name": "stdout",
     "output_type": "stream",
     "text": [
      "1\n",
      "2\n",
      "2\n",
      "4\n",
      "8\n",
      "32\n",
      "256\n",
      "8192\n",
      "2097152\n",
      "17179869184\n"
     ]
    }
   ],
   "source": [
    "for i in gen(10):\n",
    "    print(i)"
   ]
  },
  {
   "cell_type": "markdown",
   "id": "dc72e927-bfa3-44a3-be5d-8d1b96176806",
   "metadata": {},
   "source": [
    "# Q5. Create a generator function for prime numbers less than 1000. Use the next() method to print the first 20 prime numbers."
   ]
  },
  {
   "cell_type": "code",
   "execution_count": 39,
   "id": "390ec089-8243-4448-acbf-715b77630d6f",
   "metadata": {},
   "outputs": [],
   "source": [
    "def prime(n):\n",
    "    for i in range(1,n):\n",
    "        a=0\n",
    "        for j in range(1,i):\n",
    "            if i%j==0:\n",
    "                a=a+1\n",
    "        if a==1:\n",
    "            yield i\n",
    "            "
   ]
  },
  {
   "cell_type": "code",
   "execution_count": 53,
   "id": "27e272b3-5ff5-46d7-aa3d-d39ebeae7255",
   "metadata": {},
   "outputs": [
    {
     "name": "stdout",
     "output_type": "stream",
     "text": [
      "2\n",
      "3\n",
      "5\n",
      "7\n",
      "11\n",
      "13\n",
      "17\n",
      "19\n",
      "23\n",
      "29\n",
      "31\n",
      "37\n",
      "41\n",
      "43\n",
      "47\n",
      "53\n",
      "59\n",
      "61\n",
      "67\n",
      "71\n"
     ]
    }
   ],
   "source": [
    "obj1= prime(1000)\n",
    "IT3=iter(obj1)   \n",
    "\n",
    "for i in range(1,21):\n",
    "    print(next(IT3))"
   ]
  },
  {
   "cell_type": "code",
   "execution_count": null,
   "id": "e15c1779-5be3-40da-9d91-bff23718c46e",
   "metadata": {},
   "outputs": [],
   "source": []
  }
 ],
 "metadata": {
  "kernelspec": {
   "display_name": "Python 3 (ipykernel)",
   "language": "python",
   "name": "python3"
  },
  "language_info": {
   "codemirror_mode": {
    "name": "ipython",
    "version": 3
   },
   "file_extension": ".py",
   "mimetype": "text/x-python",
   "name": "python",
   "nbconvert_exporter": "python",
   "pygments_lexer": "ipython3",
   "version": "3.10.8"
  }
 },
 "nbformat": 4,
 "nbformat_minor": 5
}
