{
 "cells": [
  {
   "cell_type": "markdown",
   "id": "e5d75059-73d9-48d5-a5ae-022e33e2ada7",
   "metadata": {},
   "source": [
    "# Tuples"
   ]
  },
  {
   "cell_type": "code",
   "execution_count": 1,
   "id": "ab138082-c6e4-44c0-a799-628468364a93",
   "metadata": {},
   "outputs": [],
   "source": [
    "t=()"
   ]
  },
  {
   "cell_type": "code",
   "execution_count": 2,
   "id": "79a3b21f-0607-415d-a7e1-4aaf0aa774cc",
   "metadata": {},
   "outputs": [
    {
     "data": {
      "text/plain": [
       "tuple"
      ]
     },
     "execution_count": 2,
     "metadata": {},
     "output_type": "execute_result"
    }
   ],
   "source": [
    "type(t)"
   ]
  },
  {
   "cell_type": "code",
   "execution_count": 3,
   "id": "561c271a-09a9-4b3f-928e-87ceabd0db4f",
   "metadata": {},
   "outputs": [],
   "source": [
    "t1 = (1,2,3,4,56.5,45+7j,\"Bhaskr\",True)"
   ]
  },
  {
   "cell_type": "code",
   "execution_count": 4,
   "id": "078046bd-63a0-4404-afa6-b2a740fa5171",
   "metadata": {},
   "outputs": [
    {
     "data": {
      "text/plain": [
       "(1, 2, 3, 4, 56.5, (45+7j), 'Bhaskr', True)"
      ]
     },
     "execution_count": 4,
     "metadata": {},
     "output_type": "execute_result"
    }
   ],
   "source": [
    "t1"
   ]
  },
  {
   "cell_type": "code",
   "execution_count": 5,
   "id": "14c1b319-26c4-4bb0-a54b-b9ebd2f5b219",
   "metadata": {},
   "outputs": [
    {
     "data": {
      "text/plain": [
       "tuple"
      ]
     },
     "execution_count": 5,
     "metadata": {},
     "output_type": "execute_result"
    }
   ],
   "source": [
    "type(t1)"
   ]
  },
  {
   "cell_type": "code",
   "execution_count": 6,
   "id": "7ab89e9c-8f2a-4e9a-92f4-d4b896266220",
   "metadata": {},
   "outputs": [
    {
     "data": {
      "text/plain": [
       "1"
      ]
     },
     "execution_count": 6,
     "metadata": {},
     "output_type": "execute_result"
    }
   ],
   "source": [
    "t1[0]"
   ]
  },
  {
   "cell_type": "code",
   "execution_count": 7,
   "id": "7027ec85-9c77-402a-8b77-9aa220d272e2",
   "metadata": {},
   "outputs": [
    {
     "data": {
      "text/plain": [
       "(3, 4, 56.5, (45+7j), 'Bhaskr')"
      ]
     },
     "execution_count": 7,
     "metadata": {},
     "output_type": "execute_result"
    }
   ],
   "source": [
    "t1[2:-1]"
   ]
  },
  {
   "cell_type": "code",
   "execution_count": 8,
   "id": "8489adf2-13f5-4b5d-ae41-d658f2dab807",
   "metadata": {},
   "outputs": [
    {
     "data": {
      "text/plain": [
       "(True, 'Bhaskr', (45+7j), 56.5, 4, 3, 2, 1)"
      ]
     },
     "execution_count": 8,
     "metadata": {},
     "output_type": "execute_result"
    }
   ],
   "source": [
    "t1[::-1]"
   ]
  },
  {
   "cell_type": "code",
   "execution_count": 19,
   "id": "a6934f9c-f25c-43e0-a0c4-6de08a9ee026",
   "metadata": {},
   "outputs": [
    {
     "data": {
      "text/plain": [
       "1"
      ]
     },
     "execution_count": 19,
     "metadata": {},
     "output_type": "execute_result"
    }
   ],
   "source": [
    "t1.count(\"Bhaskr\")"
   ]
  },
  {
   "cell_type": "code",
   "execution_count": 20,
   "id": "2f51f7d4-615a-4863-9c69-8544f3300169",
   "metadata": {},
   "outputs": [
    {
     "data": {
      "text/plain": [
       "6"
      ]
     },
     "execution_count": 20,
     "metadata": {},
     "output_type": "execute_result"
    }
   ],
   "source": [
    "t1.index(\"Bhaskr\")"
   ]
  },
  {
   "cell_type": "code",
   "execution_count": 23,
   "id": "4536f672-6c19-4f7d-b8f7-f4ed03844fea",
   "metadata": {},
   "outputs": [
    {
     "data": {
      "text/plain": [
       "0"
      ]
     },
     "execution_count": 23,
     "metadata": {},
     "output_type": "execute_result"
    }
   ],
   "source": [
    "t1.index(1)"
   ]
  },
  {
   "cell_type": "code",
   "execution_count": 24,
   "id": "bb251e23-6058-4805-9ce3-ec581b5ce2d7",
   "metadata": {},
   "outputs": [
    {
     "data": {
      "text/plain": [
       "2"
      ]
     },
     "execution_count": 24,
     "metadata": {},
     "output_type": "execute_result"
    }
   ],
   "source": [
    "t1.count(True)"
   ]
  },
  {
   "cell_type": "code",
   "execution_count": 28,
   "id": "9e97cfba-3e64-42b8-9156-ccb1f692e060",
   "metadata": {},
   "outputs": [
    {
     "data": {
      "text/plain": [
       "89"
      ]
     },
     "execution_count": 28,
     "metadata": {},
     "output_type": "execute_result"
    }
   ],
   "source": [
    "max(t2)"
   ]
  },
  {
   "cell_type": "code",
   "execution_count": 26,
   "id": "2c819e0f-acdb-4727-8780-00a5947c39fb",
   "metadata": {},
   "outputs": [],
   "source": [
    "t2=(22,25,39,84,89,64,74.55)"
   ]
  },
  {
   "cell_type": "code",
   "execution_count": 29,
   "id": "56bbb5ea-250b-4ab4-9e26-5c40d1f89845",
   "metadata": {},
   "outputs": [
    {
     "data": {
      "text/plain": [
       "22"
      ]
     },
     "execution_count": 29,
     "metadata": {},
     "output_type": "execute_result"
    }
   ],
   "source": [
    "min(t2)"
   ]
  },
  {
   "cell_type": "code",
   "execution_count": 30,
   "id": "7db564bd-1ee3-411a-9195-197e0c267a31",
   "metadata": {},
   "outputs": [],
   "source": [
    "t3=(88,45,69,74)"
   ]
  },
  {
   "cell_type": "code",
   "execution_count": 31,
   "id": "690a4400-2929-4633-9ee0-af392507b670",
   "metadata": {},
   "outputs": [
    {
     "data": {
      "text/plain": [
       "((22, 25, 39, 84, 89, 64, 74.55), (88, 45, 69, 74))"
      ]
     },
     "execution_count": 31,
     "metadata": {},
     "output_type": "execute_result"
    }
   ],
   "source": [
    "t4=(t2,t3)\n",
    "t4"
   ]
  },
  {
   "cell_type": "code",
   "execution_count": 32,
   "id": "282344ab-1471-4b2a-a266-757d94bc92e6",
   "metadata": {},
   "outputs": [],
   "source": [
    "t5=[25,66,77,83]"
   ]
  },
  {
   "cell_type": "code",
   "execution_count": 33,
   "id": "fd5fa465-dfdd-4755-87a5-bead2b5eb9c7",
   "metadata": {},
   "outputs": [],
   "source": [
    "t4=(t2,t3,t5)"
   ]
  },
  {
   "cell_type": "code",
   "execution_count": 34,
   "id": "6b0eef59-a714-4442-a3e9-faebaff1ea4b",
   "metadata": {},
   "outputs": [
    {
     "data": {
      "text/plain": [
       "((22, 25, 39, 84, 89, 64, 74.55), (88, 45, 69, 74), [25, 66, 77, 83])"
      ]
     },
     "execution_count": 34,
     "metadata": {},
     "output_type": "execute_result"
    }
   ],
   "source": [
    "t4"
   ]
  },
  {
   "cell_type": "code",
   "execution_count": 36,
   "id": "0d795f48-071e-4b2b-b337-1b103d8ae3ef",
   "metadata": {},
   "outputs": [],
   "source": [
    "del t4 ## Delete Tuple"
   ]
  },
  {
   "cell_type": "code",
   "execution_count": 37,
   "id": "2f30b695-ba0e-4ef2-83b5-70adeff63d9d",
   "metadata": {},
   "outputs": [
    {
     "ename": "NameError",
     "evalue": "name 't4' is not defined",
     "output_type": "error",
     "traceback": [
      "\u001b[0;31m---------------------------------------------------------------------------\u001b[0m",
      "\u001b[0;31mNameError\u001b[0m                                 Traceback (most recent call last)",
      "Cell \u001b[0;32mIn[37], line 1\u001b[0m\n\u001b[0;32m----> 1\u001b[0m \u001b[43mt4\u001b[49m\n",
      "\u001b[0;31mNameError\u001b[0m: name 't4' is not defined"
     ]
    }
   ],
   "source": [
    "t4"
   ]
  },
  {
   "cell_type": "code",
   "execution_count": 38,
   "id": "bd8029d7-d04c-4971-815c-45f4d0dc4933",
   "metadata": {},
   "outputs": [
    {
     "data": {
      "text/plain": [
       "4"
      ]
     },
     "execution_count": 38,
     "metadata": {},
     "output_type": "execute_result"
    }
   ],
   "source": [
    "len(t5)"
   ]
  },
  {
   "cell_type": "code",
   "execution_count": 42,
   "id": "9210b502-5608-46cb-b40e-d60e9ccd27c4",
   "metadata": {},
   "outputs": [
    {
     "data": {
      "text/plain": [
       "True"
      ]
     },
     "execution_count": 42,
     "metadata": {},
     "output_type": "execute_result"
    }
   ],
   "source": [
    "88 in t3"
   ]
  },
  {
   "cell_type": "code",
   "execution_count": 43,
   "id": "890e173c-62cf-481a-82dd-9961e02e67e9",
   "metadata": {},
   "outputs": [
    {
     "name": "stdout",
     "output_type": "stream",
     "text": [
      "available\n"
     ]
    }
   ],
   "source": [
    "if 88 in t3:\n",
    "    print(\"available\")"
   ]
  },
  {
   "cell_type": "markdown",
   "id": "c253d3dd-3f74-41dd-81c2-a497518e198c",
   "metadata": {},
   "source": [
    "# Set"
   ]
  },
  {
   "cell_type": "code",
   "execution_count": 44,
   "id": "83a3d1b9-2e0c-4c43-a7be-ffce7f9a12b8",
   "metadata": {},
   "outputs": [],
   "source": [
    "s={}"
   ]
  },
  {
   "cell_type": "code",
   "execution_count": 45,
   "id": "12ac8909-44ec-4818-bc59-f4c50daab924",
   "metadata": {},
   "outputs": [
    {
     "data": {
      "text/plain": [
       "dict"
      ]
     },
     "execution_count": 45,
     "metadata": {},
     "output_type": "execute_result"
    }
   ],
   "source": [
    "type(s)"
   ]
  },
  {
   "cell_type": "code",
   "execution_count": 46,
   "id": "03a0c240-7cb3-4ad6-840b-e2cc6b7fce8b",
   "metadata": {},
   "outputs": [],
   "source": [
    "s1={1,2,3,4,5,5,5,5,5,5,6,7,8,9,1,0,10,10,1,0,11}"
   ]
  },
  {
   "cell_type": "code",
   "execution_count": 48,
   "id": "68135c97-d595-4987-bf36-c05ec49cc111",
   "metadata": {},
   "outputs": [
    {
     "data": {
      "text/plain": [
       "{0, 1, 2, 3, 4, 5, 6, 7, 8, 9, 10, 11}"
      ]
     },
     "execution_count": 48,
     "metadata": {},
     "output_type": "execute_result"
    }
   ],
   "source": [
    "s1 # coverts in ascending order and removes  duplicates"
   ]
  },
  {
   "cell_type": "code",
   "execution_count": 49,
   "id": "7eb53b77-8641-470f-ad69-1f0481551167",
   "metadata": {},
   "outputs": [],
   "source": [
    "l=list(s1)"
   ]
  },
  {
   "cell_type": "code",
   "execution_count": 50,
   "id": "d2ec86ec-ce5c-4393-846c-b56b22566fcd",
   "metadata": {},
   "outputs": [
    {
     "data": {
      "text/plain": [
       "[0, 1, 2, 3, 4, 5, 6, 7, 8, 9, 10, 11]"
      ]
     },
     "execution_count": 50,
     "metadata": {},
     "output_type": "execute_result"
    }
   ],
   "source": [
    "l"
   ]
  },
  {
   "cell_type": "code",
   "execution_count": 51,
   "id": "102c8e4c-d432-43f9-8106-b631d2c4b6a6",
   "metadata": {},
   "outputs": [
    {
     "data": {
      "text/plain": [
       "{0, 1, 2, 3, 4, 5, 6, 7, 8, 9, 10, 11}"
      ]
     },
     "execution_count": 51,
     "metadata": {},
     "output_type": "execute_result"
    }
   ],
   "source": [
    "set(l)"
   ]
  },
  {
   "cell_type": "code",
   "execution_count": 52,
   "id": "daba9503-f074-4535-83cc-1ac114cf4b72",
   "metadata": {},
   "outputs": [
    {
     "ename": "TypeError",
     "evalue": "unhashable type: 'list'",
     "output_type": "error",
     "traceback": [
      "\u001b[0;31m---------------------------------------------------------------------------\u001b[0m",
      "\u001b[0;31mTypeError\u001b[0m                                 Traceback (most recent call last)",
      "Cell \u001b[0;32mIn[52], line 1\u001b[0m\n\u001b[0;32m----> 1\u001b[0m s4\u001b[38;5;241m=\u001b[39m{\u001b[38;5;241m1\u001b[39m,\u001b[38;5;241m2\u001b[39m,\u001b[38;5;241m3\u001b[39m,\u001b[38;5;241m4\u001b[39m,[\u001b[38;5;241m1\u001b[39m,\u001b[38;5;241m2\u001b[39m,\u001b[38;5;241m3\u001b[39m,\u001b[38;5;241m4\u001b[39m]}\n\u001b[1;32m      2\u001b[0m s4\n",
      "\u001b[0;31mTypeError\u001b[0m: unhashable type: 'list'"
     ]
    }
   ],
   "source": [
    "s4={1,2,3,4,[1,2,3,4]}\n",
    "s4"
   ]
  },
  {
   "cell_type": "code",
   "execution_count": 53,
   "id": "d7e24e00-f1b1-45f2-adcb-366369e98006",
   "metadata": {},
   "outputs": [
    {
     "data": {
      "text/plain": [
       "{(1, 2, 3, 4), 1, 2, 3, 4, 5, 6}"
      ]
     },
     "execution_count": 53,
     "metadata": {},
     "output_type": "execute_result"
    }
   ],
   "source": [
    "s5={1,2,3,4,5,6,(1,2,3,4)}\n",
    "s5"
   ]
  },
  {
   "cell_type": "code",
   "execution_count": 55,
   "id": "ba7220ec-c8fa-4ba0-9f1b-e66d4916180b",
   "metadata": {},
   "outputs": [
    {
     "data": {
      "text/plain": [
       "{2, 3, 4, 5, 'Bhaskar', 'bhaskar'}"
      ]
     },
     "execution_count": 55,
     "metadata": {},
     "output_type": "execute_result"
    }
   ],
   "source": [
    "s6={\"Bhaskar\",\"bhaskar\",2,3,4,5}\n",
    "s6"
   ]
  },
  {
   "cell_type": "code",
   "execution_count": 56,
   "id": "675cbf42-d331-4937-8317-516dc5520d39",
   "metadata": {},
   "outputs": [
    {
     "data": {
      "text/plain": [
       "{2, 3, 4, 5, 'bhaskar'}"
      ]
     },
     "execution_count": 56,
     "metadata": {},
     "output_type": "execute_result"
    }
   ],
   "source": [
    "s7={\"bhaskar\",\"bhaskar\",2,3,4,5}\n",
    "s7"
   ]
  },
  {
   "cell_type": "code",
   "execution_count": 58,
   "id": "7afef83c-35ab-4396-b38d-0cf447021bde",
   "metadata": {},
   "outputs": [
    {
     "ename": "TypeError",
     "evalue": "'set' object is not subscriptable",
     "output_type": "error",
     "traceback": [
      "\u001b[0;31m---------------------------------------------------------------------------\u001b[0m",
      "\u001b[0;31mTypeError\u001b[0m                                 Traceback (most recent call last)",
      "Cell \u001b[0;32mIn[58], line 1\u001b[0m\n\u001b[0;32m----> 1\u001b[0m \u001b[43ms7\u001b[49m\u001b[43m[\u001b[49m\u001b[38;5;241;43m0\u001b[39;49m\u001b[43m]\u001b[49m \u001b[38;5;66;03m# Indexing not possible\u001b[39;00m\n",
      "\u001b[0;31mTypeError\u001b[0m: 'set' object is not subscriptable"
     ]
    }
   ],
   "source": [
    "s7[0] # Indexing not possible"
   ]
  },
  {
   "cell_type": "code",
   "execution_count": 59,
   "id": "976bc7b3-fcb4-405f-8732-dd2101087e16",
   "metadata": {},
   "outputs": [
    {
     "name": "stdout",
     "output_type": "stream",
     "text": [
      "bhaskar\n",
      "2\n",
      "3\n",
      "4\n",
      "5\n"
     ]
    }
   ],
   "source": [
    "for i in s7:\n",
    "    print(i)"
   ]
  },
  {
   "cell_type": "code",
   "execution_count": 60,
   "id": "43bc5602-9928-44c7-88de-70cc11b536d8",
   "metadata": {},
   "outputs": [
    {
     "data": {
      "text/plain": [
       "{2, 3, 34, 4, 5, 'bhaskar'}"
      ]
     },
     "execution_count": 60,
     "metadata": {},
     "output_type": "execute_result"
    }
   ],
   "source": [
    "s7.add(34) # will add unique values only\n",
    "s7"
   ]
  },
  {
   "cell_type": "code",
   "execution_count": 61,
   "id": "661c8167-1fa2-475d-8501-a3be2df0cac4",
   "metadata": {},
   "outputs": [
    {
     "data": {
      "text/plain": [
       "{2, 3, 34, 4, 5, 'bhaskar'}"
      ]
     },
     "execution_count": 61,
     "metadata": {},
     "output_type": "execute_result"
    }
   ],
   "source": [
    "s7.add(2)\n",
    "s7"
   ]
  },
  {
   "cell_type": "code",
   "execution_count": 62,
   "id": "6526d098-a7d4-4261-9dbb-c1f789b141e7",
   "metadata": {},
   "outputs": [
    {
     "data": {
      "text/plain": [
       "6"
      ]
     },
     "execution_count": 62,
     "metadata": {},
     "output_type": "execute_result"
    }
   ],
   "source": [
    "len(s7)"
   ]
  },
  {
   "cell_type": "code",
   "execution_count": 63,
   "id": "45822300-17c6-4cd6-b261-53c0f7e40549",
   "metadata": {},
   "outputs": [
    {
     "data": {
      "text/plain": [
       "'bhaskar'"
      ]
     },
     "execution_count": 63,
     "metadata": {},
     "output_type": "execute_result"
    }
   ],
   "source": [
    "s7.pop() # removes random values"
   ]
  },
  {
   "cell_type": "code",
   "execution_count": 64,
   "id": "8ad63e1c-49cf-48f3-a956-6678a7483d63",
   "metadata": {},
   "outputs": [
    {
     "data": {
      "text/plain": [
       "{2, 3, 4, 5, 34}"
      ]
     },
     "execution_count": 64,
     "metadata": {},
     "output_type": "execute_result"
    }
   ],
   "source": [
    "s7"
   ]
  },
  {
   "cell_type": "code",
   "execution_count": 65,
   "id": "627d1971-6a31-410e-9951-ef23e448a945",
   "metadata": {},
   "outputs": [],
   "source": [
    "s7.clear() # clears the entire set"
   ]
  },
  {
   "cell_type": "code",
   "execution_count": 66,
   "id": "285b0c04-991e-4001-8840-af1526a53f1b",
   "metadata": {},
   "outputs": [
    {
     "data": {
      "text/plain": [
       "set()"
      ]
     },
     "execution_count": 66,
     "metadata": {},
     "output_type": "execute_result"
    }
   ],
   "source": [
    "s7"
   ]
  },
  {
   "cell_type": "code",
   "execution_count": 11,
   "id": "6ceb4165-d6c5-42d6-96e9-98a6e7969036",
   "metadata": {},
   "outputs": [
    {
     "data": {
      "text/plain": [
       "{4}"
      ]
     },
     "execution_count": 11,
     "metadata": {},
     "output_type": "execute_result"
    }
   ],
   "source": [
    "s8={1,2,3,4}\n",
    "s9={1,2,3,5,15,16}\n",
    "\n",
    "s8.difference(s9)"
   ]
  },
  {
   "cell_type": "code",
   "execution_count": 12,
   "id": "5b61dfb5-b0ec-4556-8371-42eec0019d58",
   "metadata": {},
   "outputs": [
    {
     "data": {
      "text/plain": [
       "{5, 15, 16}"
      ]
     },
     "execution_count": 12,
     "metadata": {},
     "output_type": "execute_result"
    }
   ],
   "source": [
    "s9.difference(s8)"
   ]
  },
  {
   "cell_type": "markdown",
   "id": "cdd6e427-1745-4507-95d3-17b0b23eb652",
   "metadata": {},
   "source": [
    "# Dictionary"
   ]
  },
  {
   "cell_type": "code",
   "execution_count": 69,
   "id": "24757baf-5a21-4eef-a7ac-5299761a0950",
   "metadata": {},
   "outputs": [],
   "source": [
    "d = {}"
   ]
  },
  {
   "cell_type": "code",
   "execution_count": 70,
   "id": "559aee13-65db-459a-a4a4-54255f16cf15",
   "metadata": {},
   "outputs": [
    {
     "data": {
      "text/plain": [
       "dict"
      ]
     },
     "execution_count": 70,
     "metadata": {},
     "output_type": "execute_result"
    }
   ],
   "source": [
    "type(d)"
   ]
  },
  {
   "cell_type": "code",
   "execution_count": 71,
   "id": "7b591c7c-5223-4929-9b62-ca1ba659268d",
   "metadata": {},
   "outputs": [],
   "source": [
    "d1 ={\"Name\" : \" bhaskar \",\"emailid\" : \"bthakur5137@gmail.com\",\"number\" : 8051227799}"
   ]
  },
  {
   "cell_type": "code",
   "execution_count": 72,
   "id": "9e56a4b5-9e6d-4669-973a-25fb94961918",
   "metadata": {},
   "outputs": [
    {
     "data": {
      "text/plain": [
       "dict"
      ]
     },
     "execution_count": 72,
     "metadata": {},
     "output_type": "execute_result"
    }
   ],
   "source": [
    "type(d1)"
   ]
  },
  {
   "cell_type": "code",
   "execution_count": 73,
   "id": "991bb17c-25a0-4651-a510-99b6eba40725",
   "metadata": {},
   "outputs": [
    {
     "data": {
      "text/plain": [
       "{'Name': ' bhaskar ', 'emailid': 'bthakur5137@gmail.com', 'number': 8051227799}"
      ]
     },
     "execution_count": 73,
     "metadata": {},
     "output_type": "execute_result"
    }
   ],
   "source": [
    "d1"
   ]
  },
  {
   "cell_type": "code",
   "execution_count": 74,
   "id": "be5f3463-bcab-46f0-95a3-f5f2c9aafc49",
   "metadata": {},
   "outputs": [
    {
     "data": {
      "text/plain": [
       "dict_items([('Name', ' bhaskar '), ('emailid', 'bthakur5137@gmail.com'), ('number', 8051227799)])"
      ]
     },
     "execution_count": 74,
     "metadata": {},
     "output_type": "execute_result"
    }
   ],
   "source": [
    "d1.items()"
   ]
  },
  {
   "cell_type": "code",
   "execution_count": 75,
   "id": "3d8f1819-ab91-4417-a192-586223bbff1c",
   "metadata": {},
   "outputs": [
    {
     "data": {
      "text/plain": [
       "dict_keys(['Name', 'emailid', 'number'])"
      ]
     },
     "execution_count": 75,
     "metadata": {},
     "output_type": "execute_result"
    }
   ],
   "source": [
    "d1.keys()"
   ]
  },
  {
   "cell_type": "code",
   "execution_count": 76,
   "id": "87e1ae1e-2e5b-4af6-8593-0411dbafa43b",
   "metadata": {},
   "outputs": [
    {
     "data": {
      "text/plain": [
       "dict_values([' bhaskar ', 'bthakur5137@gmail.com', 8051227799])"
      ]
     },
     "execution_count": 76,
     "metadata": {},
     "output_type": "execute_result"
    }
   ],
   "source": [
    "d1.values()"
   ]
  },
  {
   "cell_type": "code",
   "execution_count": 77,
   "id": "2d99345a-1138-46ba-8302-cf05c78e6e7c",
   "metadata": {},
   "outputs": [],
   "source": [
    "d1 ={\"Name\" : \" bhaskar \",\"Name\" : \" Thakur \",\"number\" : 8051227799} # Duplicate Keys cant be used"
   ]
  },
  {
   "cell_type": "code",
   "execution_count": 78,
   "id": "c064e6f5-2298-4b7f-8d8a-9754e939d9dd",
   "metadata": {},
   "outputs": [
    {
     "data": {
      "text/plain": [
       "{'Name': ' Thakur ', 'number': 8051227799}"
      ]
     },
     "execution_count": 78,
     "metadata": {},
     "output_type": "execute_result"
    }
   ],
   "source": [
    "d1"
   ]
  },
  {
   "cell_type": "code",
   "execution_count": 80,
   "id": "03826933-b26c-4cd8-8a09-95362671f0b8",
   "metadata": {},
   "outputs": [
    {
     "data": {
      "text/plain": [
       "{23456: 'abc'}"
      ]
     },
     "execution_count": 80,
     "metadata": {},
     "output_type": "execute_result"
    }
   ],
   "source": [
    "d2 ={23456 : \"abc\"}\n",
    "d2"
   ]
  },
  {
   "cell_type": "code",
   "execution_count": 81,
   "id": "338f72b2-84a4-4742-85e2-c2bf352a0303",
   "metadata": {},
   "outputs": [
    {
     "data": {
      "text/plain": [
       "{23456.63: 'abc'}"
      ]
     },
     "execution_count": 81,
     "metadata": {},
     "output_type": "execute_result"
    }
   ],
   "source": [
    "d3 ={23456.63 : \"abc\"}\n",
    "d3"
   ]
  },
  {
   "cell_type": "code",
   "execution_count": 82,
   "id": "1f04b4a2-75f2-4bc3-b11b-f1ef34d4eb90",
   "metadata": {},
   "outputs": [
    {
     "data": {
      "text/plain": [
       "{True: 'abc'}"
      ]
     },
     "execution_count": 82,
     "metadata": {},
     "output_type": "execute_result"
    }
   ],
   "source": [
    "d4 ={True : \"abc\"}\n",
    "d4"
   ]
  },
  {
   "cell_type": "code",
   "execution_count": 83,
   "id": "f2f2950c-6dde-4760-ab04-5a4a9b8b92d1",
   "metadata": {},
   "outputs": [
    {
     "ename": "SyntaxError",
     "evalue": "incomplete input (2057417864.py, line 2)",
     "output_type": "error",
     "traceback": [
      "\u001b[0;36m  Cell \u001b[0;32mIn[83], line 2\u001b[0;36m\u001b[0m\n\u001b[0;31m    d5\u001b[0m\n\u001b[0m      ^\u001b[0m\n\u001b[0;31mSyntaxError\u001b[0m\u001b[0;31m:\u001b[0m incomplete input\n"
     ]
    }
   ],
   "source": [
    "d5 ={#: \"abc\"} # special case characted can not be used for keys\n",
    "d5"
   ]
  },
  {
   "cell_type": "code",
   "execution_count": 84,
   "id": "f76a240c-3df0-4c5e-b978-4eadf3489b53",
   "metadata": {},
   "outputs": [
    {
     "ename": "TypeError",
     "evalue": "unhashable type: 'list'",
     "output_type": "error",
     "traceback": [
      "\u001b[0;31m---------------------------------------------------------------------------\u001b[0m",
      "\u001b[0;31mTypeError\u001b[0m                                 Traceback (most recent call last)",
      "Cell \u001b[0;32mIn[84], line 1\u001b[0m\n\u001b[0;32m----> 1\u001b[0m d5 \u001b[38;5;241m=\u001b[39m{[\u001b[38;5;241m12\u001b[39m,\u001b[38;5;241m2\u001b[39m,\u001b[38;5;241m3\u001b[39m]: \u001b[38;5;124m\"\u001b[39m\u001b[38;5;124mabc\u001b[39m\u001b[38;5;124m\"\u001b[39m} \u001b[38;5;66;03m# special case characted can not be used for keys\u001b[39;00m\n\u001b[1;32m      2\u001b[0m d5\n",
      "\u001b[0;31mTypeError\u001b[0m: unhashable type: 'list'"
     ]
    }
   ],
   "source": [
    "d5 ={[12,2,3]: \"abc\"} # list cant be used for keys\n",
    "d5"
   ]
  },
  {
   "cell_type": "code",
   "execution_count": 85,
   "id": "41a22088-1823-426b-b7c2-e307ef0f3180",
   "metadata": {},
   "outputs": [
    {
     "data": {
      "text/plain": [
       "{(12, 2, 3): 'abc'}"
      ]
     },
     "execution_count": 85,
     "metadata": {},
     "output_type": "execute_result"
    }
   ],
   "source": [
    "d6 ={(12,2,3): \"abc\"} # tuple can be used for keys\n",
    "d6"
   ]
  },
  {
   "cell_type": "code",
   "execution_count": 87,
   "id": "bc4c7ec1-0130-4dae-9855-359422de698a",
   "metadata": {},
   "outputs": [
    {
     "ename": "TypeError",
     "evalue": "unhashable type: 'set'",
     "output_type": "error",
     "traceback": [
      "\u001b[0;31m---------------------------------------------------------------------------\u001b[0m",
      "\u001b[0;31mTypeError\u001b[0m                                 Traceback (most recent call last)",
      "Cell \u001b[0;32mIn[87], line 1\u001b[0m\n\u001b[0;32m----> 1\u001b[0m d7 \u001b[38;5;241m=\u001b[39m{{\u001b[38;5;241m12\u001b[39m,\u001b[38;5;241m2\u001b[39m,\u001b[38;5;241m3\u001b[39m}: \u001b[38;5;124m\"\u001b[39m\u001b[38;5;124mabc\u001b[39m\u001b[38;5;124m\"\u001b[39m} \u001b[38;5;66;03m# sets can not be used for keys\u001b[39;00m\n\u001b[1;32m      2\u001b[0m d7\n",
      "\u001b[0;31mTypeError\u001b[0m: unhashable type: 'set'"
     ]
    }
   ],
   "source": [
    "d7 ={{12,2,3}: \"abc\"} # sets can not be used for keys\n",
    "d7"
   ]
  },
  {
   "cell_type": "code",
   "execution_count": 88,
   "id": "76d4a28d-dd01-4173-ac9d-9a12c8680ca2",
   "metadata": {},
   "outputs": [
    {
     "ename": "TypeError",
     "evalue": "unhashable type: 'dict'",
     "output_type": "error",
     "traceback": [
      "\u001b[0;31m---------------------------------------------------------------------------\u001b[0m",
      "\u001b[0;31mTypeError\u001b[0m                                 Traceback (most recent call last)",
      "Cell \u001b[0;32mIn[88], line 1\u001b[0m\n\u001b[0;32m----> 1\u001b[0m d8 \u001b[38;5;241m=\u001b[39m{{\u001b[38;5;241m12\u001b[39m : \u001b[38;5;241m35\u001b[39m}: \u001b[38;5;124m\"\u001b[39m\u001b[38;5;124mabc\u001b[39m\u001b[38;5;124m\"\u001b[39m} \u001b[38;5;66;03m# sets can not be used for keys\u001b[39;00m\n\u001b[1;32m      2\u001b[0m d8\n",
      "\u001b[0;31mTypeError\u001b[0m: unhashable type: 'dict'"
     ]
    }
   ],
   "source": [
    "d8 ={{12 : 35}: \"abc\"} # dictionary can not be used for keys\n",
    "d8"
   ]
  },
  {
   "cell_type": "code",
   "execution_count": 89,
   "id": "3ee6c7d5-7554-471d-855b-45b3f9c0d0b1",
   "metadata": {},
   "outputs": [],
   "source": [
    "d9 = {\"Course_name\" : [\"Data science\", \"Digital Marketing\",\"MBA\"]}"
   ]
  },
  {
   "cell_type": "code",
   "execution_count": 90,
   "id": "e187ce17-a5ad-4423-86d2-fc2b9070f38c",
   "metadata": {},
   "outputs": [
    {
     "data": {
      "text/plain": [
       "{'Course_name': ['Data science', 'Digital Marketing', 'MBA']}"
      ]
     },
     "execution_count": 90,
     "metadata": {},
     "output_type": "execute_result"
    }
   ],
   "source": [
    "d9"
   ]
  },
  {
   "cell_type": "code",
   "execution_count": 91,
   "id": "e85fe357-8941-4835-9b83-94981acfd1b8",
   "metadata": {},
   "outputs": [],
   "source": [
    "d10 = {\"Course_name\" : (\"Data science\", \"Digital Marketing\",\"MBA\")}"
   ]
  },
  {
   "cell_type": "code",
   "execution_count": 92,
   "id": "27042087-4333-4428-82fc-250340405527",
   "metadata": {},
   "outputs": [
    {
     "data": {
      "text/plain": [
       "{'Course_name': ('Data science', 'Digital Marketing', 'MBA')}"
      ]
     },
     "execution_count": 92,
     "metadata": {},
     "output_type": "execute_result"
    }
   ],
   "source": [
    "d10"
   ]
  },
  {
   "cell_type": "code",
   "execution_count": 93,
   "id": "1067d55f-b3a4-4f11-a172-c1ac71fa3dcf",
   "metadata": {},
   "outputs": [],
   "source": [
    "d10 = {\"Course_name\" : {\"Data science\", \"Digital Marketing\",\"MBA\"}}"
   ]
  },
  {
   "cell_type": "code",
   "execution_count": 94,
   "id": "c7a3c343-2fd5-4d64-a50a-5c4ff1db27bc",
   "metadata": {},
   "outputs": [
    {
     "data": {
      "text/plain": [
       "{'Course_name': {'Data science', 'Digital Marketing', 'MBA'}}"
      ]
     },
     "execution_count": 94,
     "metadata": {},
     "output_type": "execute_result"
    }
   ],
   "source": [
    "d10"
   ]
  },
  {
   "cell_type": "code",
   "execution_count": 95,
   "id": "1f7c8d30-5fd0-42e1-9e38-bdebbdd49d13",
   "metadata": {},
   "outputs": [
    {
     "data": {
      "text/plain": [
       "{'Course_name': {'Data science': 10000,\n",
       "  'Digital Marketing': 20000,\n",
       "  'MBA': 50000}}"
      ]
     },
     "execution_count": 95,
     "metadata": {},
     "output_type": "execute_result"
    }
   ],
   "source": [
    "d11 = {\"Course_name\" : {\"Data science\" : 10000, \"Digital Marketing\" : 20000,\"MBA\" : 50000}} # Nested Dictionary\n",
    "d11"
   ]
  },
  {
   "cell_type": "code",
   "execution_count": 96,
   "id": "fab2a997-e5f9-45f5-a1f9-6fbb3c9b89e4",
   "metadata": {},
   "outputs": [],
   "source": [
    "d16 ={\"batch_name\" : [\"data science masters\",\"web dev\",\"JDS\"],\"start_date\" : (28,14,8), \"Mentor_name\" : {\"Krish Naik\",\"sudhanshu\",\"Hitesh\",\"Anurag\",\"Naveen\",\"akhtar\"}}"
   ]
  },
  {
   "cell_type": "code",
   "execution_count": 97,
   "id": "22c36989-1d1c-4012-9542-089f6554d7aa",
   "metadata": {},
   "outputs": [
    {
     "data": {
      "text/plain": [
       "{'batch_name': ['data science masters', 'web dev', 'JDS'],\n",
       " 'start_date': (28, 14, 8),\n",
       " 'Mentor_name': {'Anurag',\n",
       "  'Hitesh',\n",
       "  'Krish Naik',\n",
       "  'Naveen',\n",
       "  'akhtar',\n",
       "  'sudhanshu'}}"
      ]
     },
     "execution_count": 97,
     "metadata": {},
     "output_type": "execute_result"
    }
   ],
   "source": [
    "d16"
   ]
  },
  {
   "cell_type": "code",
   "execution_count": 98,
   "id": "b72d40f6-7b62-4fb5-8cd5-ad34a6299a23",
   "metadata": {},
   "outputs": [
    {
     "data": {
      "text/plain": [
       "{'batch_name': ['data science masters', 'web dev', 'JDS'],\n",
       " 'start_date': (28, 14, 8),\n",
       " 'Mentor_name': {'Anurag',\n",
       "  'Hitesh',\n",
       "  'Krish Naik',\n",
       "  'Naveen',\n",
       "  'akhtar',\n",
       "  'sudhanshu'},\n",
       " 'timing': (8, 8, 8)}"
      ]
     },
     "execution_count": 98,
     "metadata": {},
     "output_type": "execute_result"
    }
   ],
   "source": [
    "d16[\"timing\"]= (8,8,8)\n",
    "d16\n",
    "    "
   ]
  },
  {
   "cell_type": "code",
   "execution_count": 101,
   "id": "5faa4e38-7264-41f9-ac12-b198c931a9d0",
   "metadata": {},
   "outputs": [
    {
     "data": {
      "text/plain": [
       "['data science masters', 'web dev', 'JDS']"
      ]
     },
     "execution_count": 101,
     "metadata": {},
     "output_type": "execute_result"
    }
   ],
   "source": [
    "d16[\"batch_name\"]"
   ]
  },
  {
   "cell_type": "code",
   "execution_count": 103,
   "id": "e3256bf6-d4f2-4272-b737-106851c6ee9e",
   "metadata": {},
   "outputs": [
    {
     "data": {
      "text/plain": [
       "{'Anurag', 'Hitesh', 'Krish Naik', 'Naveen', 'akhtar', 'sudhanshu'}"
      ]
     },
     "execution_count": 103,
     "metadata": {},
     "output_type": "execute_result"
    }
   ],
   "source": [
    "d16[\"Mentor_name\"]"
   ]
  },
  {
   "cell_type": "code",
   "execution_count": 104,
   "id": "7a19d27d-5400-4ec9-8eec-0992b6ebe1f8",
   "metadata": {},
   "outputs": [
    {
     "data": {
      "text/plain": [
       "set"
      ]
     },
     "execution_count": 104,
     "metadata": {},
     "output_type": "execute_result"
    }
   ],
   "source": [
    "type(d16[\"Mentor_name\"])"
   ]
  },
  {
   "cell_type": "code",
   "execution_count": 105,
   "id": "46b0db17-9c3a-457e-8632-5f803d7e0fe6",
   "metadata": {},
   "outputs": [
    {
     "data": {
      "text/plain": [
       "{'batch_name': ['data science masters', 'web dev', 'JDS'],\n",
       " 'start_date': (28, 14, 8),\n",
       " 'Mentor_name': {'Anurag',\n",
       "  'Hitesh',\n",
       "  'Krish Naik',\n",
       "  'Naveen',\n",
       "  'akhtar',\n",
       "  'sudhanshu'},\n",
       " 'timing': (8, 8, 8),\n",
       " 'cost': (10000, 20000, 30000)}"
      ]
     },
     "execution_count": 105,
     "metadata": {},
     "output_type": "execute_result"
    }
   ],
   "source": [
    "d16[\"cost\"] = (10000,20000,30000)\n",
    "d16"
   ]
  },
  {
   "cell_type": "code",
   "execution_count": 106,
   "id": "c1df89bc-460e-44b5-8222-a3bf0ff90ce1",
   "metadata": {},
   "outputs": [
    {
     "data": {
      "text/plain": [
       "(10000, 20000, 30000)"
      ]
     },
     "execution_count": 106,
     "metadata": {},
     "output_type": "execute_result"
    }
   ],
   "source": [
    "d16[\"cost\"]"
   ]
  },
  {
   "cell_type": "code",
   "execution_count": 108,
   "id": "21a94192-94b5-41a9-90b8-e908e6fe1066",
   "metadata": {},
   "outputs": [],
   "source": [
    "d16[\"My_name\"]= \"Bhaskar\""
   ]
  },
  {
   "cell_type": "code",
   "execution_count": 109,
   "id": "8498e686-5347-4593-b331-5f4cc4dfaea5",
   "metadata": {},
   "outputs": [
    {
     "data": {
      "text/plain": [
       "{'batch_name': ['data science masters', 'web dev', 'JDS'],\n",
       " 'start_date': (28, 14, 8),\n",
       " 'Mentor_name': {'Anurag',\n",
       "  'Hitesh',\n",
       "  'Krish Naik',\n",
       "  'Naveen',\n",
       "  'akhtar',\n",
       "  'sudhanshu'},\n",
       " 'timing': (8, 8, 8),\n",
       " 'cost': (10000, 20000, 30000),\n",
       " 'My_name': 'Bhaskar'}"
      ]
     },
     "execution_count": 109,
     "metadata": {},
     "output_type": "execute_result"
    }
   ],
   "source": [
    "d16"
   ]
  },
  {
   "cell_type": "code",
   "execution_count": 110,
   "id": "5f334cad-8135-478d-9e52-ca6d15d0c8c2",
   "metadata": {},
   "outputs": [
    {
     "data": {
      "text/plain": [
       "'BHASKAR'"
      ]
     },
     "execution_count": 110,
     "metadata": {},
     "output_type": "execute_result"
    }
   ],
   "source": [
    "d16[\"My_name\"].upper()"
   ]
  },
  {
   "cell_type": "code",
   "execution_count": 112,
   "id": "a3b31152-3a12-4dc7-9ba5-bed93409a189",
   "metadata": {},
   "outputs": [
    {
     "data": {
      "text/plain": [
       "{'Course_name': {'Data science': 10000,\n",
       "  'Digital Marketing': 20000,\n",
       "  'MBA': 50000}}"
      ]
     },
     "execution_count": 112,
     "metadata": {},
     "output_type": "execute_result"
    }
   ],
   "source": [
    "d11"
   ]
  },
  {
   "cell_type": "code",
   "execution_count": 115,
   "id": "6bd91fa7-c12e-4b2d-9491-b9eae3919a1d",
   "metadata": {},
   "outputs": [
    {
     "data": {
      "text/plain": [
       "{'Data science': 10000, 'Digital Marketing': 20000, 'MBA': 50000}"
      ]
     },
     "execution_count": 115,
     "metadata": {},
     "output_type": "execute_result"
    }
   ],
   "source": [
    "d11[\"Course_name\"]"
   ]
  },
  {
   "cell_type": "code",
   "execution_count": 116,
   "id": "203aa726-94b9-49a7-980c-cde495108339",
   "metadata": {},
   "outputs": [
    {
     "data": {
      "text/plain": [
       "10000"
      ]
     },
     "execution_count": 116,
     "metadata": {},
     "output_type": "execute_result"
    }
   ],
   "source": [
    "d11[\"Course_name\"]['Data science']"
   ]
  },
  {
   "cell_type": "code",
   "execution_count": 117,
   "id": "699516a6-ee95-4f1a-863b-a5c5a5b6fa39",
   "metadata": {},
   "outputs": [
    {
     "data": {
      "text/plain": [
       "{'Course_name': {'Data science': 10000,\n",
       "  'Digital Marketing': 20000,\n",
       "  'MBA': 50000},\n",
       " 'key1': 'abc'}"
      ]
     },
     "execution_count": 117,
     "metadata": {},
     "output_type": "execute_result"
    }
   ],
   "source": [
    "d11[\"key1\"]='abc'\n",
    "d11"
   ]
  },
  {
   "cell_type": "code",
   "execution_count": 118,
   "id": "e83813f9-15d8-41e9-ae4d-c5046cea75e0",
   "metadata": {},
   "outputs": [],
   "source": [
    "del d11[\"key1\"]"
   ]
  },
  {
   "cell_type": "code",
   "execution_count": 119,
   "id": "c25e579f-a402-49d7-be7a-910699535ebb",
   "metadata": {},
   "outputs": [
    {
     "data": {
      "text/plain": [
       "{'Course_name': {'Data science': 10000,\n",
       "  'Digital Marketing': 20000,\n",
       "  'MBA': 50000}}"
      ]
     },
     "execution_count": 119,
     "metadata": {},
     "output_type": "execute_result"
    }
   ],
   "source": [
    "d11"
   ]
  },
  {
   "cell_type": "code",
   "execution_count": 120,
   "id": "f39b7599-fec2-46bb-b914-0eac48547462",
   "metadata": {},
   "outputs": [
    {
     "data": {
      "text/plain": [
       "1"
      ]
     },
     "execution_count": 120,
     "metadata": {},
     "output_type": "execute_result"
    }
   ],
   "source": [
    "len(d11)"
   ]
  },
  {
   "cell_type": "code",
   "execution_count": 121,
   "id": "d93bdeae-0503-4897-9eae-b0af28d03f98",
   "metadata": {},
   "outputs": [
    {
     "data": {
      "text/plain": [
       "dict_keys(['Course_name'])"
      ]
     },
     "execution_count": 121,
     "metadata": {},
     "output_type": "execute_result"
    }
   ],
   "source": [
    "d11.keys()"
   ]
  },
  {
   "cell_type": "code",
   "execution_count": 122,
   "id": "239c71dc-ba6a-45aa-8f66-32d85eef3785",
   "metadata": {},
   "outputs": [
    {
     "data": {
      "text/plain": [
       "dict_values([{'Data science': 10000, 'Digital Marketing': 20000, 'MBA': 50000}])"
      ]
     },
     "execution_count": 122,
     "metadata": {},
     "output_type": "execute_result"
    }
   ],
   "source": [
    "d11.values()"
   ]
  },
  {
   "cell_type": "code",
   "execution_count": 123,
   "id": "019b2f1b-41ad-41d0-96f7-59f00956dfeb",
   "metadata": {},
   "outputs": [
    {
     "data": {
      "text/plain": [
       "dict_items([('Course_name', {'Data science': 10000, 'Digital Marketing': 20000, 'MBA': 50000})])"
      ]
     },
     "execution_count": 123,
     "metadata": {},
     "output_type": "execute_result"
    }
   ],
   "source": [
    "d11.items()"
   ]
  },
  {
   "cell_type": "code",
   "execution_count": 124,
   "id": "c31fb1e6-ce5f-4f8e-9761-f9c1b321da4b",
   "metadata": {},
   "outputs": [
    {
     "data": {
      "text/plain": [
       "dict_keys(['batch_name', 'start_date', 'Mentor_name', 'timing', 'cost', 'My_name'])"
      ]
     },
     "execution_count": 124,
     "metadata": {},
     "output_type": "execute_result"
    }
   ],
   "source": [
    "d16.keys()"
   ]
  },
  {
   "cell_type": "code",
   "execution_count": 125,
   "id": "ec4379fc-b41e-495a-ba24-bd87f698c828",
   "metadata": {},
   "outputs": [
    {
     "data": {
      "text/plain": [
       "dict_values([['data science masters', 'web dev', 'JDS'], (28, 14, 8), {'akhtar', 'Hitesh', 'sudhanshu', 'Krish Naik', 'Naveen', 'Anurag'}, (8, 8, 8), (10000, 20000, 30000), 'Bhaskar'])"
      ]
     },
     "execution_count": 125,
     "metadata": {},
     "output_type": "execute_result"
    }
   ],
   "source": [
    "d16.values()"
   ]
  },
  {
   "cell_type": "code",
   "execution_count": 126,
   "id": "9801b4dd-0f7a-467f-a09c-11c94eece572",
   "metadata": {},
   "outputs": [
    {
     "data": {
      "text/plain": [
       "dict_items([('batch_name', ['data science masters', 'web dev', 'JDS']), ('start_date', (28, 14, 8)), ('Mentor_name', {'akhtar', 'Hitesh', 'sudhanshu', 'Krish Naik', 'Naveen', 'Anurag'}), ('timing', (8, 8, 8)), ('cost', (10000, 20000, 30000)), ('My_name', 'Bhaskar')])"
      ]
     },
     "execution_count": 126,
     "metadata": {},
     "output_type": "execute_result"
    }
   ],
   "source": [
    "d16.items()"
   ]
  },
  {
   "cell_type": "code",
   "execution_count": 127,
   "id": "73a05785-9c23-4627-a9cb-6a93a3e7cc2c",
   "metadata": {},
   "outputs": [
    {
     "data": {
      "text/plain": [
       "[['data science masters', 'web dev', 'JDS'],\n",
       " (28, 14, 8),\n",
       " {'Anurag', 'Hitesh', 'Krish Naik', 'Naveen', 'akhtar', 'sudhanshu'},\n",
       " (8, 8, 8),\n",
       " (10000, 20000, 30000),\n",
       " 'Bhaskar']"
      ]
     },
     "execution_count": 127,
     "metadata": {},
     "output_type": "execute_result"
    }
   ],
   "source": [
    "list(d16.values())"
   ]
  },
  {
   "cell_type": "code",
   "execution_count": 129,
   "id": "5d6edb8a-2856-40cc-9ec7-24755e2dadf8",
   "metadata": {},
   "outputs": [
    {
     "data": {
      "text/plain": [
       "['batch_name', 'start_date', 'Mentor_name', 'timing', 'cost', 'My_name']"
      ]
     },
     "execution_count": 129,
     "metadata": {},
     "output_type": "execute_result"
    }
   ],
   "source": [
    "list(d16.keys())"
   ]
  },
  {
   "cell_type": "code",
   "execution_count": 130,
   "id": "de5f37c6-f53b-4b50-bcf5-6e908f87f4d6",
   "metadata": {},
   "outputs": [
    {
     "data": {
      "text/plain": [
       "{'batch_name': ['data science masters', 'web dev', 'JDS'],\n",
       " 'start_date': (28, 14, 8),\n",
       " 'Mentor_name': {'Anurag',\n",
       "  'Hitesh',\n",
       "  'Krish Naik',\n",
       "  'Naveen',\n",
       "  'akhtar',\n",
       "  'sudhanshu'},\n",
       " 'timing': (8, 8, 8),\n",
       " 'cost': (10000, 20000, 30000),\n",
       " 'My_name': 'Bhaskar'}"
      ]
     },
     "execution_count": 130,
     "metadata": {},
     "output_type": "execute_result"
    }
   ],
   "source": [
    "d17=d16.copy() # will not affect if changes are made in either of the\n",
    "d17"
   ]
  },
  {
   "cell_type": "code",
   "execution_count": 131,
   "id": "a0e81a74-0622-4b81-9d3b-fc4518bba1ce",
   "metadata": {},
   "outputs": [
    {
     "data": {
      "text/plain": [
       "{'batch_name': ['data science masters', 'web dev', 'JDS'],\n",
       " 'start_date': (28, 14, 8),\n",
       " 'Mentor_name': {'Anurag',\n",
       "  'Hitesh',\n",
       "  'Krish Naik',\n",
       "  'Naveen',\n",
       "  'akhtar',\n",
       "  'sudhanshu'},\n",
       " 'timing': (8, 8, 8),\n",
       " 'cost': (10000, 20000, 30000),\n",
       " 'My_name': 'Bhaskar'}"
      ]
     },
     "execution_count": 131,
     "metadata": {},
     "output_type": "execute_result"
    }
   ],
   "source": [
    "d18=d16 # willaffect if changes are made in either of the\n",
    "d18"
   ]
  },
  {
   "cell_type": "code",
   "execution_count": 132,
   "id": "a5080691-47cb-4aea-8634-6313bd1953b7",
   "metadata": {},
   "outputs": [
    {
     "data": {
      "text/plain": [
       "{'batch_name': ['data science masters', 'web dev', 'JDS'],\n",
       " 'start_date': (28, 14, 8),\n",
       " 'Mentor_name': {'Anurag',\n",
       "  'Hitesh',\n",
       "  'Krish Naik',\n",
       "  'Naveen',\n",
       "  'akhtar',\n",
       "  'sudhanshu'},\n",
       " 'timing': (8, 8, 8),\n",
       " 'cost': (10000, 20000, 30000)}"
      ]
     },
     "execution_count": 132,
     "metadata": {},
     "output_type": "execute_result"
    }
   ],
   "source": [
    "del d16['My_name']\n",
    "d16"
   ]
  },
  {
   "cell_type": "code",
   "execution_count": 133,
   "id": "e3ff3542-826d-4806-adf2-a881f0e7e81a",
   "metadata": {},
   "outputs": [
    {
     "data": {
      "text/plain": [
       "{'batch_name': ['data science masters', 'web dev', 'JDS'],\n",
       " 'start_date': (28, 14, 8),\n",
       " 'Mentor_name': {'Anurag',\n",
       "  'Hitesh',\n",
       "  'Krish Naik',\n",
       "  'Naveen',\n",
       "  'akhtar',\n",
       "  'sudhanshu'},\n",
       " 'timing': (8, 8, 8),\n",
       " 'cost': (10000, 20000, 30000)}"
      ]
     },
     "execution_count": 133,
     "metadata": {},
     "output_type": "execute_result"
    }
   ],
   "source": [
    "d18"
   ]
  },
  {
   "cell_type": "code",
   "execution_count": 134,
   "id": "4651ac9c-413c-43a9-953c-f41b07ce4444",
   "metadata": {},
   "outputs": [
    {
     "data": {
      "text/plain": [
       "{'batch_name': ['data science masters', 'web dev', 'JDS'],\n",
       " 'start_date': (28, 14, 8),\n",
       " 'Mentor_name': {'Anurag',\n",
       "  'Hitesh',\n",
       "  'Krish Naik',\n",
       "  'Naveen',\n",
       "  'akhtar',\n",
       "  'sudhanshu'},\n",
       " 'timing': (8, 8, 8),\n",
       " 'cost': (10000, 20000, 30000),\n",
       " 'My_name': 'Bhaskar'}"
      ]
     },
     "execution_count": 134,
     "metadata": {},
     "output_type": "execute_result"
    }
   ],
   "source": [
    "d17"
   ]
  },
  {
   "cell_type": "code",
   "execution_count": 135,
   "id": "98cceea6-1567-45b8-8aab-dc0ee931a5a8",
   "metadata": {},
   "outputs": [
    {
     "data": {
      "text/plain": [
       "{'batch_name': ['data science masters', 'web dev', 'JDS'],\n",
       " 'Mentor_name': {'Anurag',\n",
       "  'Hitesh',\n",
       "  'Krish Naik',\n",
       "  'Naveen',\n",
       "  'akhtar',\n",
       "  'sudhanshu'},\n",
       " 'timing': (8, 8, 8),\n",
       " 'cost': (10000, 20000, 30000),\n",
       " 'My_name': 'Bhaskar'}"
      ]
     },
     "execution_count": 135,
     "metadata": {},
     "output_type": "execute_result"
    }
   ],
   "source": [
    "d17.pop('start_date')\n",
    "d17"
   ]
  },
  {
   "cell_type": "code",
   "execution_count": 136,
   "id": "9f07203b-9869-4628-a7b6-c0082c64ca63",
   "metadata": {},
   "outputs": [
    {
     "data": {
      "text/plain": [
       "{1: ('a', 'b', 'c'), 2: ('a', 'b', 'c'), 3: ('a', 'b', 'c')}"
      ]
     },
     "execution_count": 136,
     "metadata": {},
     "output_type": "execute_result"
    }
   ],
   "source": [
    "d.fromkeys((1,2,3),(\"a\",\"b\",\"c\"))"
   ]
  },
  {
   "cell_type": "code",
   "execution_count": 137,
   "id": "220db455-a51f-432b-9026-6c0ab33b7819",
   "metadata": {},
   "outputs": [],
   "source": [
    "d19 = {\"key1\" : \"Value\",\"key2\" : \"Value2\"}\n",
    "d20 = {\"key2\" : \"Value2\",\"key3\" : \"Value3\"}"
   ]
  },
  {
   "cell_type": "code",
   "execution_count": 138,
   "id": "b88fff39-d2b2-4706-9a5b-638dadaa8b46",
   "metadata": {},
   "outputs": [
    {
     "data": {
      "text/plain": [
       "({'key1': 'Value', 'key2': 'Value2'}, {'key2': 'Value2', 'key3': 'Value3'})"
      ]
     },
     "execution_count": 138,
     "metadata": {},
     "output_type": "execute_result"
    }
   ],
   "source": [
    "(d19,d20)"
   ]
  },
  {
   "cell_type": "code",
   "execution_count": 142,
   "id": "db978aa8-5a48-4d75-bf78-ae8fdefd499c",
   "metadata": {},
   "outputs": [],
   "source": [
    "d19.update(d20) # adds unique value from d20 to d19"
   ]
  },
  {
   "cell_type": "code",
   "execution_count": 143,
   "id": "e39f681a-b7a8-4775-907b-962e830733ba",
   "metadata": {},
   "outputs": [
    {
     "data": {
      "text/plain": [
       "{'key1': 'Value', 'key2': 'Value2', 'key3': 'Value3'}"
      ]
     },
     "execution_count": 143,
     "metadata": {},
     "output_type": "execute_result"
    }
   ],
   "source": [
    "d19"
   ]
  },
  {
   "cell_type": "code",
   "execution_count": 144,
   "id": "1e3ba41d-dd30-42c8-8271-b80ed5d5035b",
   "metadata": {},
   "outputs": [],
   "source": [
    "d20.get(\"name\") # will not give error if key not present"
   ]
  },
  {
   "cell_type": "code",
   "execution_count": 145,
   "id": "e32705c2-8157-4a76-ad49-68e88f8df90e",
   "metadata": {},
   "outputs": [
    {
     "data": {
      "text/plain": [
       "'Value3'"
      ]
     },
     "execution_count": 145,
     "metadata": {},
     "output_type": "execute_result"
    }
   ],
   "source": [
    "d20.get(\"key3\")"
   ]
  },
  {
   "cell_type": "code",
   "execution_count": 146,
   "id": "8ac9da2a-27ff-4f2b-96dd-ea758868b288",
   "metadata": {},
   "outputs": [
    {
     "data": {
      "text/plain": [
       "'Value3'"
      ]
     },
     "execution_count": 146,
     "metadata": {},
     "output_type": "execute_result"
    }
   ],
   "source": [
    "d20[\"key3\"]"
   ]
  },
  {
   "cell_type": "code",
   "execution_count": 148,
   "id": "c7f4e5d0-2900-4cc5-8088-820064c9599e",
   "metadata": {},
   "outputs": [
    {
     "ename": "KeyError",
     "evalue": "'name'",
     "output_type": "error",
     "traceback": [
      "\u001b[0;31m---------------------------------------------------------------------------\u001b[0m",
      "\u001b[0;31mKeyError\u001b[0m                                  Traceback (most recent call last)",
      "Cell \u001b[0;32mIn[148], line 1\u001b[0m\n\u001b[0;32m----> 1\u001b[0m \u001b[43md20\u001b[49m\u001b[43m[\u001b[49m\u001b[38;5;124;43m\"\u001b[39;49m\u001b[38;5;124;43mname\u001b[39;49m\u001b[38;5;124;43m\"\u001b[39;49m\u001b[43m]\u001b[49m\u001b[38;5;66;03m# will  give error if key not present\u001b[39;00m\n",
      "\u001b[0;31mKeyError\u001b[0m: 'name'"
     ]
    }
   ],
   "source": [
    "d20[\"name\"]# will  give error if key not present"
   ]
  },
  {
   "cell_type": "code",
   "execution_count": 149,
   "id": "aa16c0ae-2f99-43ef-95f9-cd5791f1e00b",
   "metadata": {},
   "outputs": [
    {
     "data": {
      "text/plain": [
       "{1: 1, 2: 4, 3: 9, 4: 16, 5: 25, 6: 36, 7: 49, 8: 64, 9: 81, 10: 100}"
      ]
     },
     "execution_count": 149,
     "metadata": {},
     "output_type": "execute_result"
    }
   ],
   "source": [
    "{ i : i**2 for i in range(1,11)}"
   ]
  },
  {
   "cell_type": "code",
   "execution_count": 150,
   "id": "eec812f1-5b8b-4ba0-8f55-eb2689a9e72c",
   "metadata": {},
   "outputs": [
    {
     "data": {
      "text/plain": [
       "{1: 11, 2: 12, 3: 13, 4: 14, 5: 15, 6: 16, 7: 17, 8: 18, 9: 19, 10: 20}"
      ]
     },
     "execution_count": 150,
     "metadata": {},
     "output_type": "execute_result"
    }
   ],
   "source": [
    "{ i : i+10 for i in range(1,11)}"
   ]
  },
  {
   "cell_type": "code",
   "execution_count": 1,
   "id": "b8418af1-a66f-4461-9209-5b2c5a50f345",
   "metadata": {},
   "outputs": [],
   "source": [
    "import math\n",
    "d21={ i : math.log10(i) for i in range(1,11)}"
   ]
  },
  {
   "cell_type": "code",
   "execution_count": 2,
   "id": "135c908a-5c84-47f3-b95a-1fcda9812356",
   "metadata": {},
   "outputs": [
    {
     "data": {
      "text/plain": [
       "{1: 0.0,\n",
       " 2: 0.3010299956639812,\n",
       " 3: 0.47712125471966244,\n",
       " 4: 0.6020599913279624,\n",
       " 5: 0.6989700043360189,\n",
       " 6: 0.7781512503836436,\n",
       " 7: 0.8450980400142568,\n",
       " 8: 0.9030899869919435,\n",
       " 9: 0.9542425094393249,\n",
       " 10: 1.0}"
      ]
     },
     "execution_count": 2,
     "metadata": {},
     "output_type": "execute_result"
    }
   ],
   "source": [
    "d21"
   ]
  },
  {
   "cell_type": "code",
   "execution_count": 5,
   "id": "46c230ca-16c1-41e6-9464-65996480dee2",
   "metadata": {},
   "outputs": [
    {
     "name": "stdout",
     "output_type": "stream",
     "text": [
      "2 0.3010299956639812\n",
      "4 0.6020599913279624\n",
      "6 0.7781512503836436\n",
      "8 0.9030899869919435\n",
      "10 1.0\n"
     ]
    }
   ],
   "source": [
    "for i in d21.keys():\n",
    "    if i%2==0:\n",
    "        print(i,d21[i])\n",
    "        #print(d21[i])\n",
    "    "
   ]
  },
  {
   "cell_type": "code",
   "execution_count": 6,
   "id": "56e49ada-94b9-4426-8f89-d6291a8bde2d",
   "metadata": {},
   "outputs": [],
   "source": [
    "s=(22, 25, 39, 84, 89, 64, 74.55)"
   ]
  },
  {
   "cell_type": "code",
   "execution_count": 7,
   "id": "5c9c0e05-76ae-4bb0-b8bd-750855d99c69",
   "metadata": {},
   "outputs": [
    {
     "data": {
      "text/plain": [
       "(22, 25, 39, 84, 89, 64, 74.55)"
      ]
     },
     "execution_count": 7,
     "metadata": {},
     "output_type": "execute_result"
    }
   ],
   "source": [
    "s"
   ]
  },
  {
   "cell_type": "code",
   "execution_count": 10,
   "id": "5da19335-76ca-449a-8a11-048789210d6d",
   "metadata": {},
   "outputs": [
    {
     "name": "stdout",
     "output_type": "stream",
     "text": [
      "(100, 100)\n"
     ]
    }
   ],
   "source": [
    "atuple = (100,)\n",
    "\n",
    "print(atuple * 2)"
   ]
  },
  {
   "cell_type": "code",
   "execution_count": null,
   "id": "53218f36-9d3e-4436-8e46-3f4f7e60cd68",
   "metadata": {},
   "outputs": [],
   "source": []
  }
 ],
 "metadata": {
  "kernelspec": {
   "display_name": "Python 3 (ipykernel)",
   "language": "python",
   "name": "python3"
  },
  "language_info": {
   "codemirror_mode": {
    "name": "ipython",
    "version": 3
   },
   "file_extension": ".py",
   "mimetype": "text/x-python",
   "name": "python",
   "nbconvert_exporter": "python",
   "pygments_lexer": "ipython3",
   "version": "3.10.8"
  }
 },
 "nbformat": 4,
 "nbformat_minor": 5
}
