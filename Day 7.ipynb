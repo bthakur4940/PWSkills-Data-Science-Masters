{
 "cells": [
  {
   "cell_type": "markdown",
   "id": "bd1dc7f4-36dd-4dbf-85f4-7b2583c0b73c",
   "metadata": {},
   "source": [
    "# Lambda Function/ Anonymous Function / Adhoc Function"
   ]
  },
  {
   "cell_type": "code",
   "execution_count": 1,
   "id": "9d48cf9b-190d-4ee2-b433-8936874a5146",
   "metadata": {},
   "outputs": [],
   "source": [
    "n= 3\n",
    "p = 2\n",
    "\n"
   ]
  },
  {
   "cell_type": "code",
   "execution_count": 2,
   "id": "ae902a01-a54c-4b79-91b3-f31a0e589564",
   "metadata": {},
   "outputs": [],
   "source": [
    "def test(n,p):\n",
    "    return n*p"
   ]
  },
  {
   "cell_type": "code",
   "execution_count": 3,
   "id": "fb287515-968f-417a-8ba2-33717951207e",
   "metadata": {},
   "outputs": [
    {
     "data": {
      "text/plain": [
       "6"
      ]
     },
     "execution_count": 3,
     "metadata": {},
     "output_type": "execute_result"
    }
   ],
   "source": [
    "test(n,p)"
   ]
  },
  {
   "cell_type": "code",
   "execution_count": 5,
   "id": "5cd87002-1afe-438b-9792-76bec45a936f",
   "metadata": {},
   "outputs": [],
   "source": [
    "a=lambda n,p : n**p"
   ]
  },
  {
   "cell_type": "code",
   "execution_count": 6,
   "id": "7300fe9d-6563-4036-ac11-72cbbcd41df3",
   "metadata": {},
   "outputs": [
    {
     "data": {
      "text/plain": [
       "<function __main__.<lambda>(n, p)>"
      ]
     },
     "execution_count": 6,
     "metadata": {},
     "output_type": "execute_result"
    }
   ],
   "source": [
    "a"
   ]
  },
  {
   "cell_type": "code",
   "execution_count": 8,
   "id": "3923099b-dc09-4528-bad3-b7e774c1521d",
   "metadata": {},
   "outputs": [
    {
     "data": {
      "text/plain": [
       "9"
      ]
     },
     "execution_count": 8,
     "metadata": {},
     "output_type": "execute_result"
    }
   ],
   "source": [
    "a(3,2)"
   ]
  },
  {
   "cell_type": "code",
   "execution_count": 9,
   "id": "478758fb-8305-4ca6-826c-a196394cfa70",
   "metadata": {},
   "outputs": [
    {
     "data": {
      "text/plain": [
       "262144"
      ]
     },
     "execution_count": 9,
     "metadata": {},
     "output_type": "execute_result"
    }
   ],
   "source": [
    "a(4,9)"
   ]
  },
  {
   "cell_type": "code",
   "execution_count": 10,
   "id": "8fb708af-4945-4371-bc91-f909cd540f03",
   "metadata": {},
   "outputs": [],
   "source": [
    "add = lambda x,y : x+y"
   ]
  },
  {
   "cell_type": "code",
   "execution_count": 11,
   "id": "406b2134-3423-4cc5-8363-6e4b6dde6aa7",
   "metadata": {},
   "outputs": [
    {
     "data": {
      "text/plain": [
       "844"
      ]
     },
     "execution_count": 11,
     "metadata": {},
     "output_type": "execute_result"
    }
   ],
   "source": [
    "add(155,689)"
   ]
  },
  {
   "cell_type": "code",
   "execution_count": 12,
   "id": "060ba6e2-def3-4a27-bac3-ee06021bb375",
   "metadata": {},
   "outputs": [],
   "source": [
    "C_to_f= lambda c : (9/5)*c+32"
   ]
  },
  {
   "cell_type": "code",
   "execution_count": 14,
   "id": "69292483-52be-479b-9cd8-f649aadfc4f9",
   "metadata": {},
   "outputs": [
    {
     "data": {
      "text/plain": [
       "105.8"
      ]
     },
     "execution_count": 14,
     "metadata": {},
     "output_type": "execute_result"
    }
   ],
   "source": [
    "C_to_f(41)"
   ]
  },
  {
   "cell_type": "code",
   "execution_count": 16,
   "id": "2d10a376-7eac-4826-9af1-22c1b8e56e32",
   "metadata": {},
   "outputs": [],
   "source": [
    "max_two = lambda x,y : x if x> y else y"
   ]
  },
  {
   "cell_type": "code",
   "execution_count": 17,
   "id": "ad22cef4-3c63-41c5-9a66-d70793d3fa27",
   "metadata": {},
   "outputs": [
    {
     "data": {
      "text/plain": [
       "89"
      ]
     },
     "execution_count": 17,
     "metadata": {},
     "output_type": "execute_result"
    }
   ],
   "source": [
    "max_two(15,89)"
   ]
  },
  {
   "cell_type": "code",
   "execution_count": 18,
   "id": "76d96385-f177-45c7-8e35-3fe687c892f5",
   "metadata": {},
   "outputs": [],
   "source": [
    "s = \"pwskills\""
   ]
  },
  {
   "cell_type": "code",
   "execution_count": 20,
   "id": "97e0d780-b7cf-4baf-80fb-1f3bdc910816",
   "metadata": {},
   "outputs": [],
   "source": [
    "len_string = lambda s : len(s)"
   ]
  },
  {
   "cell_type": "code",
   "execution_count": 21,
   "id": "e6e4669a-5961-4d1b-a226-53591c615049",
   "metadata": {},
   "outputs": [
    {
     "data": {
      "text/plain": [
       "8"
      ]
     },
     "execution_count": 21,
     "metadata": {},
     "output_type": "execute_result"
    }
   ],
   "source": [
    "len_string(s)"
   ]
  },
  {
   "cell_type": "markdown",
   "id": "f00eb952-bede-4a3b-b827-dbc2a28a35ae",
   "metadata": {},
   "source": [
    "# MAP REDUCE & FILTER Function"
   ]
  },
  {
   "cell_type": "code",
   "execution_count": 22,
   "id": "df79d4ec-e357-40d4-bd47-6c935b712657",
   "metadata": {},
   "outputs": [],
   "source": [
    "l = [1,2,3,4,5]"
   ]
  },
  {
   "cell_type": "code",
   "execution_count": 23,
   "id": "01a0d43a-9311-45c4-ae73-2562dd8950da",
   "metadata": {},
   "outputs": [],
   "source": [
    "def test(l):\n",
    "    l1=[]\n",
    "    for i in l:\n",
    "        l1.append(i**2)\n",
    "    return l1\n",
    "        "
   ]
  },
  {
   "cell_type": "code",
   "execution_count": 24,
   "id": "17e64b6f-7a98-4b65-903d-14f502a0bbc1",
   "metadata": {},
   "outputs": [
    {
     "data": {
      "text/plain": [
       "[1, 4, 9, 16, 25]"
      ]
     },
     "execution_count": 24,
     "metadata": {},
     "output_type": "execute_result"
    }
   ],
   "source": [
    "test(l)"
   ]
  },
  {
   "cell_type": "code",
   "execution_count": 25,
   "id": "4022957e-5d15-4d0b-9b1d-d816b0f2da13",
   "metadata": {},
   "outputs": [],
   "source": [
    "def sq(x):\n",
    "    return x**2"
   ]
  },
  {
   "cell_type": "code",
   "execution_count": 26,
   "id": "78b99901-daff-44a0-82b5-5192bc8aa078",
   "metadata": {},
   "outputs": [
    {
     "data": {
      "text/plain": [
       "<map at 0x7f5135e36ec0>"
      ]
     },
     "execution_count": 26,
     "metadata": {},
     "output_type": "execute_result"
    }
   ],
   "source": [
    "map(sq,l)"
   ]
  },
  {
   "cell_type": "code",
   "execution_count": 28,
   "id": "a6ac3a2c-baf1-4792-bd8d-330ac2e0e8a2",
   "metadata": {},
   "outputs": [
    {
     "data": {
      "text/plain": [
       "[1, 4, 9, 16, 25]"
      ]
     },
     "execution_count": 28,
     "metadata": {},
     "output_type": "execute_result"
    }
   ],
   "source": [
    "list(map(sq,l)) # Mapper Function"
   ]
  },
  {
   "cell_type": "code",
   "execution_count": 30,
   "id": "1fc38644-7aa3-4862-8234-df8221f68b37",
   "metadata": {},
   "outputs": [
    {
     "data": {
      "text/plain": [
       "[1, 4, 9, 16, 25]"
      ]
     },
     "execution_count": 30,
     "metadata": {},
     "output_type": "execute_result"
    }
   ],
   "source": [
    "list(map(lambda x : x**2,l)) #Mapper Function with Lambda"
   ]
  },
  {
   "cell_type": "code",
   "execution_count": 33,
   "id": "f5203c32-bd74-449a-a0ef-94474acc2b57",
   "metadata": {},
   "outputs": [
    {
     "data": {
      "text/plain": [
       "[1, 4, 27, 256, 3125]"
      ]
     },
     "execution_count": 33,
     "metadata": {},
     "output_type": "execute_result"
    }
   ],
   "source": [
    "list(map(lambda x : x**x,l))"
   ]
  },
  {
   "cell_type": "code",
   "execution_count": 34,
   "id": "0d4630b5-bf98-4df2-8556-1a1210277b66",
   "metadata": {},
   "outputs": [
    {
     "data": {
      "text/plain": [
       "['1', '2', '3', '4', '5']"
      ]
     },
     "execution_count": 34,
     "metadata": {},
     "output_type": "execute_result"
    }
   ],
   "source": [
    "list(map(lambda x : str(x),l))"
   ]
  },
  {
   "cell_type": "code",
   "execution_count": 35,
   "id": "20e12239-9b6e-4763-b9db-697c2e0ac326",
   "metadata": {},
   "outputs": [],
   "source": [
    "l1 = [1,2,3,4,5,6,7,8]\n",
    "l2 = [9,10,11,12,13,14,15,16]"
   ]
  },
  {
   "cell_type": "code",
   "execution_count": 36,
   "id": "e9686d79-6451-4912-98a7-4f27e47eac00",
   "metadata": {},
   "outputs": [
    {
     "data": {
      "text/plain": [
       "[10, 12, 14, 16, 18, 20, 22, 24]"
      ]
     },
     "execution_count": 36,
     "metadata": {},
     "output_type": "execute_result"
    }
   ],
   "source": [
    "list(map(lambda x,y : x+y,l1,l2))"
   ]
  },
  {
   "cell_type": "code",
   "execution_count": 37,
   "id": "e1381a0f-5857-4020-84eb-090defbd61df",
   "metadata": {},
   "outputs": [],
   "source": [
    "f=lambda x,y : x+y"
   ]
  },
  {
   "cell_type": "code",
   "execution_count": 38,
   "id": "fdeced94-58ea-4463-b8f6-3f69fedbdd58",
   "metadata": {},
   "outputs": [
    {
     "data": {
      "text/plain": [
       "[10, 12, 14, 16, 18, 20, 22, 24]"
      ]
     },
     "execution_count": 38,
     "metadata": {},
     "output_type": "execute_result"
    }
   ],
   "source": [
    "list(map(f,l1,l2))"
   ]
  },
  {
   "cell_type": "code",
   "execution_count": 39,
   "id": "db1bfdbc-d387-486f-8ca2-6aaefda89171",
   "metadata": {},
   "outputs": [],
   "source": [
    "s = \"pwskills\""
   ]
  },
  {
   "cell_type": "code",
   "execution_count": 41,
   "id": "d1753d22-25ff-4575-bb78-0e04d2aab716",
   "metadata": {},
   "outputs": [
    {
     "data": {
      "text/plain": [
       "['P', 'W', 'S', 'K', 'I', 'L', 'L', 'S']"
      ]
     },
     "execution_count": 41,
     "metadata": {},
     "output_type": "execute_result"
    }
   ],
   "source": [
    "list(map(lambda x : x.upper(),s))"
   ]
  },
  {
   "cell_type": "code",
   "execution_count": 42,
   "id": "6be4724a-d9dc-46a5-b2dd-9f78bb476ffa",
   "metadata": {},
   "outputs": [],
   "source": [
    "from functools import reduce"
   ]
  },
  {
   "cell_type": "code",
   "execution_count": 43,
   "id": "844a5ef0-75be-4502-abba-a23fca0b8140",
   "metadata": {},
   "outputs": [],
   "source": [
    "l = [1,2,3,4,5,6]"
   ]
  },
  {
   "cell_type": "code",
   "execution_count": 44,
   "id": "86dfbade-be82-4d70-aab3-02ef6d6970e0",
   "metadata": {},
   "outputs": [
    {
     "data": {
      "text/plain": [
       "21"
      ]
     },
     "execution_count": 44,
     "metadata": {},
     "output_type": "execute_result"
    }
   ],
   "source": [
    "reduce (lambda x,y : x+y,l)"
   ]
  },
  {
   "cell_type": "code",
   "execution_count": 45,
   "id": "80698b05-d804-4bf3-95b9-a2efd8fb4deb",
   "metadata": {},
   "outputs": [],
   "source": [
    "def add(x,y):\n",
    "    return(x+y)"
   ]
  },
  {
   "cell_type": "code",
   "execution_count": 46,
   "id": "6f50db93-fb00-4bf9-b5f0-603b2a8e8205",
   "metadata": {},
   "outputs": [
    {
     "data": {
      "text/plain": [
       "21"
      ]
     },
     "execution_count": 46,
     "metadata": {},
     "output_type": "execute_result"
    }
   ],
   "source": [
    "reduce(add,l)"
   ]
  },
  {
   "cell_type": "code",
   "execution_count": 47,
   "id": "df117832-d876-4253-8dc2-04a0de966ab2",
   "metadata": {},
   "outputs": [
    {
     "data": {
      "text/plain": [
       "[1, 2, 3, 4, 5, 6]"
      ]
     },
     "execution_count": 47,
     "metadata": {},
     "output_type": "execute_result"
    }
   ],
   "source": [
    "l"
   ]
  },
  {
   "cell_type": "code",
   "execution_count": 48,
   "id": "1466e2da-c582-4bc7-8665-bd6cbeadd09e",
   "metadata": {},
   "outputs": [
    {
     "ename": "TypeError",
     "evalue": "reduce() of empty iterable with no initial value",
     "output_type": "error",
     "traceback": [
      "\u001b[0;31m---------------------------------------------------------------------------\u001b[0m",
      "\u001b[0;31mTypeError\u001b[0m                                 Traceback (most recent call last)",
      "Cell \u001b[0;32mIn[48], line 1\u001b[0m\n\u001b[0;32m----> 1\u001b[0m \u001b[43mreduce\u001b[49m\u001b[43m \u001b[49m\u001b[43m(\u001b[49m\u001b[38;5;28;43;01mlambda\u001b[39;49;00m\u001b[43m \u001b[49m\u001b[43mx\u001b[49m\u001b[43m,\u001b[49m\u001b[43my\u001b[49m\u001b[43m \u001b[49m\u001b[43m:\u001b[49m\u001b[43m \u001b[49m\u001b[43mx\u001b[49m\u001b[38;5;241;43m+\u001b[39;49m\u001b[43my\u001b[49m\u001b[43m,\u001b[49m\u001b[43m[\u001b[49m\u001b[43m]\u001b[49m\u001b[43m)\u001b[49m\n",
      "\u001b[0;31mTypeError\u001b[0m: reduce() of empty iterable with no initial value"
     ]
    }
   ],
   "source": [
    "reduce (lambda x,y : x+y,[])"
   ]
  },
  {
   "cell_type": "code",
   "execution_count": 49,
   "id": "16e06099-5787-439c-872b-def25f018632",
   "metadata": {},
   "outputs": [
    {
     "data": {
      "text/plain": [
       "1"
      ]
     },
     "execution_count": 49,
     "metadata": {},
     "output_type": "execute_result"
    }
   ],
   "source": [
    "reduce (lambda x,y : x+y,[1])"
   ]
  },
  {
   "cell_type": "code",
   "execution_count": 50,
   "id": "c8545d6b-37b8-4d17-a416-438970af5af8",
   "metadata": {},
   "outputs": [
    {
     "data": {
      "text/plain": [
       "9"
      ]
     },
     "execution_count": 50,
     "metadata": {},
     "output_type": "execute_result"
    }
   ],
   "source": [
    "reduce (lambda x,y : x*y,[9])"
   ]
  },
  {
   "cell_type": "code",
   "execution_count": 52,
   "id": "602955f3-fb26-4ec8-8670-530a9edc700d",
   "metadata": {},
   "outputs": [
    {
     "data": {
      "text/plain": [
       "6"
      ]
     },
     "execution_count": 52,
     "metadata": {},
     "output_type": "execute_result"
    }
   ],
   "source": [
    "reduce( lambda x,y : x if x> y else y,l)"
   ]
  },
  {
   "cell_type": "code",
   "execution_count": 54,
   "id": "1cf80da9-3205-4601-aa83-1c61a0009d36",
   "metadata": {},
   "outputs": [
    {
     "data": {
      "text/plain": [
       "<filter at 0x7f514fb0e590>"
      ]
     },
     "execution_count": 54,
     "metadata": {},
     "output_type": "execute_result"
    }
   ],
   "source": [
    "filter(lambda x :  x%2==0,l)"
   ]
  },
  {
   "cell_type": "code",
   "execution_count": 55,
   "id": "3805315b-0737-4ba2-9d98-eb5b99e1af6e",
   "metadata": {},
   "outputs": [
    {
     "data": {
      "text/plain": [
       "[2, 4, 6]"
      ]
     },
     "execution_count": 55,
     "metadata": {},
     "output_type": "execute_result"
    }
   ],
   "source": [
    "list(filter(lambda x :  x%2==0,l))"
   ]
  },
  {
   "cell_type": "code",
   "execution_count": 56,
   "id": "0d2e0d02-4341-4789-935a-f40aaac41614",
   "metadata": {},
   "outputs": [
    {
     "data": {
      "text/plain": [
       "[1, 3, 5]"
      ]
     },
     "execution_count": 56,
     "metadata": {},
     "output_type": "execute_result"
    }
   ],
   "source": [
    "list(filter(lambda x :  x%2!=0,l))"
   ]
  },
  {
   "cell_type": "code",
   "execution_count": 57,
   "id": "00f8787e-42ae-476b-b88a-82418da2314b",
   "metadata": {},
   "outputs": [],
   "source": [
    "l3 = [-2,-5,-8,-9,-6,8,74]"
   ]
  },
  {
   "cell_type": "code",
   "execution_count": 59,
   "id": "36eaa959-72ee-46f6-84bb-6500312b6d8c",
   "metadata": {},
   "outputs": [
    {
     "data": {
      "text/plain": [
       "[-2, -5, -8, -9, -6]"
      ]
     },
     "execution_count": 59,
     "metadata": {},
     "output_type": "execute_result"
    }
   ],
   "source": [
    "list(filter(lambda x : x<0,l3))"
   ]
  },
  {
   "cell_type": "code",
   "execution_count": 60,
   "id": "edf0a0c5-94dd-4c24-b1f5-91b64ecdca72",
   "metadata": {},
   "outputs": [
    {
     "data": {
      "text/plain": [
       "[8, 74]"
      ]
     },
     "execution_count": 60,
     "metadata": {},
     "output_type": "execute_result"
    }
   ],
   "source": [
    "list(filter(lambda x : x>0,l3))"
   ]
  },
  {
   "cell_type": "code",
   "execution_count": 61,
   "id": "5b1745ec-640d-414e-9aae-38ac59862659",
   "metadata": {},
   "outputs": [],
   "source": [
    "l5 = [\"Bhaskar\",\"thakur\",\"bengaluru\",\"atul\"]"
   ]
  },
  {
   "cell_type": "code",
   "execution_count": 62,
   "id": "7e080df0-6288-4189-9e0b-0d51e56e520b",
   "metadata": {},
   "outputs": [
    {
     "data": {
      "text/plain": [
       "['atul']"
      ]
     },
     "execution_count": 62,
     "metadata": {},
     "output_type": "execute_result"
    }
   ],
   "source": [
    "list(filter(lambda x : len(x)< 6,l5))"
   ]
  },
  {
   "cell_type": "code",
   "execution_count": null,
   "id": "ab5d4e5a-17fb-4fbf-bf4a-7ab14bef1d62",
   "metadata": {},
   "outputs": [],
   "source": []
  }
 ],
 "metadata": {
  "kernelspec": {
   "display_name": "Python 3 (ipykernel)",
   "language": "python",
   "name": "python3"
  },
  "language_info": {
   "codemirror_mode": {
    "name": "ipython",
    "version": 3
   },
   "file_extension": ".py",
   "mimetype": "text/x-python",
   "name": "python",
   "nbconvert_exporter": "python",
   "pygments_lexer": "ipython3",
   "version": "3.10.8"
  }
 },
 "nbformat": 4,
 "nbformat_minor": 5
}
