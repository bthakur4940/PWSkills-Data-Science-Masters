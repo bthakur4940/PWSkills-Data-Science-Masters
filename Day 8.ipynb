{
 "cells": [
  {
   "cell_type": "markdown",
   "id": "41dab7d6-4cd9-4145-abbe-63335bfe8bc1",
   "metadata": {},
   "source": [
    "# OOPS "
   ]
  },
  {
   "cell_type": "code",
   "execution_count": 1,
   "id": "f003ddc2-4fa6-48b3-9f05-4923a2b507cc",
   "metadata": {},
   "outputs": [],
   "source": [
    "a = 1"
   ]
  },
  {
   "cell_type": "code",
   "execution_count": 2,
   "id": "5d50a5b2-3c08-4439-98c3-3d2cb04ee641",
   "metadata": {},
   "outputs": [
    {
     "data": {
      "text/plain": [
       "int"
      ]
     },
     "execution_count": 2,
     "metadata": {},
     "output_type": "execute_result"
    }
   ],
   "source": [
    "type(a)"
   ]
  },
  {
   "cell_type": "code",
   "execution_count": 3,
   "id": "d0636d85-c482-4482-8650-0f49a345a0eb",
   "metadata": {},
   "outputs": [
    {
     "name": "stdout",
     "output_type": "stream",
     "text": [
      "<class 'int'>\n"
     ]
    }
   ],
   "source": [
    "print(type(a))"
   ]
  },
  {
   "cell_type": "code",
   "execution_count": 5,
   "id": "ac8288ea-43ab-4a83-9cb5-baec3b729aa3",
   "metadata": {},
   "outputs": [
    {
     "name": "stdout",
     "output_type": "stream",
     "text": [
      "<class 'str'>\n"
     ]
    }
   ],
   "source": [
    "print(type(\"pwskills\"))"
   ]
  },
  {
   "cell_type": "code",
   "execution_count": 6,
   "id": "79f75c51-fcbc-4ae2-81e8-7e465b13d8f5",
   "metadata": {},
   "outputs": [
    {
     "ename": "SyntaxError",
     "evalue": "incomplete input (2391559855.py, line 1)",
     "output_type": "error",
     "traceback": [
      "\u001b[0;36m  Cell \u001b[0;32mIn[6], line 1\u001b[0;36m\u001b[0m\n\u001b[0;31m    class test():\u001b[0m\n\u001b[0m                 ^\u001b[0m\n\u001b[0;31mSyntaxError\u001b[0m\u001b[0;31m:\u001b[0m incomplete input\n"
     ]
    }
   ],
   "source": [
    "class test():"
   ]
  },
  {
   "cell_type": "code",
   "execution_count": 7,
   "id": "8d420660-be0d-461a-a7a5-8c2c9aaff340",
   "metadata": {},
   "outputs": [],
   "source": [
    "class test():\n",
    "    pass"
   ]
  },
  {
   "cell_type": "code",
   "execution_count": 8,
   "id": "6f759816-6811-4bf6-8ea6-49e06cbebaa7",
   "metadata": {},
   "outputs": [],
   "source": [
    "a= test()"
   ]
  },
  {
   "cell_type": "code",
   "execution_count": 9,
   "id": "9fd7f3bb-598f-4e2f-aaaf-8da26edf2df5",
   "metadata": {},
   "outputs": [
    {
     "data": {
      "text/plain": [
       "__main__.test"
      ]
     },
     "execution_count": 9,
     "metadata": {},
     "output_type": "execute_result"
    }
   ],
   "source": [
    "type(a)"
   ]
  },
  {
   "cell_type": "code",
   "execution_count": 10,
   "id": "fae8b93a-5869-4f2b-a18e-ebd4d3b1c231",
   "metadata": {},
   "outputs": [
    {
     "name": "stdout",
     "output_type": "stream",
     "text": [
      "<class '__main__.test'>\n"
     ]
    }
   ],
   "source": [
    "print(type(a))"
   ]
  },
  {
   "cell_type": "code",
   "execution_count": 15,
   "id": "881e4846-48a8-48e0-9738-d2462967e4c2",
   "metadata": {},
   "outputs": [],
   "source": [
    "class pwskills:\n",
    "    def welcome_msg(self):\n",
    "        print(\"Welcome to pwskills\")\n",
    "    "
   ]
  },
  {
   "cell_type": "code",
   "execution_count": 16,
   "id": "3a40804a-b22e-4983-89d9-a5ff60173563",
   "metadata": {},
   "outputs": [],
   "source": [
    "rohan= pwskills()"
   ]
  },
  {
   "cell_type": "code",
   "execution_count": 17,
   "id": "d0a49775-912b-466a-8fab-a80b731c9876",
   "metadata": {},
   "outputs": [
    {
     "name": "stdout",
     "output_type": "stream",
     "text": [
      "Welcome to pwskills\n"
     ]
    }
   ],
   "source": [
    "rohan.welcome_msg()"
   ]
  },
  {
   "cell_type": "code",
   "execution_count": 18,
   "id": "2ae1dc5f-c8e9-4bc3-b481-d4e065cbc38f",
   "metadata": {},
   "outputs": [],
   "source": [
    "a=1"
   ]
  },
  {
   "cell_type": "code",
   "execution_count": 19,
   "id": "5089a774-321e-4835-8947-c827e1f7a351",
   "metadata": {},
   "outputs": [],
   "source": [
    "b=1"
   ]
  },
  {
   "cell_type": "code",
   "execution_count": 20,
   "id": "779156eb-60a7-48b1-be91-2cc036e948e9",
   "metadata": {},
   "outputs": [],
   "source": [
    "class pwskills1:\n",
    "    def __init__(self,phone_num,email,student_id):\n",
    "        self.phone_num= phone_num\n",
    "        self.email= email\n",
    "        self.student_id = student_id\n",
    "        \n",
    "    def return_student_details(self):\n",
    "        return self.phone_num,self.email,self.student_id"
   ]
  },
  {
   "cell_type": "code",
   "execution_count": 23,
   "id": "17488d74-0a25-429c-9a6c-4cb5fc01eb61",
   "metadata": {},
   "outputs": [],
   "source": [
    "rohan =pwskills1(8051227799,\"bthakur_5137@gmail.com\",101)"
   ]
  },
  {
   "cell_type": "code",
   "execution_count": 24,
   "id": "bfe36295-4db9-4352-8402-fdcc4a5a521b",
   "metadata": {},
   "outputs": [
    {
     "data": {
      "text/plain": [
       "8051227799"
      ]
     },
     "execution_count": 24,
     "metadata": {},
     "output_type": "execute_result"
    }
   ],
   "source": [
    "rohan.phone_num"
   ]
  },
  {
   "cell_type": "code",
   "execution_count": 25,
   "id": "09a832f4-7275-4989-8da5-c0c5ff3c621e",
   "metadata": {},
   "outputs": [
    {
     "data": {
      "text/plain": [
       "'bthakur_5137@gmail.com'"
      ]
     },
     "execution_count": 25,
     "metadata": {},
     "output_type": "execute_result"
    }
   ],
   "source": [
    "rohan.email"
   ]
  },
  {
   "cell_type": "code",
   "execution_count": 27,
   "id": "90a6db5e-1554-4d2d-92ae-59aec1d4b953",
   "metadata": {},
   "outputs": [
    {
     "data": {
      "text/plain": [
       "101"
      ]
     },
     "execution_count": 27,
     "metadata": {},
     "output_type": "execute_result"
    }
   ],
   "source": [
    "rohan.student_id"
   ]
  },
  {
   "cell_type": "code",
   "execution_count": 35,
   "id": "04f07b01-cfd9-43ee-b8b9-1c124cf4556e",
   "metadata": {},
   "outputs": [],
   "source": [
    "class pwskills2:\n",
    "    def __init__(bha,phone_num,email,student_id):\n",
    "        bha.phone_num= phone_num\n",
    "        bha.email= email\n",
    "        bha.student_id = student_id\n",
    "        \n",
    "    def return_student_details(bha):\n",
    "        return bha.phone_num,bha.email,bha.student_id"
   ]
  },
  {
   "cell_type": "code",
   "execution_count": 37,
   "id": "f6d23541-eaba-4bd3-9afc-9f3ae792e526",
   "metadata": {},
   "outputs": [],
   "source": [
    "tha=pwskills2(8809180587,\"bthakur5137@aol.com\",234)"
   ]
  },
  {
   "cell_type": "code",
   "execution_count": 38,
   "id": "b93690d3-8b88-466a-8e38-f8e52cc1c13d",
   "metadata": {},
   "outputs": [
    {
     "data": {
      "text/plain": [
       "8809180587"
      ]
     },
     "execution_count": 38,
     "metadata": {},
     "output_type": "execute_result"
    }
   ],
   "source": [
    "tha.phone_num"
   ]
  },
  {
   "cell_type": "code",
   "execution_count": 39,
   "id": "4be1812c-e664-406f-bb49-c62cd25f5ed4",
   "metadata": {},
   "outputs": [
    {
     "data": {
      "text/plain": [
       "'bthakur5137@aol.com'"
      ]
     },
     "execution_count": 39,
     "metadata": {},
     "output_type": "execute_result"
    }
   ],
   "source": [
    "tha.email"
   ]
  },
  {
   "cell_type": "code",
   "execution_count": 40,
   "id": "102a39c0-0746-46ca-af83-9cbafe94fab4",
   "metadata": {},
   "outputs": [
    {
     "data": {
      "text/plain": [
       "234"
      ]
     },
     "execution_count": 40,
     "metadata": {},
     "output_type": "execute_result"
    }
   ],
   "source": [
    "tha.student_id"
   ]
  },
  {
   "cell_type": "code",
   "execution_count": 41,
   "id": "b038c3e2-35ea-4bce-b432-a076f16a8c0c",
   "metadata": {},
   "outputs": [
    {
     "data": {
      "text/plain": [
       "(8809180587, 'bthakur5137@aol.com', 234)"
      ]
     },
     "execution_count": 41,
     "metadata": {},
     "output_type": "execute_result"
    }
   ],
   "source": [
    "tha.return_student_details()"
   ]
  },
  {
   "cell_type": "code",
   "execution_count": 42,
   "id": "32e01178-2cd2-4632-9bb9-94c1737095b3",
   "metadata": {},
   "outputs": [],
   "source": [
    "class pwskills3:\n",
    "    def __init__(bha,phone_num,email,student_id):\n",
    "        bha.phone_num1= phone_num\n",
    "        bha.email= email\n",
    "        bha.student_id = student_id\n",
    "        \n",
    "    def return_student_details(bha):\n",
    "        return bha.phone_num,bha.email,bha.student_id"
   ]
  },
  {
   "cell_type": "code",
   "execution_count": 43,
   "id": "9dcb995c-0433-40fa-9078-345976d7eb99",
   "metadata": {},
   "outputs": [],
   "source": [
    "tha=pwskills3(8809180587,\"bthakur5137@aol.com\",234)"
   ]
  },
  {
   "cell_type": "code",
   "execution_count": 44,
   "id": "6233fbe3-2463-4259-b12a-b977ba1cdb9f",
   "metadata": {},
   "outputs": [
    {
     "ename": "AttributeError",
     "evalue": "'pwskills3' object has no attribute 'phone_num'",
     "output_type": "error",
     "traceback": [
      "\u001b[0;31m---------------------------------------------------------------------------\u001b[0m",
      "\u001b[0;31mAttributeError\u001b[0m                            Traceback (most recent call last)",
      "Cell \u001b[0;32mIn[44], line 1\u001b[0m\n\u001b[0;32m----> 1\u001b[0m \u001b[43mtha\u001b[49m\u001b[38;5;241;43m.\u001b[39;49m\u001b[43mphone_num\u001b[49m\n",
      "\u001b[0;31mAttributeError\u001b[0m: 'pwskills3' object has no attribute 'phone_num'"
     ]
    }
   ],
   "source": [
    "tha.phone_num"
   ]
  },
  {
   "cell_type": "code",
   "execution_count": 50,
   "id": "18dd0005-65a2-409a-b611-9534509a835e",
   "metadata": {},
   "outputs": [],
   "source": [
    "class pwskills3:\n",
    "    def __init__(bha,phone_num1,email,student_id):\n",
    "        bha.phone_num= phone_num1\n",
    "        bha.email= email\n",
    "        bha.student_id = student_id\n",
    "        \n",
    "    def return_student_details(bha):\n",
    "        return bha.phone_num,bha.email,bha.student_id"
   ]
  },
  {
   "cell_type": "code",
   "execution_count": 51,
   "id": "9b31a793-8ed9-428a-a9ba-5603186dea75",
   "metadata": {},
   "outputs": [],
   "source": [
    "tha=pwskills3(8809180587,\"bthakur5137@aol.com\",234)"
   ]
  },
  {
   "cell_type": "code",
   "execution_count": 52,
   "id": "1a933865-62dc-4d99-9eb9-b184b1826e3c",
   "metadata": {},
   "outputs": [
    {
     "data": {
      "text/plain": [
       "8809180587"
      ]
     },
     "execution_count": 52,
     "metadata": {},
     "output_type": "execute_result"
    }
   ],
   "source": [
    "tha.phone_num"
   ]
  },
  {
   "cell_type": "code",
   "execution_count": 48,
   "id": "e730acd6-2b96-4b84-9357-82c12aa739c0",
   "metadata": {},
   "outputs": [],
   "source": [
    "class pwskills3:\n",
    "    def __init__(bha,phone_num,email,student_id):\n",
    "        bha.phone_num1= phone_num1\n",
    "        bha.email= email\n",
    "        bha.student_id = student_id\n",
    "        \n",
    "    def return_student_details(bha):\n",
    "        return bha.phone_num,bha.email,bha.student_id"
   ]
  },
  {
   "cell_type": "code",
   "execution_count": 49,
   "id": "5cbdc7e6-d002-40f5-a3f1-8873d128d0cd",
   "metadata": {},
   "outputs": [
    {
     "ename": "NameError",
     "evalue": "name 'phone_num1' is not defined",
     "output_type": "error",
     "traceback": [
      "\u001b[0;31m---------------------------------------------------------------------------\u001b[0m",
      "\u001b[0;31mNameError\u001b[0m                                 Traceback (most recent call last)",
      "Cell \u001b[0;32mIn[49], line 1\u001b[0m\n\u001b[0;32m----> 1\u001b[0m tha\u001b[38;5;241m=\u001b[39m\u001b[43mpwskills3\u001b[49m\u001b[43m(\u001b[49m\u001b[38;5;241;43m8809180587\u001b[39;49m\u001b[43m,\u001b[49m\u001b[38;5;124;43m\"\u001b[39;49m\u001b[38;5;124;43mbthakur5137@aol.com\u001b[39;49m\u001b[38;5;124;43m\"\u001b[39;49m\u001b[43m,\u001b[49m\u001b[38;5;241;43m234\u001b[39;49m\u001b[43m)\u001b[49m\n",
      "Cell \u001b[0;32mIn[48], line 3\u001b[0m, in \u001b[0;36mpwskills3.__init__\u001b[0;34m(bha, phone_num, email, student_id)\u001b[0m\n\u001b[1;32m      2\u001b[0m \u001b[38;5;28;01mdef\u001b[39;00m \u001b[38;5;21m__init__\u001b[39m(bha,phone_num,email,student_id):\n\u001b[0;32m----> 3\u001b[0m     bha\u001b[38;5;241m.\u001b[39mphone_num1\u001b[38;5;241m=\u001b[39m \u001b[43mphone_num1\u001b[49m\n\u001b[1;32m      4\u001b[0m     bha\u001b[38;5;241m.\u001b[39memail\u001b[38;5;241m=\u001b[39m email\n\u001b[1;32m      5\u001b[0m     bha\u001b[38;5;241m.\u001b[39mstudent_id \u001b[38;5;241m=\u001b[39m student_id\n",
      "\u001b[0;31mNameError\u001b[0m: name 'phone_num1' is not defined"
     ]
    }
   ],
   "source": [
    "tha=pwskills3(8809180587,\"bthakur5137@aol.com\",234)"
   ]
  },
  {
   "cell_type": "code",
   "execution_count": null,
   "id": "edcfa477-efaf-4450-bf35-c2dd6691b8c7",
   "metadata": {},
   "outputs": [],
   "source": []
  }
 ],
 "metadata": {
  "kernelspec": {
   "display_name": "Python 3 (ipykernel)",
   "language": "python",
   "name": "python3"
  },
  "language_info": {
   "codemirror_mode": {
    "name": "ipython",
    "version": 3
   },
   "file_extension": ".py",
   "mimetype": "text/x-python",
   "name": "python",
   "nbconvert_exporter": "python",
   "pygments_lexer": "ipython3",
   "version": "3.10.8"
  }
 },
 "nbformat": 4,
 "nbformat_minor": 5
}
