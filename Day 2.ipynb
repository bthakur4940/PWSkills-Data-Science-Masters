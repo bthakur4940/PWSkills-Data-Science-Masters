{
 "cells": [
  {
   "cell_type": "code",
   "execution_count": 1,
   "id": "6f833bee-06ca-4b83-92fd-0d6ef4229e5f",
   "metadata": {},
   "outputs": [
    {
     "name": "stdout",
     "output_type": "stream",
     "text": [
      "Hello World\n"
     ]
    }
   ],
   "source": [
    "print(\"Hello World\")"
   ]
  },
  {
   "cell_type": "code",
   "execution_count": 2,
   "id": "59e4c112-e864-4bb2-9dc2-556730a6a03b",
   "metadata": {},
   "outputs": [
    {
     "name": "stdout",
     "output_type": "stream",
     "text": [
      "My age is :  32\n"
     ]
    }
   ],
   "source": [
    "age=32\n",
    "print(\"My age is : \",age)"
   ]
  },
  {
   "cell_type": "code",
   "execution_count": 3,
   "id": "9e0809a7-da3e-463e-82a6-308664071dd3",
   "metadata": {},
   "outputs": [
    {
     "name": "stdout",
     "output_type": "stream",
     "text": [
      "My ageis : {age}\n"
     ]
    }
   ],
   "source": [
    "print(\"My ageis : {age}\")"
   ]
  },
  {
   "cell_type": "code",
   "execution_count": 5,
   "id": "b59577fc-cf9c-414b-a83b-6ab52a3d2c42",
   "metadata": {},
   "outputs": [
    {
     "name": "stdout",
     "output_type": "stream",
     "text": [
      "My ageis : 32\n"
     ]
    }
   ],
   "source": [
    "print(f\"My ageis : {age}\") ##F is for formating (f string in python)#"
   ]
  },
  {
   "cell_type": "code",
   "execution_count": 6,
   "id": "7a4cb7f0-4525-4ca7-bfbc-1757b99fd004",
   "metadata": {},
   "outputs": [
    {
     "name": "stdout",
     "output_type": "stream",
     "text": [
      "My Name is Bhaskar and age is 34\n"
     ]
    }
   ],
   "source": [
    "## format \n",
    "\n",
    "name = \"Bhaskar\"\n",
    "age = 34\n",
    "print(\"My Name is {} and age is {}\".format(name,age))"
   ]
  },
  {
   "cell_type": "code",
   "execution_count": 8,
   "id": "8cbe98e3-ae54-47ee-9b4d-d2d6a2041313",
   "metadata": {},
   "outputs": [
    {
     "name": "stdout",
     "output_type": "stream",
     "text": [
      "My Name is Bhaskar and age is 34\n"
     ]
    }
   ],
   "source": [
    "print(\"My Name is {firstname} and age is {firstage}\".format(firstname=name,firstage=age))"
   ]
  },
  {
   "cell_type": "code",
   "execution_count": 9,
   "id": "9f033f92-7887-40c0-b6f8-a63cd8403237",
   "metadata": {},
   "outputs": [
    {
     "name": "stdout",
     "output_type": "stream",
     "text": [
      "My Name is Bhaskar and age is 34\n"
     ]
    }
   ],
   "source": [
    "print(\"My Name is {firstname} and age is {firstage}\".format(firstage=age,firstname=name))"
   ]
  },
  {
   "cell_type": "code",
   "execution_count": 10,
   "id": "e4093eb5-9e52-4ac3-9740-2ad7bc014703",
   "metadata": {},
   "outputs": [
    {
     "name": "stdout",
     "output_type": "stream",
     "text": [
      "My age is : 32 and i have completed : my degree BBM with the name : Bhaskar\n"
     ]
    }
   ],
   "source": [
    "name= \"Bhaskar\"\n",
    "age=32\n",
    "degree=\"BBM\"\n",
    "\n",
    "print(f\"My age is : {age} and i have completed : my degree {degree} with the name : {name}\")"
   ]
  },
  {
   "cell_type": "code",
   "execution_count": 12,
   "id": "39f900a8-5084-4f93-a8b3-995ac142b28e",
   "metadata": {},
   "outputs": [
    {
     "name": "stdout",
     "output_type": "stream",
     "text": [
      "My age is : 32 and i have completed : my degree BBM with the name : Bhaskar\n"
     ]
    }
   ],
   "source": [
    "print(\"My age is : {} and i have completed : my degree {} with the name : {}\".format(age,degree,name))"
   ]
  },
  {
   "cell_type": "markdown",
   "id": "dfc9a576-4c9b-4bef-8a2a-be41c3fcfdd9",
   "metadata": {},
   "source": [
    "## Control Flow"
   ]
  },
  {
   "cell_type": "markdown",
   "id": "9ce31b76-506f-40f8-8f79-b751729a7204",
   "metadata": {},
   "source": [
    "### Decision making statements"
   ]
  },
  {
   "cell_type": "code",
   "execution_count": 14,
   "id": "e42b2143-5d03-4df4-b184-eca102b0e2d6",
   "metadata": {},
   "outputs": [
    {
     "name": "stdout",
     "output_type": "stream",
     "text": [
      " You are eligible to vote\n"
     ]
    }
   ],
   "source": [
    "age=33\n",
    "if age >=18 :\n",
    "    print(\" You are eligible to vote\")"
   ]
  },
  {
   "cell_type": "code",
   "execution_count": 15,
   "id": "a5d905ea-4eb1-4b3f-8029-3e952a506c27",
   "metadata": {},
   "outputs": [],
   "source": [
    "age=17\n",
    "if age >=18 :\n",
    "    print(\" You are eligible to vote\")"
   ]
  },
  {
   "cell_type": "code",
   "execution_count": 16,
   "id": "8d5eaf7a-5ab4-4916-8019-9e707cf9db98",
   "metadata": {},
   "outputs": [
    {
     "name": "stdout",
     "output_type": "stream",
     "text": [
      " You are not eligible to vote\n"
     ]
    }
   ],
   "source": [
    "age=17\n",
    "if age <=18 :\n",
    "    print(\" You are not eligible to vote\")"
   ]
  },
  {
   "cell_type": "code",
   "execution_count": 17,
   "id": "6c369039-ce93-40ae-a18a-2d5baa8f7a0b",
   "metadata": {},
   "outputs": [
    {
     "name": "stdin",
     "output_type": "stream",
     "text": [
      "Enter your name  Bhaskar\n"
     ]
    }
   ],
   "source": [
    "name= input(\"Enter your name \")"
   ]
  },
  {
   "cell_type": "code",
   "execution_count": 18,
   "id": "46ed505d-ca51-4b9b-9f1e-2947bf7fd37c",
   "metadata": {},
   "outputs": [
    {
     "name": "stdin",
     "output_type": "stream",
     "text": [
      " Enter your age 33\n"
     ]
    }
   ],
   "source": [
    "age= int(input(\" Enter your age\"))"
   ]
  },
  {
   "cell_type": "code",
   "execution_count": 21,
   "id": "2b06220f-ee83-4f71-b44a-f8efa4c31436",
   "metadata": {},
   "outputs": [
    {
     "name": "stdout",
     "output_type": "stream",
     "text": [
      " you are young blood\n"
     ]
    }
   ],
   "source": [
    "if age  >= 18 and age <= 45 :\n",
    "    print(\" you are young blood\")"
   ]
  },
  {
   "cell_type": "code",
   "execution_count": 29,
   "id": "0e467c72-e132-4b44-a7a3-c7f9942afab3",
   "metadata": {},
   "outputs": [
    {
     "name": "stdin",
     "output_type": "stream",
     "text": [
      " Enter your age 46\n"
     ]
    },
    {
     "name": "stdout",
     "output_type": "stream",
     "text": [
      " you are not eligible\n"
     ]
    }
   ],
   "source": [
    "age= int(input(\" Enter your age\"))\n",
    "if age  >= 18 and age <= 45 :\n",
    "    print(\" you are young blood\")\n",
    "else :\n",
    "    print(\" you are not eligible\")"
   ]
  },
  {
   "cell_type": "code",
   "execution_count": 26,
   "id": "8140a1d5-85b7-4bf0-832f-27750029c6fd",
   "metadata": {},
   "outputs": [
    {
     "name": "stdin",
     "output_type": "stream",
     "text": [
      " Enter your age 48\n"
     ]
    },
    {
     "name": "stdout",
     "output_type": "stream",
     "text": [
      " you are old\n"
     ]
    }
   ],
   "source": [
    "age= int(input(\" Enter your age\"))\n",
    "if age  >= 18 and age <= 45 :\n",
    "    print(\" you are young blood\")\n",
    "elif age <= 18 :\n",
    "    print(\" you are too young\")\n",
    "else :\n",
    "    print(\" you are old\")"
   ]
  },
  {
   "cell_type": "code",
   "execution_count": 38,
   "id": "ff4a71c0-5df6-495e-b950-eca45afc2da7",
   "metadata": {},
   "outputs": [
    {
     "name": "stdin",
     "output_type": "stream",
     "text": [
      " The price of product 800\n"
     ]
    },
    {
     "name": "stdout",
     "output_type": "stream",
     "text": [
      "Price OF the product is  :560.0\n"
     ]
    }
   ],
   "source": [
    "price= int(input(\" The price of product\"))\n",
    "if price  >= 1000 :\n",
    "    print(\"Price OF the product is  :{}\".format(price*0.8))\n",
    "else :\n",
    "    print(\"Price OF the product is  :{}\".format(price*0.7))\n",
    "           "
   ]
  },
  {
   "cell_type": "code",
   "execution_count": 39,
   "id": "5b428980-67d9-4a78-83a7-77c89e529086",
   "metadata": {},
   "outputs": [
    {
     "name": "stdin",
     "output_type": "stream",
     "text": [
      " The price of product 2600\n"
     ]
    },
    {
     "name": "stdout",
     "output_type": "stream",
     "text": [
      "Price OF the product is  :2080.0\n"
     ]
    }
   ],
   "source": [
    "price= int(input(\" The price of product\"))\n",
    "if price  >= 1000 :\n",
    "    print(\"Price OF the product is  :{}\".format(price*0.8))\n",
    "else :\n",
    "    print(\"Price OF the product is  :{}\".format(price*0.7))"
   ]
  },
  {
   "cell_type": "code",
   "execution_count": 3,
   "id": "74aa8fd0-f984-43f3-ba79-094cce5251fd",
   "metadata": {},
   "outputs": [
    {
     "data": {
      "text/plain": [
       "float"
      ]
     },
     "execution_count": 3,
     "metadata": {},
     "output_type": "execute_result"
    }
   ],
   "source": [
    "type((20/100)*5000)"
   ]
  },
  {
   "cell_type": "code",
   "execution_count": 4,
   "id": "58fb72b3-ea5a-43ab-aade-b8f3a4fbf98f",
   "metadata": {},
   "outputs": [
    {
     "data": {
      "text/plain": [
       "1000.0"
      ]
     },
     "execution_count": 4,
     "metadata": {},
     "output_type": "execute_result"
    }
   ],
   "source": [
    "((20/100)*5000)"
   ]
  },
  {
   "cell_type": "code",
   "execution_count": 5,
   "id": "daa4f927-8a9e-4bdd-b05d-fd394642f930",
   "metadata": {},
   "outputs": [
    {
     "name": "stdin",
     "output_type": "stream",
     "text": [
      " The price of product 2000\n"
     ]
    },
    {
     "name": "stdout",
     "output_type": "stream",
     "text": [
      "Price OF the product is  :1600.0\n"
     ]
    }
   ],
   "source": [
    "price= int(input(\" The price of product\"))\n",
    "if price  >= 1000 :\n",
    "    print(f\"Price OF the product is  :{price*0.8}\")\n",
    "else :\n",
    "    print(f\"Price OF the product is  :{price*0.7}\")"
   ]
  },
  {
   "cell_type": "code",
   "execution_count": 12,
   "id": "25a61f8c-37d8-4cb4-8e26-1da0290007e2",
   "metadata": {},
   "outputs": [
    {
     "name": "stdin",
     "output_type": "stream",
     "text": [
      "The Price of the product : 1800\n"
     ]
    },
    {
     "name": "stdout",
     "output_type": "stream",
     "text": [
      "The price of the product is : 1620.0\n"
     ]
    }
   ],
   "source": [
    "price= int(input(\"The Price of the product :\"))\n",
    "if price > 3000 :\n",
    "    print(f\"Price of the product is : {price*0.7}\")\n",
    "elif price >= 2000 and price <= 3000 :\n",
    "    print(f\"Price of the product is : {price*0.8}\")\n",
    "elif price >= 100 and price < 2000 :\n",
    "    print(\"The price of the product is : {}\".format(price*0.9))\n",
    "else :\n",
    "    "
   ]
  },
  {
   "cell_type": "code",
   "execution_count": 13,
   "id": "a910ca56-5e25-46a0-a424-50ad6e8f4719",
   "metadata": {},
   "outputs": [
    {
     "name": "stdin",
     "output_type": "stream",
     "text": [
      "The Price of the product : 3100\n"
     ]
    },
    {
     "name": "stdout",
     "output_type": "stream",
     "text": [
      "Price of the product is : 2170.0\n"
     ]
    }
   ],
   "source": [
    "price= int(input(\"The Price of the product :\"))\n",
    "if (price > 3000 ):print(f\"Price of the product is : {price*0.7}\")"
   ]
  },
  {
   "cell_type": "markdown",
   "id": "7e2e8df5-3e65-45f7-b7b9-b7d9cb51cdef",
   "metadata": {},
   "source": [
    "## Loop ( While,For)"
   ]
  },
  {
   "cell_type": "code",
   "execution_count": 20,
   "id": "7684edb2-c423-477e-878b-c40f6fa96d99",
   "metadata": {},
   "outputs": [
    {
     "name": "stdout",
     "output_type": "stream",
     "text": [
      "25\n",
      "26\n",
      "27\n",
      "28\n",
      "29\n",
      "30\n",
      "31\n",
      "32\n",
      "33\n",
      "34\n",
      "35\n",
      "36\n",
      "37\n",
      "38\n",
      "39\n",
      "40\n",
      "41\n",
      "42\n",
      "43\n",
      "44\n",
      "45\n",
      "46\n",
      "47\n",
      "48\n",
      "49\n",
      "50\n",
      "51\n",
      "52\n",
      "53\n",
      "54\n",
      "55\n",
      "56\n",
      "57\n",
      "58\n",
      "59\n",
      "60\n",
      "Its time for retirement\n"
     ]
    }
   ],
   "source": [
    "retirement_age=60\n",
    "joining_age=25\n",
    "i=1\n",
    "while joining_age<=60:\n",
    "    print(joining_age)\n",
    "    joining_age=joining_age+1\n",
    "    \n",
    "else:\n",
    "    print(\"Its time for retirement\")"
   ]
  },
  {
   "cell_type": "code",
   "execution_count": 22,
   "id": "c6f0d328-5744-422c-b8f6-99e34b61c8d0",
   "metadata": {},
   "outputs": [
    {
     "name": "stdout",
     "output_type": "stream",
     "text": [
      "1000\n",
      "900\n",
      "800\n",
      "700\n",
      "600\n",
      "500\n",
      "400\n",
      "300\n",
      "200\n",
      "100\n",
      "deposit more money\n"
     ]
    }
   ],
   "source": [
    "Total_amount=1000\n",
    "while Total_amount != 0 :\n",
    "    print(Total_amount)\n",
    "    Total_amount=Total_amount-100\n",
    "else:\n",
    "    print(\"deposit more money\")\n",
    "    "
   ]
  },
  {
   "cell_type": "code",
   "execution_count": 24,
   "id": "3edf8d5b-35dc-4ef0-98ae-5094a182fe35",
   "metadata": {},
   "outputs": [],
   "source": [
    "lst=[\"bhaskar\",2,3,4,\"apple\",\"banana\"]"
   ]
  },
  {
   "cell_type": "code",
   "execution_count": 25,
   "id": "d1124ddd-e8b0-445c-a0e3-4db6014c490c",
   "metadata": {},
   "outputs": [
    {
     "data": {
      "text/plain": [
       "['bhaskar', 2, 3, 4, 'apple', 'banana']"
      ]
     },
     "execution_count": 25,
     "metadata": {},
     "output_type": "execute_result"
    }
   ],
   "source": [
    "lst"
   ]
  },
  {
   "cell_type": "code",
   "execution_count": 26,
   "id": "3fad0ff3-7e4a-44dc-adec-6d4fc4a0390a",
   "metadata": {},
   "outputs": [
    {
     "data": {
      "text/plain": [
       "'bhaskar'"
      ]
     },
     "execution_count": 26,
     "metadata": {},
     "output_type": "execute_result"
    }
   ],
   "source": [
    "lst[0]"
   ]
  },
  {
   "cell_type": "code",
   "execution_count": 27,
   "id": "383676a1-a1ea-4bad-80a9-6fe04423a033",
   "metadata": {},
   "outputs": [
    {
     "data": {
      "text/plain": [
       "'apple'"
      ]
     },
     "execution_count": 27,
     "metadata": {},
     "output_type": "execute_result"
    }
   ],
   "source": [
    "lst[4]"
   ]
  },
  {
   "cell_type": "code",
   "execution_count": 28,
   "id": "e3bad07e-ed0a-455b-92fb-90beafdb6a3d",
   "metadata": {},
   "outputs": [
    {
     "data": {
      "text/plain": [
       "[2, 3, 4, 'apple']"
      ]
     },
     "execution_count": 28,
     "metadata": {},
     "output_type": "execute_result"
    }
   ],
   "source": [
    "lst[1:5]"
   ]
  },
  {
   "cell_type": "code",
   "execution_count": 32,
   "id": "8b44ddb7-1d0b-4863-9520-c26cb71538a9",
   "metadata": {},
   "outputs": [
    {
     "data": {
      "text/plain": [
       "[3, 4, 'apple']"
      ]
     },
     "execution_count": 32,
     "metadata": {},
     "output_type": "execute_result"
    }
   ],
   "source": [
    "lst[2:-1]"
   ]
  },
  {
   "cell_type": "code",
   "execution_count": 33,
   "id": "a2ed5f73-0c3f-4ce1-881e-f17c48a20073",
   "metadata": {},
   "outputs": [
    {
     "name": "stdout",
     "output_type": "stream",
     "text": [
      "bhaskar\n",
      "2\n",
      "3\n",
      "4\n",
      "apple\n",
      "banana\n"
     ]
    }
   ],
   "source": [
    "for x in lst:\n",
    "    print(x)"
   ]
  },
  {
   "cell_type": "code",
   "execution_count": 34,
   "id": "351f6e76-4b63-4677-bb32-72d689ce6d09",
   "metadata": {},
   "outputs": [],
   "source": [
    "fruits=[\"Mango\",\"cherry\",\"kiwi\",\"garpes\",\"papaya\"]"
   ]
  },
  {
   "cell_type": "code",
   "execution_count": 37,
   "id": "a37b9c8a-c6ea-4c34-a417-f6844d622994",
   "metadata": {},
   "outputs": [
    {
     "name": "stdout",
     "output_type": "stream",
     "text": [
      "Mango\n",
      "cherry\n",
      "Favourite fruit\n",
      "kiwi\n",
      "garpes\n",
      "papaya\n"
     ]
    }
   ],
   "source": [
    "for a in fruits:\n",
    "    print(a)\n",
    "    if a == \"cherry\":\n",
    "        print(\"Favourite fruit\")"
   ]
  },
  {
   "cell_type": "code",
   "execution_count": 39,
   "id": "bcee9fba-dde5-4d31-b904-43db192f1233",
   "metadata": {},
   "outputs": [
    {
     "name": "stdout",
     "output_type": "stream",
     "text": [
      "Mango\n",
      "cherry\n",
      "Favourite fruit\n"
     ]
    }
   ],
   "source": [
    "for a in fruits:\n",
    "    print(a)\n",
    "    if a == \"cherry\":\n",
    "        print(\"Favourite fruit\")\n",
    "        break"
   ]
  },
  {
   "cell_type": "code",
   "execution_count": 47,
   "id": "b15caba4-4185-4ae3-bf11-d719193e410d",
   "metadata": {},
   "outputs": [
    {
     "name": "stdout",
     "output_type": "stream",
     "text": [
      "mango"
     ]
    }
   ],
   "source": [
    "fruit=\"mango\"\n",
    "for x in fruit:\n",
    "    print(x,end='')\n",
    "   "
   ]
  },
  {
   "cell_type": "code",
   "execution_count": 41,
   "id": "ed842885-76eb-425c-b3f0-84ce8982405f",
   "metadata": {},
   "outputs": [
    {
     "data": {
      "text/plain": [
       "'m'"
      ]
     },
     "execution_count": 41,
     "metadata": {},
     "output_type": "execute_result"
    }
   ],
   "source": [
    "fruit[0]"
   ]
  },
  {
   "cell_type": "code",
   "execution_count": 43,
   "id": "be33f0e7-13aa-4d36-a5d2-aacf61c53f7c",
   "metadata": {},
   "outputs": [
    {
     "data": {
      "text/plain": [
       "'n'"
      ]
     },
     "execution_count": 43,
     "metadata": {},
     "output_type": "execute_result"
    }
   ],
   "source": [
    "fruit[2]"
   ]
  },
  {
   "cell_type": "code",
   "execution_count": 48,
   "id": "ca1eb9a2-3012-4ff5-8068-bc0d781e22ee",
   "metadata": {},
   "outputs": [
    {
     "name": "stdout",
     "output_type": "stream",
     "text": [
      "m\n",
      "a\n",
      "n\n",
      "g\n",
      "o\n"
     ]
    }
   ],
   "source": [
    "fruit=\"mango\"\n",
    "for x in fruit:\n",
    "    print(x)"
   ]
  },
  {
   "cell_type": "markdown",
   "id": "42a6c995-a536-4a7f-a4ac-62df93cd642c",
   "metadata": {},
   "source": [
    "###Nested Loops"
   ]
  },
  {
   "cell_type": "code",
   "execution_count": 49,
   "id": "e61ff708-e700-481c-b09d-4988a7e079b7",
   "metadata": {},
   "outputs": [
    {
     "name": "stdout",
     "output_type": "stream",
     "text": [
      "1\n",
      "3\n",
      "5\n",
      "7\n",
      "9\n",
      "11\n",
      "13\n",
      "15\n",
      "17\n",
      "19\n"
     ]
    }
   ],
   "source": [
    "n=7\n",
    "for i in range(1,20,2):\n",
    "    print(i)"
   ]
  },
  {
   "cell_type": "code",
   "execution_count": 54,
   "id": "a984215e-e43a-4f85-a5e5-c865b0404917",
   "metadata": {},
   "outputs": [
    {
     "name": "stdout",
     "output_type": "stream",
     "text": [
      "*\n",
      "**\n",
      "***\n",
      "****\n",
      "*****\n",
      "******\n",
      "*******\n"
     ]
    }
   ],
   "source": [
    "n=7\n",
    "for i in range(0,n):\n",
    "    for j in range(0,i+1):\n",
    "        print(\"*\",end=\"\")\n",
    "    print(\"\\r\")\n",
    "    "
   ]
  },
  {
   "cell_type": "code",
   "execution_count": 71,
   "id": "6bf103f5-abc9-4bad-800d-23fa1910d1a5",
   "metadata": {},
   "outputs": [
    {
     "name": "stdout",
     "output_type": "stream",
     "text": [
      "*\n",
      "**\n",
      "***\n",
      "****\n",
      "*****\n",
      "******\n",
      "*******\n"
     ]
    }
   ],
   "source": [
    "n=7\n",
    "for i in range(0,n):\n",
    "    for j in range(0,i+1):\n",
    "        print(\"*\",end=\"\")\n",
    "    print(\"\\r\")"
   ]
  },
  {
   "cell_type": "markdown",
   "id": "717fb290-c55b-490c-bed5-33d7d314eaad",
   "metadata": {},
   "source": [
    "##Loop Control"
   ]
  },
  {
   "cell_type": "code",
   "execution_count": 66,
   "id": "681e0559-08c4-4646-90fb-8b7f84c4a2f7",
   "metadata": {},
   "outputs": [],
   "source": [
    "fruits=[\"Mango\",\"cherry\",\"kiwi\",\"grapes\",\"papaya\"]\n"
   ]
  },
  {
   "cell_type": "code",
   "execution_count": 67,
   "id": "33999f97-dcd4-4ed2-b2a1-58f10ecd54d9",
   "metadata": {},
   "outputs": [
    {
     "name": "stdout",
     "output_type": "stream",
     "text": [
      "Mango\n",
      "cherry\n",
      "kiwi\n",
      "grapes\n",
      "papaya\n"
     ]
    }
   ],
   "source": [
    "for i in fruits:\n",
    "    print(i)\n",
    "    "
   ]
  },
  {
   "cell_type": "code",
   "execution_count": 68,
   "id": "0d96a305-d4f8-43bf-896f-b20875e62f94",
   "metadata": {},
   "outputs": [
    {
     "name": "stdout",
     "output_type": "stream",
     "text": [
      "Mango\n",
      "cherry\n",
      "kiwi\n",
      "The fruit is grapes\n"
     ]
    }
   ],
   "source": [
    "for i in fruits:\n",
    "    if i ==\"grapes\":\n",
    "        print(\"The fruit is grapes\")\n",
    "        break\n",
    "    print(i)\n",
    "    "
   ]
  },
  {
   "cell_type": "code",
   "execution_count": 69,
   "id": "c90c380e-a423-41a6-97ee-e31ac34b6b45",
   "metadata": {},
   "outputs": [
    {
     "name": "stdout",
     "output_type": "stream",
     "text": [
      "Mango\n",
      "cherry\n",
      "kiwi\n",
      "The fruit is grapes\n",
      "grapes\n",
      "papaya\n"
     ]
    }
   ],
   "source": [
    "for i in fruits:\n",
    "    if i ==\"grapes\":\n",
    "        print(\"The fruit is grapes\")\n",
    "        pass\n",
    "    print(i)\n",
    "    "
   ]
  },
  {
   "cell_type": "code",
   "execution_count": 70,
   "id": "ad2c7415-ba92-4e8f-9f7a-c7dc56d1fc04",
   "metadata": {},
   "outputs": [
    {
     "name": "stdout",
     "output_type": "stream",
     "text": [
      "Mango\n",
      "cherry\n",
      "kiwi\n",
      "The fruit is grapes\n",
      "papaya\n"
     ]
    }
   ],
   "source": [
    "for i in fruits:\n",
    "    if i ==\"grapes\":\n",
    "        print(\"The fruit is grapes\")\n",
    "        continue\n",
    "    print(i)"
   ]
  },
  {
   "cell_type": "code",
   "execution_count": null,
   "id": "93201d02-cc8b-4ddf-bfe2-bb0def7c90dc",
   "metadata": {},
   "outputs": [],
   "source": []
  }
 ],
 "metadata": {
  "kernelspec": {
   "display_name": "Python 3 (ipykernel)",
   "language": "python",
   "name": "python3"
  },
  "language_info": {
   "codemirror_mode": {
    "name": "ipython",
    "version": 3
   },
   "file_extension": ".py",
   "mimetype": "text/x-python",
   "name": "python",
   "nbconvert_exporter": "python",
   "pygments_lexer": "ipython3",
   "version": "3.10.8"
  }
 },
 "nbformat": 4,
 "nbformat_minor": 5
}
