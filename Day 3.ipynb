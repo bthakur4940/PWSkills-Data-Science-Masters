{
 "cells": [
  {
   "cell_type": "markdown",
   "id": "9546030c-0c67-479d-b924-cc8f2bfa0e50",
   "metadata": {},
   "source": [
    "# Logical Operators\n",
    "## And/OR/Not"
   ]
  },
  {
   "cell_type": "code",
   "execution_count": 7,
   "id": "d753550e-782d-4f45-8854-8ba660b6cecb",
   "metadata": {},
   "outputs": [
    {
     "data": {
      "text/plain": [
       "True"
      ]
     },
     "execution_count": 7,
     "metadata": {},
     "output_type": "execute_result"
    }
   ],
   "source": [
    "True and True"
   ]
  },
  {
   "cell_type": "code",
   "execution_count": 2,
   "id": "c3d6ad19-4182-4045-ac61-50a80dd2448a",
   "metadata": {},
   "outputs": [
    {
     "data": {
      "text/plain": [
       "False"
      ]
     },
     "execution_count": 2,
     "metadata": {},
     "output_type": "execute_result"
    }
   ],
   "source": [
    "True and False"
   ]
  },
  {
   "cell_type": "code",
   "execution_count": 3,
   "id": "791b1bc6-ab2a-4935-b9c7-7eedeed747b0",
   "metadata": {},
   "outputs": [
    {
     "data": {
      "text/plain": [
       "False"
      ]
     },
     "execution_count": 3,
     "metadata": {},
     "output_type": "execute_result"
    }
   ],
   "source": [
    "not True"
   ]
  },
  {
   "cell_type": "code",
   "execution_count": 4,
   "id": "8d109200-5fb1-47ab-a0e4-6c03b8c44acd",
   "metadata": {},
   "outputs": [
    {
     "data": {
      "text/plain": [
       "True"
      ]
     },
     "execution_count": 4,
     "metadata": {},
     "output_type": "execute_result"
    }
   ],
   "source": [
    "not False"
   ]
  },
  {
   "cell_type": "code",
   "execution_count": 5,
   "id": "c54480bb-35e9-440b-a520-23f04e8b5453",
   "metadata": {},
   "outputs": [
    {
     "data": {
      "text/plain": [
       "True"
      ]
     },
     "execution_count": 5,
     "metadata": {},
     "output_type": "execute_result"
    }
   ],
   "source": [
    "True or False"
   ]
  },
  {
   "cell_type": "code",
   "execution_count": 6,
   "id": "4e014cf2-2a39-4f79-8b51-99b27004fc0f",
   "metadata": {},
   "outputs": [
    {
     "data": {
      "text/plain": [
       "True"
      ]
     },
     "execution_count": 6,
     "metadata": {},
     "output_type": "execute_result"
    }
   ],
   "source": [
    "False or True"
   ]
  },
  {
   "cell_type": "code",
   "execution_count": 8,
   "id": "2d57e6f8-4d37-48eb-b3fd-1161359c2d36",
   "metadata": {},
   "outputs": [
    {
     "data": {
      "text/plain": [
       "False"
      ]
     },
     "execution_count": 8,
     "metadata": {},
     "output_type": "execute_result"
    }
   ],
   "source": [
    "bool(0)"
   ]
  },
  {
   "cell_type": "code",
   "execution_count": 9,
   "id": "7ff88b4d-f891-4bf4-80b9-999e44ab210b",
   "metadata": {},
   "outputs": [
    {
     "data": {
      "text/plain": [
       "True"
      ]
     },
     "execution_count": 9,
     "metadata": {},
     "output_type": "execute_result"
    }
   ],
   "source": [
    "bool(1)"
   ]
  },
  {
   "cell_type": "code",
   "execution_count": 10,
   "id": "9ed76165-ff08-4499-a2fc-e12ac469b76b",
   "metadata": {},
   "outputs": [
    {
     "data": {
      "text/plain": [
       "True"
      ]
     },
     "execution_count": 10,
     "metadata": {},
     "output_type": "execute_result"
    }
   ],
   "source": [
    "not(bool(0))"
   ]
  },
  {
   "cell_type": "code",
   "execution_count": 11,
   "id": "ef7e3fdb-78b8-4f62-91ea-bcb7a43271fd",
   "metadata": {},
   "outputs": [
    {
     "data": {
      "text/plain": [
       "False"
      ]
     },
     "execution_count": 11,
     "metadata": {},
     "output_type": "execute_result"
    }
   ],
   "source": [
    "not(bool(1))"
   ]
  },
  {
   "cell_type": "code",
   "execution_count": 12,
   "id": "0a982dd5-32c0-47a3-a9c7-fe17bbe6a788",
   "metadata": {},
   "outputs": [
    {
     "data": {
      "text/plain": [
       "1"
      ]
     },
     "execution_count": 12,
     "metadata": {},
     "output_type": "execute_result"
    }
   ],
   "source": [
    "int(not(bool(0)))"
   ]
  },
  {
   "cell_type": "code",
   "execution_count": 13,
   "id": "ad5618f1-c466-4679-a496-eae8fc3c0593",
   "metadata": {},
   "outputs": [
    {
     "data": {
      "text/plain": [
       "0"
      ]
     },
     "execution_count": 13,
     "metadata": {},
     "output_type": "execute_result"
    }
   ],
   "source": [
    "int(not(bool(1)))"
   ]
  },
  {
   "cell_type": "code",
   "execution_count": 14,
   "id": "fdcea5b1-ccca-4c86-97a8-192b3a9168d6",
   "metadata": {},
   "outputs": [
    {
     "data": {
      "text/plain": [
       "True"
      ]
     },
     "execution_count": 14,
     "metadata": {},
     "output_type": "execute_result"
    }
   ],
   "source": [
    "not(int(bool(0)))"
   ]
  },
  {
   "cell_type": "code",
   "execution_count": 15,
   "id": "1a45b25c-08a5-4610-a1c4-b24dbc1f5c59",
   "metadata": {},
   "outputs": [
    {
     "data": {
      "text/plain": [
       "False"
      ]
     },
     "execution_count": 15,
     "metadata": {},
     "output_type": "execute_result"
    }
   ],
   "source": [
    "not(int(bool(1)))"
   ]
  },
  {
   "cell_type": "code",
   "execution_count": 21,
   "id": "e5eb78e1-da79-426e-ab2f-cf89706aed59",
   "metadata": {},
   "outputs": [
    {
     "name": "stdout",
     "output_type": "stream",
     "text": [
      "boolean value of no.-10 is True\n",
      "boolean value of no.10 is True\n",
      "Negation of -10 is False and Negation of 10is False\n"
     ]
    }
   ],
   "source": [
    "negative_num= -10\n",
    "positive_num = 10\n",
    "print(f\"boolean value of no.{negative_num} is {bool(negative_num)}\")\n",
    "print(f\"boolean value of no.{positive_num} is {bool(positive_num)}\")\n",
    "print(f\"Negation of {negative_num} is {not negative_num} and Negation of {positive_num}is {not positive_num}\")"
   ]
  },
  {
   "cell_type": "code",
   "execution_count": 23,
   "id": "5e43bd6a-f131-4110-ac46-242482846694",
   "metadata": {},
   "outputs": [
    {
     "data": {
      "text/plain": [
       "1"
      ]
     },
     "execution_count": 23,
     "metadata": {},
     "output_type": "execute_result"
    }
   ],
   "source": [
    "True * True"
   ]
  },
  {
   "cell_type": "code",
   "execution_count": 24,
   "id": "5224b0c0-b9cd-4908-bcd0-e673bc05d62e",
   "metadata": {},
   "outputs": [
    {
     "data": {
      "text/plain": [
       "0"
      ]
     },
     "execution_count": 24,
     "metadata": {},
     "output_type": "execute_result"
    }
   ],
   "source": [
    "False * False"
   ]
  },
  {
   "cell_type": "code",
   "execution_count": 25,
   "id": "348bde97-455e-46b8-acec-5eb923af8945",
   "metadata": {},
   "outputs": [
    {
     "data": {
      "text/plain": [
       "0"
      ]
     },
     "execution_count": 25,
     "metadata": {},
     "output_type": "execute_result"
    }
   ],
   "source": [
    "True * False"
   ]
  },
  {
   "cell_type": "code",
   "execution_count": 27,
   "id": "5bf06b06-bb08-42b6-a0ec-7d502e161b1c",
   "metadata": {},
   "outputs": [
    {
     "data": {
      "text/plain": [
       "True"
      ]
     },
     "execution_count": 27,
     "metadata": {},
     "output_type": "execute_result"
    }
   ],
   "source": [
    "not(True) * False"
   ]
  },
  {
   "cell_type": "code",
   "execution_count": 28,
   "id": "b1555031-fa5a-45cd-9d8c-073bd9053857",
   "metadata": {},
   "outputs": [
    {
     "data": {
      "text/plain": [
       "True"
      ]
     },
     "execution_count": 28,
     "metadata": {},
     "output_type": "execute_result"
    }
   ],
   "source": [
    "not(False) * False"
   ]
  },
  {
   "cell_type": "code",
   "execution_count": 29,
   "id": "8c53cd9d-ea4b-4f78-940b-ce5fc0477dba",
   "metadata": {},
   "outputs": [
    {
     "data": {
      "text/plain": [
       "0"
      ]
     },
     "execution_count": 29,
     "metadata": {},
     "output_type": "execute_result"
    }
   ],
   "source": [
    "(not(False)) * False"
   ]
  },
  {
   "cell_type": "code",
   "execution_count": 30,
   "id": "ec5e0ff2-a40b-4cc4-8e25-76afc8cdb120",
   "metadata": {},
   "outputs": [
    {
     "data": {
      "text/plain": [
       "0"
      ]
     },
     "execution_count": 30,
     "metadata": {},
     "output_type": "execute_result"
    }
   ],
   "source": [
    "(not(True)) * False"
   ]
  },
  {
   "cell_type": "code",
   "execution_count": 31,
   "id": "501773e3-e509-4ad3-8c53-2ad528d34526",
   "metadata": {},
   "outputs": [
    {
     "data": {
      "text/plain": [
       "True"
      ]
     },
     "execution_count": 31,
     "metadata": {},
     "output_type": "execute_result"
    }
   ],
   "source": [
    "not True * False == True"
   ]
  },
  {
   "cell_type": "code",
   "execution_count": 32,
   "id": "e793c507-3388-4c40-ac31-49537fcd0227",
   "metadata": {},
   "outputs": [
    {
     "data": {
      "text/plain": [
       "False"
      ]
     },
     "execution_count": 32,
     "metadata": {},
     "output_type": "execute_result"
    }
   ],
   "source": [
    "(not True) * False == True"
   ]
  },
  {
   "cell_type": "code",
   "execution_count": 36,
   "id": "9e21c797-9a15-4caf-8d7e-135fcf4cf20b",
   "metadata": {},
   "outputs": [
    {
     "data": {
      "text/plain": [
       "False"
      ]
     },
     "execution_count": 36,
     "metadata": {},
     "output_type": "execute_result"
    }
   ],
   "source": [
    "(not (True))*False==True"
   ]
  },
  {
   "cell_type": "code",
   "execution_count": 37,
   "id": "290a8d39-b4fc-4e30-a884-07fdd4c50679",
   "metadata": {},
   "outputs": [],
   "source": [
    "a=[1,2,3,4,5]\n",
    "b=[1,2,3,4,5]"
   ]
  },
  {
   "cell_type": "code",
   "execution_count": 38,
   "id": "18aa5c3f-741c-4413-a86d-af5097d8d73c",
   "metadata": {},
   "outputs": [
    {
     "data": {
      "text/plain": [
       "139835750466688"
      ]
     },
     "execution_count": 38,
     "metadata": {},
     "output_type": "execute_result"
    }
   ],
   "source": [
    "id(a)"
   ]
  },
  {
   "cell_type": "code",
   "execution_count": 40,
   "id": "4f98023e-0d45-44e7-b1dd-0d640df39cff",
   "metadata": {},
   "outputs": [
    {
     "data": {
      "text/plain": [
       "139835750468992"
      ]
     },
     "execution_count": 40,
     "metadata": {},
     "output_type": "execute_result"
    }
   ],
   "source": [
    "id(b)"
   ]
  },
  {
   "cell_type": "code",
   "execution_count": 41,
   "id": "22151766-7ede-46f1-803f-8ad35f72e63b",
   "metadata": {},
   "outputs": [
    {
     "name": "stdout",
     "output_type": "stream",
     "text": [
      "139835750466688\n",
      "139835750468992\n"
     ]
    }
   ],
   "source": [
    "print(id(a))\n",
    "print(id(b))"
   ]
  },
  {
   "cell_type": "code",
   "execution_count": 42,
   "id": "b6a4b025-d532-4831-991e-44bef47374ef",
   "metadata": {},
   "outputs": [
    {
     "data": {
      "text/plain": [
       "False"
      ]
     },
     "execution_count": 42,
     "metadata": {},
     "output_type": "execute_result"
    }
   ],
   "source": [
    "a is b"
   ]
  },
  {
   "cell_type": "code",
   "execution_count": 43,
   "id": "df30928a-d5d6-40f9-a3bc-0f0529a24c1e",
   "metadata": {},
   "outputs": [
    {
     "data": {
      "text/plain": [
       "True"
      ]
     },
     "execution_count": 43,
     "metadata": {},
     "output_type": "execute_result"
    }
   ],
   "source": [
    "a is not b"
   ]
  },
  {
   "cell_type": "code",
   "execution_count": 44,
   "id": "6d6a2d30-953d-47e2-b99f-d01f6590da41",
   "metadata": {},
   "outputs": [
    {
     "data": {
      "text/plain": [
       "True"
      ]
     },
     "execution_count": 44,
     "metadata": {},
     "output_type": "execute_result"
    }
   ],
   "source": [
    "a==b"
   ]
  },
  {
   "cell_type": "code",
   "execution_count": 45,
   "id": "abb0b982-628f-4d87-80ff-74015655230e",
   "metadata": {},
   "outputs": [
    {
     "data": {
      "text/plain": [
       "False"
      ]
     },
     "execution_count": 45,
     "metadata": {},
     "output_type": "execute_result"
    }
   ],
   "source": [
    "a!=b"
   ]
  },
  {
   "cell_type": "code",
   "execution_count": 46,
   "id": "4b0f48bf-8397-4d3b-aa55-f6a9f4b7da30",
   "metadata": {},
   "outputs": [],
   "source": [
    "str1=\"Bhaskar\"\n",
    "str2=\"Thakur\""
   ]
  },
  {
   "cell_type": "code",
   "execution_count": 47,
   "id": "ec0f7716-8b2a-48e7-8c78-931fbfa95939",
   "metadata": {},
   "outputs": [
    {
     "name": "stdout",
     "output_type": "stream",
     "text": [
      "139835750625264\n",
      "139835750618416\n"
     ]
    }
   ],
   "source": [
    "print(id(str1))\n",
    "print(id(str2))"
   ]
  },
  {
   "cell_type": "code",
   "execution_count": 48,
   "id": "9804d0e2-3dfc-4807-9316-af12d60b2931",
   "metadata": {},
   "outputs": [],
   "source": [
    "str1=\"Bhaskar\"\n",
    "str2=\"Bhaskar\""
   ]
  },
  {
   "cell_type": "code",
   "execution_count": 49,
   "id": "2d28429a-4acf-4283-806f-cf7591adeaa2",
   "metadata": {},
   "outputs": [
    {
     "name": "stdout",
     "output_type": "stream",
     "text": [
      "139835750625264\n",
      "139835750625264\n"
     ]
    }
   ],
   "source": [
    "print(id(str1))\n",
    "print(id(str2))"
   ]
  },
  {
   "cell_type": "code",
   "execution_count": 51,
   "id": "1dfca90f-efb0-4014-943d-f4c601bf661b",
   "metadata": {},
   "outputs": [],
   "source": [
    "#  <,<=,>,>="
   ]
  },
  {
   "cell_type": "markdown",
   "id": "3031865b-89f3-4d03-83dd-69862794bb8f",
   "metadata": {},
   "source": [
    "# Arthmetic Operation"
   ]
  },
  {
   "cell_type": "code",
   "execution_count": 52,
   "id": "6b50f73e-91e8-480d-83c8-6225929b4d6a",
   "metadata": {},
   "outputs": [],
   "source": [
    "a=98\n",
    "b=396"
   ]
  },
  {
   "cell_type": "code",
   "execution_count": 53,
   "id": "acfdca5b-352b-4480-a84a-772da98c05b1",
   "metadata": {},
   "outputs": [
    {
     "data": {
      "text/plain": [
       "494"
      ]
     },
     "execution_count": 53,
     "metadata": {},
     "output_type": "execute_result"
    }
   ],
   "source": [
    "a+b"
   ]
  },
  {
   "cell_type": "code",
   "execution_count": 54,
   "id": "f7a89d59-14b8-4701-b2b9-318a09967746",
   "metadata": {},
   "outputs": [
    {
     "data": {
      "text/plain": [
       "-298"
      ]
     },
     "execution_count": 54,
     "metadata": {},
     "output_type": "execute_result"
    }
   ],
   "source": [
    "a-b"
   ]
  },
  {
   "cell_type": "code",
   "execution_count": 55,
   "id": "ffbe1b1f-a9cc-479b-8569-3828f80f0a87",
   "metadata": {},
   "outputs": [
    {
     "data": {
      "text/plain": [
       "298"
      ]
     },
     "execution_count": 55,
     "metadata": {},
     "output_type": "execute_result"
    }
   ],
   "source": [
    "b-a"
   ]
  },
  {
   "cell_type": "code",
   "execution_count": 56,
   "id": "4b5a490b-d0be-4f7b-af9c-3dc0b9909087",
   "metadata": {},
   "outputs": [
    {
     "data": {
      "text/plain": [
       "38808"
      ]
     },
     "execution_count": 56,
     "metadata": {},
     "output_type": "execute_result"
    }
   ],
   "source": [
    "a*b"
   ]
  },
  {
   "cell_type": "code",
   "execution_count": 57,
   "id": "9a8c94f6-2ba3-41ef-9d54-1d4a7976f6ed",
   "metadata": {},
   "outputs": [
    {
     "data": {
      "text/plain": [
       "38808"
      ]
     },
     "execution_count": 57,
     "metadata": {},
     "output_type": "execute_result"
    }
   ],
   "source": [
    "b*a"
   ]
  },
  {
   "cell_type": "code",
   "execution_count": 58,
   "id": "0f935544-f677-4d04-aa8e-faa183077dd6",
   "metadata": {},
   "outputs": [
    {
     "data": {
      "text/plain": [
       "0.2474747474747475"
      ]
     },
     "execution_count": 58,
     "metadata": {},
     "output_type": "execute_result"
    }
   ],
   "source": [
    "a/b"
   ]
  },
  {
   "cell_type": "code",
   "execution_count": 59,
   "id": "46e4e155-0191-4c91-a40a-56059a63bdc0",
   "metadata": {},
   "outputs": [
    {
     "data": {
      "text/plain": [
       "4.040816326530612"
      ]
     },
     "execution_count": 59,
     "metadata": {},
     "output_type": "execute_result"
    }
   ],
   "source": [
    "b/a"
   ]
  },
  {
   "cell_type": "code",
   "execution_count": 61,
   "id": "dc1d5dff-ffda-4977-8d86-63ee6f9f2e30",
   "metadata": {},
   "outputs": [
    {
     "data": {
      "text/plain": [
       "98"
      ]
     },
     "execution_count": 61,
     "metadata": {},
     "output_type": "execute_result"
    }
   ],
   "source": [
    "a%b"
   ]
  },
  {
   "cell_type": "code",
   "execution_count": 62,
   "id": "11c72346-8450-4c40-89aa-f3115df7476d",
   "metadata": {},
   "outputs": [
    {
     "data": {
      "text/plain": [
       "4"
      ]
     },
     "execution_count": 62,
     "metadata": {},
     "output_type": "execute_result"
    }
   ],
   "source": [
    "b%a"
   ]
  },
  {
   "cell_type": "code",
   "execution_count": 63,
   "id": "a5441f50-b56e-4eca-80a5-7907cd859236",
   "metadata": {},
   "outputs": [
    {
     "data": {
      "text/plain": [
       "0"
      ]
     },
     "execution_count": 63,
     "metadata": {},
     "output_type": "execute_result"
    }
   ],
   "source": [
    "a//b"
   ]
  },
  {
   "cell_type": "code",
   "execution_count": 64,
   "id": "239e3035-998f-4b0b-bf35-9142291ac126",
   "metadata": {},
   "outputs": [
    {
     "data": {
      "text/plain": [
       "4"
      ]
     },
     "execution_count": 64,
     "metadata": {},
     "output_type": "execute_result"
    }
   ],
   "source": [
    "b//a"
   ]
  },
  {
   "cell_type": "code",
   "execution_count": 66,
   "id": "15d67e7b-7a7e-4924-aa64-62767141c443",
   "metadata": {},
   "outputs": [
    {
     "data": {
      "text/plain": [
       "'0b1010'"
      ]
     },
     "execution_count": 66,
     "metadata": {},
     "output_type": "execute_result"
    }
   ],
   "source": [
    "var=10\n",
    "bin(var)"
   ]
  },
  {
   "cell_type": "markdown",
   "id": "476a438a-f574-4661-8119-5138c2073cce",
   "metadata": {},
   "source": [
    "# Datasuctures"
   ]
  },
  {
   "cell_type": "markdown",
   "id": "18a0341e-99a3-45f9-a4df-4463320e2d28",
   "metadata": {},
   "source": [
    "##Strings"
   ]
  },
  {
   "cell_type": "code",
   "execution_count": 67,
   "id": "52fceb55-c09b-4318-995b-c9093d98a20d",
   "metadata": {},
   "outputs": [
    {
     "data": {
      "text/plain": [
       "str"
      ]
     },
     "execution_count": 67,
     "metadata": {},
     "output_type": "execute_result"
    }
   ],
   "source": [
    "str1= \"Welcome to Data Science Masters\"\n",
    "type(str1)"
   ]
  },
  {
   "cell_type": "code",
   "execution_count": 68,
   "id": "5be14f7b-07d7-4061-9c97-1762c07c92ad",
   "metadata": {},
   "outputs": [
    {
     "data": {
      "text/plain": [
       "'W'"
      ]
     },
     "execution_count": 68,
     "metadata": {},
     "output_type": "execute_result"
    }
   ],
   "source": [
    "str1[0]"
   ]
  },
  {
   "cell_type": "code",
   "execution_count": 69,
   "id": "1d200727-ecc4-4584-a952-26350c3a008f",
   "metadata": {},
   "outputs": [
    {
     "ename": "TypeError",
     "evalue": "'str' object does not support item assignment",
     "output_type": "error",
     "traceback": [
      "\u001b[0;31m---------------------------------------------------------------------------\u001b[0m",
      "\u001b[0;31mTypeError\u001b[0m                                 Traceback (most recent call last)",
      "Cell \u001b[0;32mIn[69], line 1\u001b[0m\n\u001b[0;32m----> 1\u001b[0m \u001b[43mstr1\u001b[49m\u001b[43m[\u001b[49m\u001b[38;5;241;43m0\u001b[39;49m\u001b[43m]\u001b[49m\u001b[38;5;241m=\u001b[39m\u001b[38;5;241m12\u001b[39m\n",
      "\u001b[0;31mTypeError\u001b[0m: 'str' object does not support item assignment"
     ]
    }
   ],
   "source": [
    "str1[0]=12\n"
   ]
  },
  {
   "cell_type": "code",
   "execution_count": 70,
   "id": "56cde0f5-41d5-4736-881a-84a298b6eddb",
   "metadata": {},
   "outputs": [],
   "source": [
    "## Strings are immutable"
   ]
  },
  {
   "cell_type": "code",
   "execution_count": 71,
   "id": "3d5ea082-4178-407c-83b1-debd8fc9fd68",
   "metadata": {},
   "outputs": [
    {
     "data": {
      "text/plain": [
       "<function str.capitalize()>"
      ]
     },
     "execution_count": 71,
     "metadata": {},
     "output_type": "execute_result"
    }
   ],
   "source": [
    "str1.capitalize"
   ]
  },
  {
   "cell_type": "code",
   "execution_count": 72,
   "id": "2321ee1c-8249-4c32-862c-2cbdf6b56022",
   "metadata": {},
   "outputs": [
    {
     "data": {
      "text/plain": [
       "<function str.upper()>"
      ]
     },
     "execution_count": 72,
     "metadata": {},
     "output_type": "execute_result"
    }
   ],
   "source": [
    "str1.upper"
   ]
  },
  {
   "cell_type": "code",
   "execution_count": 73,
   "id": "629dd6e6-14df-4476-afbe-c69b9a6fe393",
   "metadata": {},
   "outputs": [],
   "source": [
    "string = \"PW Skills Data Science\""
   ]
  },
  {
   "cell_type": "code",
   "execution_count": 74,
   "id": "2cec2ac6-899e-4db6-a93c-aa8026afc766",
   "metadata": {},
   "outputs": [
    {
     "data": {
      "text/plain": [
       "'i'"
      ]
     },
     "execution_count": 74,
     "metadata": {},
     "output_type": "execute_result"
    }
   ],
   "source": [
    "string[5]"
   ]
  },
  {
   "cell_type": "code",
   "execution_count": 77,
   "id": "93a04be9-94b6-4ee4-8d67-b3031632c56f",
   "metadata": {},
   "outputs": [
    {
     "data": {
      "text/plain": [
       "'ills Data Science'"
      ]
     },
     "execution_count": 77,
     "metadata": {},
     "output_type": "execute_result"
    }
   ],
   "source": [
    "string[5 :] ## Slice Operation\n"
   ]
  },
  {
   "cell_type": "code",
   "execution_count": 76,
   "id": "1a805e4b-4a1b-4322-be7e-f41f336388b6",
   "metadata": {},
   "outputs": [
    {
     "data": {
      "text/plain": [
       "'PW Sk'"
      ]
     },
     "execution_count": 76,
     "metadata": {},
     "output_type": "execute_result"
    }
   ],
   "source": [
    "string[ :5]"
   ]
  },
  {
   "cell_type": "code",
   "execution_count": 78,
   "id": "7df196dd-9175-4747-b6d6-a426524def07",
   "metadata": {},
   "outputs": [
    {
     "data": {
      "text/plain": [
       "'e'"
      ]
     },
     "execution_count": 78,
     "metadata": {},
     "output_type": "execute_result"
    }
   ],
   "source": [
    "string[-1]"
   ]
  },
  {
   "cell_type": "code",
   "execution_count": 79,
   "id": "eebc6d6f-81ff-4f17-9a2c-25cf5de22637",
   "metadata": {},
   "outputs": [
    {
     "data": {
      "text/plain": [
       "'Scie'"
      ]
     },
     "execution_count": 79,
     "metadata": {},
     "output_type": "execute_result"
    }
   ],
   "source": [
    "string[-7:-3]"
   ]
  },
  {
   "cell_type": "code",
   "execution_count": 81,
   "id": "281dc7f0-fe87-4be0-8cb6-dd147bfcdc2c",
   "metadata": {},
   "outputs": [
    {
     "data": {
      "text/plain": [
       "'Sci'"
      ]
     },
     "execution_count": 81,
     "metadata": {},
     "output_type": "execute_result"
    }
   ],
   "source": [
    "string[-7:18]"
   ]
  },
  {
   "cell_type": "code",
   "execution_count": 82,
   "id": "c7d0dc21-f35c-497f-8bc1-ceac40e18b11",
   "metadata": {},
   "outputs": [
    {
     "data": {
      "text/plain": [
       "''"
      ]
     },
     "execution_count": 82,
     "metadata": {},
     "output_type": "execute_result"
    }
   ],
   "source": [
    "string[-7:5]"
   ]
  },
  {
   "cell_type": "code",
   "execution_count": 83,
   "id": "a41879d6-2241-4c0b-9169-a19e23c3bf32",
   "metadata": {},
   "outputs": [
    {
     "data": {
      "text/plain": [
       "'PW Skills Data Science'"
      ]
     },
     "execution_count": 83,
     "metadata": {},
     "output_type": "execute_result"
    }
   ],
   "source": [
    "string[::]"
   ]
  },
  {
   "cell_type": "code",
   "execution_count": 84,
   "id": "134ba957-ec8a-442b-94d2-120284624236",
   "metadata": {},
   "outputs": [
    {
     "data": {
      "text/plain": [
       "'ecneicS ataD sllikS WP'"
      ]
     },
     "execution_count": 84,
     "metadata": {},
     "output_type": "execute_result"
    }
   ],
   "source": [
    "string[::-1]"
   ]
  },
  {
   "cell_type": "code",
   "execution_count": 85,
   "id": "a17d2412-de8e-4a4b-acb8-d2321be46d6c",
   "metadata": {},
   "outputs": [
    {
     "data": {
      "text/plain": [
       "'eniSaa liSW'"
      ]
     },
     "execution_count": 85,
     "metadata": {},
     "output_type": "execute_result"
    }
   ],
   "source": [
    "string[::-2]"
   ]
  },
  {
   "cell_type": "code",
   "execution_count": 87,
   "id": "f1f01bb2-ebc4-4aed-bb4e-4c5e8727b2eb",
   "metadata": {},
   "outputs": [
    {
     "data": {
      "text/plain": [
       "'P klsDt cec'"
      ]
     },
     "execution_count": 87,
     "metadata": {},
     "output_type": "execute_result"
    }
   ],
   "source": [
    "string[::2]"
   ]
  },
  {
   "cell_type": "code",
   "execution_count": 88,
   "id": "23f7fa10-ab1b-4572-b257-e3c03123373f",
   "metadata": {},
   "outputs": [
    {
     "data": {
      "text/plain": [
       "'PSl tSee'"
      ]
     },
     "execution_count": 88,
     "metadata": {},
     "output_type": "execute_result"
    }
   ],
   "source": [
    "string[::3]"
   ]
  },
  {
   "cell_type": "code",
   "execution_count": 90,
   "id": "15550371-a6a2-4256-91a3-93c5ca24c25d",
   "metadata": {},
   "outputs": [
    {
     "data": {
      "text/plain": [
       "'kS WP'"
      ]
     },
     "execution_count": 90,
     "metadata": {},
     "output_type": "execute_result"
    }
   ],
   "source": [
    "string[4::-1]"
   ]
  },
  {
   "cell_type": "code",
   "execution_count": 91,
   "id": "acc9c23f-62e7-48d6-9fef-b6c75a00cec3",
   "metadata": {},
   "outputs": [
    {
     "data": {
      "text/plain": [
       "'S WP'"
      ]
     },
     "execution_count": 91,
     "metadata": {},
     "output_type": "execute_result"
    }
   ],
   "source": [
    "string[3::-1]"
   ]
  },
  {
   "cell_type": "code",
   "execution_count": 92,
   "id": "c0567695-d9ae-48fd-a35f-2d96fb160288",
   "metadata": {},
   "outputs": [
    {
     "data": {
      "text/plain": [
       "'S '"
      ]
     },
     "execution_count": 92,
     "metadata": {},
     "output_type": "execute_result"
    }
   ],
   "source": [
    "string[3:1:-1]"
   ]
  },
  {
   "cell_type": "code",
   "execution_count": 95,
   "id": "61bbae74-0c32-427b-ab31-8bdb33ca53e0",
   "metadata": {},
   "outputs": [
    {
     "data": {
      "text/plain": [
       "'c'"
      ]
     },
     "execution_count": 95,
     "metadata": {},
     "output_type": "execute_result"
    }
   ],
   "source": [
    "str1[3:2:-1]"
   ]
  },
  {
   "cell_type": "code",
   "execution_count": 97,
   "id": "3a0c6e50-5954-4f58-97b7-1818f4b12007",
   "metadata": {},
   "outputs": [],
   "source": [
    "course_name=\" Data Science Masters\"\n"
   ]
  },
  {
   "cell_type": "code",
   "execution_count": 100,
   "id": "a369514a-2969-403e-8f59-d3038793fd84",
   "metadata": {},
   "outputs": [
    {
     "data": {
      "text/plain": [
       "' Science'"
      ]
     },
     "execution_count": 100,
     "metadata": {},
     "output_type": "execute_result"
    }
   ],
   "source": [
    "course_name[5:13]"
   ]
  },
  {
   "cell_type": "code",
   "execution_count": 101,
   "id": "f9ec3dae-97ec-4588-a1aa-1d3708350713",
   "metadata": {},
   "outputs": [
    {
     "data": {
      "text/plain": [
       "''"
      ]
     },
     "execution_count": 101,
     "metadata": {},
     "output_type": "execute_result"
    }
   ],
   "source": [
    "course_name[5:13:-1]"
   ]
  },
  {
   "cell_type": "code",
   "execution_count": 102,
   "id": "0c8306e9-7cc2-4591-bde0-0fa77d3187cd",
   "metadata": {},
   "outputs": [
    {
     "data": {
      "text/plain": [
       "'ecneicS '"
      ]
     },
     "execution_count": 102,
     "metadata": {},
     "output_type": "execute_result"
    }
   ],
   "source": [
    "course_name[12:4:-1]"
   ]
  },
  {
   "cell_type": "code",
   "execution_count": 104,
   "id": "5eeeee46-3f86-4c0a-8d9f-8fc66878f36b",
   "metadata": {},
   "outputs": [
    {
     "data": {
      "text/plain": [
       "'sretsaM '"
      ]
     },
     "execution_count": 104,
     "metadata": {},
     "output_type": "execute_result"
    }
   ],
   "source": [
    "course_name[20:12:-1]"
   ]
  },
  {
   "cell_type": "code",
   "execution_count": 105,
   "id": "eb7bce85-ed84-45d0-b423-d61e7c225979",
   "metadata": {},
   "outputs": [
    {
     "data": {
      "text/plain": [
       "' Data Science Masters Data Science Masters Data Science Masters Data Science Masters Data Science Masters'"
      ]
     },
     "execution_count": 105,
     "metadata": {},
     "output_type": "execute_result"
    }
   ],
   "source": [
    "course_name * 5"
   ]
  },
  {
   "cell_type": "code",
   "execution_count": 106,
   "id": "29c0da5b-11a4-478d-9ba8-0c45d51a3955",
   "metadata": {},
   "outputs": [
    {
     "name": "stdout",
     "output_type": "stream",
     "text": [
      " HellowWorld\n"
     ]
    }
   ],
   "source": [
    "print(\" Hellow\" + \"World\")"
   ]
  },
  {
   "cell_type": "code",
   "execution_count": 107,
   "id": "a3755afc-daf8-4a4d-af7d-b76bb74b611b",
   "metadata": {},
   "outputs": [
    {
     "data": {
      "text/plain": [
       "21"
      ]
     },
     "execution_count": 107,
     "metadata": {},
     "output_type": "execute_result"
    }
   ],
   "source": [
    "len(course_name)"
   ]
  },
  {
   "cell_type": "code",
   "execution_count": 108,
   "id": "ae041839-d72f-439c-a3cd-fe36de2861e3",
   "metadata": {},
   "outputs": [
    {
     "data": {
      "text/plain": [
       "10"
      ]
     },
     "execution_count": 108,
     "metadata": {},
     "output_type": "execute_result"
    }
   ],
   "source": [
    "course_name.find(\"n\")"
   ]
  },
  {
   "cell_type": "code",
   "execution_count": 110,
   "id": "5b8b2d75-7624-4f7f-bc19-2ca9d00c7307",
   "metadata": {},
   "outputs": [
    {
     "data": {
      "text/plain": [
       "2"
      ]
     },
     "execution_count": 110,
     "metadata": {},
     "output_type": "execute_result"
    }
   ],
   "source": [
    "course_name.find(\"a\")"
   ]
  },
  {
   "cell_type": "code",
   "execution_count": 112,
   "id": "67e9ba96-7338-4098-8ed0-98715447b3ee",
   "metadata": {},
   "outputs": [
    {
     "data": {
      "text/plain": [
       "4"
      ]
     },
     "execution_count": 112,
     "metadata": {},
     "output_type": "execute_result"
    }
   ],
   "source": [
    "course_name.find(\"a\",3,10)"
   ]
  },
  {
   "cell_type": "code",
   "execution_count": 114,
   "id": "fa15cd14-e90c-4136-a234-03d8a8784abe",
   "metadata": {},
   "outputs": [
    {
     "data": {
      "text/plain": [
       "3"
      ]
     },
     "execution_count": 114,
     "metadata": {},
     "output_type": "execute_result"
    }
   ],
   "source": [
    "course_name.count(\"a\")"
   ]
  },
  {
   "cell_type": "code",
   "execution_count": 115,
   "id": "19f0c005-6476-422f-9a83-be7aaf03293e",
   "metadata": {},
   "outputs": [
    {
     "data": {
      "text/plain": [
       "3"
      ]
     },
     "execution_count": 115,
     "metadata": {},
     "output_type": "execute_result"
    }
   ],
   "source": [
    "course_name.count(\" \")"
   ]
  },
  {
   "cell_type": "code",
   "execution_count": 116,
   "id": "d7433735-635d-4dc0-97d2-d8b204394abb",
   "metadata": {},
   "outputs": [
    {
     "data": {
      "text/plain": [
       "' Data Science Masters'"
      ]
     },
     "execution_count": 116,
     "metadata": {},
     "output_type": "execute_result"
    }
   ],
   "source": [
    "course_name"
   ]
  },
  {
   "cell_type": "code",
   "execution_count": 117,
   "id": "d49f77ce-c8dd-4ec2-abf0-66e4ebbfbb9c",
   "metadata": {},
   "outputs": [
    {
     "data": {
      "text/plain": [
       "22"
      ]
     },
     "execution_count": 117,
     "metadata": {},
     "output_type": "execute_result"
    }
   ],
   "source": [
    "course_name.count(\"\")"
   ]
  },
  {
   "cell_type": "code",
   "execution_count": 119,
   "id": "ad8f3de7-4d57-4854-a793-f461eb074338",
   "metadata": {},
   "outputs": [
    {
     "ename": "ValueError",
     "evalue": "empty separator",
     "output_type": "error",
     "traceback": [
      "\u001b[0;31m---------------------------------------------------------------------------\u001b[0m",
      "\u001b[0;31mValueError\u001b[0m                                Traceback (most recent call last)",
      "Cell \u001b[0;32mIn[119], line 1\u001b[0m\n\u001b[0;32m----> 1\u001b[0m \u001b[43mcourse_name\u001b[49m\u001b[38;5;241;43m.\u001b[39;49m\u001b[43msplit\u001b[49m\u001b[43m(\u001b[49m\u001b[38;5;124;43m\"\u001b[39;49m\u001b[38;5;124;43m\"\u001b[39;49m\u001b[43m)\u001b[49m\n",
      "\u001b[0;31mValueError\u001b[0m: empty separator"
     ]
    }
   ],
   "source": [
    "course_name.split(\"\")"
   ]
  },
  {
   "cell_type": "code",
   "execution_count": 120,
   "id": "669bd502-23b9-4176-b97d-8a00407ba51b",
   "metadata": {},
   "outputs": [
    {
     "data": {
      "text/plain": [
       "['', 'Data', 'Science', 'Masters']"
      ]
     },
     "execution_count": 120,
     "metadata": {},
     "output_type": "execute_result"
    }
   ],
   "source": [
    "course_name.split(\" \")"
   ]
  },
  {
   "cell_type": "code",
   "execution_count": 121,
   "id": "18520418-139b-4856-b955-416d68b113c7",
   "metadata": {},
   "outputs": [
    {
     "data": {
      "text/plain": [
       "[' D', 't', ' Science M', 'sters']"
      ]
     },
     "execution_count": 121,
     "metadata": {},
     "output_type": "execute_result"
    }
   ],
   "source": [
    "course_name.split(\"a\")"
   ]
  },
  {
   "cell_type": "code",
   "execution_count": 122,
   "id": "02b7aea1-c413-4519-b0fb-928dcf4c1f8c",
   "metadata": {},
   "outputs": [
    {
     "data": {
      "text/plain": [
       "(' D', 'a', 'ta Science Masters')"
      ]
     },
     "execution_count": 122,
     "metadata": {},
     "output_type": "execute_result"
    }
   ],
   "source": [
    "course_name.partition(\"a\")"
   ]
  },
  {
   "cell_type": "code",
   "execution_count": 123,
   "id": "afa51297-3fb4-47c3-b7b9-42a15120534f",
   "metadata": {},
   "outputs": [
    {
     "data": {
      "text/plain": [
       "' DATA SCIENCE MASTERS'"
      ]
     },
     "execution_count": 123,
     "metadata": {},
     "output_type": "execute_result"
    }
   ],
   "source": [
    "course_name.upper()"
   ]
  },
  {
   "cell_type": "code",
   "execution_count": 124,
   "id": "3b7d5b3f-0d49-4117-bb0c-6dc44319b99f",
   "metadata": {},
   "outputs": [
    {
     "data": {
      "text/plain": [
       "' data science masters'"
      ]
     },
     "execution_count": 124,
     "metadata": {},
     "output_type": "execute_result"
    }
   ],
   "source": [
    "course_name.lower()"
   ]
  },
  {
   "cell_type": "code",
   "execution_count": 125,
   "id": "156f0003-b645-42ff-acaf-c09abb00bbd2",
   "metadata": {},
   "outputs": [
    {
     "data": {
      "text/plain": [
       "' dATA sCIENCE mASTERS'"
      ]
     },
     "execution_count": 125,
     "metadata": {},
     "output_type": "execute_result"
    }
   ],
   "source": [
    "course_name.swapcase()"
   ]
  },
  {
   "cell_type": "code",
   "execution_count": 127,
   "id": "1d743895-ce44-4d53-b824-3145575cc381",
   "metadata": {},
   "outputs": [
    {
     "data": {
      "text/plain": [
       "' Data Science Masters'"
      ]
     },
     "execution_count": 127,
     "metadata": {},
     "output_type": "execute_result"
    }
   ],
   "source": [
    "course_name.title() # Make the first letter of each word capital"
   ]
  },
  {
   "cell_type": "code",
   "execution_count": null,
   "id": "b9a1623b-91b0-4318-8b25-fb0716fbf96e",
   "metadata": {},
   "outputs": [],
   "source": []
  }
 ],
 "metadata": {
  "kernelspec": {
   "display_name": "Python 3 (ipykernel)",
   "language": "python",
   "name": "python3"
  },
  "language_info": {
   "codemirror_mode": {
    "name": "ipython",
    "version": 3
   },
   "file_extension": ".py",
   "mimetype": "text/x-python",
   "name": "python",
   "nbconvert_exporter": "python",
   "pygments_lexer": "ipython3",
   "version": "3.10.8"
  }
 },
 "nbformat": 4,
 "nbformat_minor": 5
}
